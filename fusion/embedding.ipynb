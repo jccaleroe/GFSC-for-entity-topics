{
 "cells": [
  {
   "cell_type": "code",
   "execution_count": 1,
   "metadata": {
    "collapsed": true
   },
   "outputs": [],
   "source": [
    "import json\n",
    "from gensim import corpora\n",
    "import numpy as np\n",
    "\n",
    "with open('profiles/profiles_adj/topicTree.nodes.json', 'r') as read_file:\n",
    "    adj = json.load(read_file)\n",
    "with open('profiles/profiles_loc/topicTree.nodes.json', 'r') as read_file:\n",
    "    loc = json.load(read_file)\n",
    "with open('profiles/profiles_misc/topicTree.nodes.json', 'r') as read_file:\n",
    "    misc = json.load(read_file)\n",
    "with open('profiles/profiles_noun/topicTree.nodes.json', 'r') as read_file:\n",
    "    noun = json.load(read_file)\n",
    "with open('profiles/profiles_org/topicTree.nodes.json', 'r') as read_file:\n",
    "    org = json.load(read_file)\n",
    "with open('profiles/profiles_per/topicTree.nodes.json', 'r') as read_file:\n",
    "    per = json.load(read_file)\n",
    "with open('profiles/profiles_propn/topicTree.nodes.json', 'r') as read_file:\n",
    "    propn = json.load(read_file)\n",
    "with open('profiles/profiles_verb/topicTree.nodes.json', 'r') as read_file:\n",
    "    verb = json.load(read_file)\n",
    "tree_types = [adj, loc, misc, noun, org, per, propn, verb]"
   ]
  },
  {
   "cell_type": "code",
   "execution_count": 2,
   "outputs": [],
   "source": [
    "topic_words = []\n",
    "\n",
    "def dfs(node):\n",
    "    children = node['children']\n",
    "    for child in children:\n",
    "        topic_words.append(child['text'].split(' '))\n",
    "        dfs(child)\n",
    "\n",
    "for i in tree_types:\n",
    "    for j in i:\n",
    "        topic_words.append(j['text'].split(' '))\n",
    "        dfs(j)"
   ],
   "metadata": {
    "collapsed": false,
    "pycharm": {
     "name": "#%%\n"
    }
   }
  },
  {
   "cell_type": "code",
   "execution_count": 4,
   "outputs": [
    {
     "name": "stdout",
     "output_type": "stream",
     "text": [
      "733\n",
      "4757\n"
     ]
    }
   ],
   "source": [
    "dic = corpora.Dictionary(topic_words)\n",
    "print(dic.num_docs)\n",
    "print(dic.num_pos)"
   ],
   "metadata": {
    "collapsed": false,
    "pycharm": {
     "name": "#%%\n"
    }
   }
  },
  {
   "cell_type": "code",
   "execution_count": 5,
   "outputs": [],
   "source": [
    "word_dict = {}\n",
    "for i in dic.iteritems():\n",
    "    word_dict[i[1]] = i[0]"
   ],
   "metadata": {
    "collapsed": false,
    "pycharm": {
     "name": "#%%\n"
    }
   }
  },
  {
   "cell_type": "code",
   "execution_count": 7,
   "outputs": [],
   "source": [
    "def dfs(node, graph, parents):\n",
    "    for p in parents:\n",
    "        for p2 in parents:\n",
    "            if p != p2:\n",
    "                graph[p][p2] = 2\n",
    "\n",
    "    children = node['children']\n",
    "    for child in children:\n",
    "        child_words = []\n",
    "        for h in child['text'].split(' '):\n",
    "            child_words.append(word_dict[h])\n",
    "        for p in parents:\n",
    "            for k in child_words:\n",
    "                graph[p][k] = 1\n",
    "        dfs(child, graph, child_words)"
   ],
   "metadata": {
    "collapsed": false,
    "pycharm": {
     "name": "#%%\n"
    }
   }
  },
  {
   "cell_type": "code",
   "execution_count": 8,
   "outputs": [],
   "source": [
    "graphs = []\n",
    "current_graph = np.zeros((dic.num_pos, dic.num_pos))\n",
    "graphs.append(current_graph)\n",
    "for i in tree_types:\n",
    "    for j in i:\n",
    "        current_parents = []\n",
    "        for word in j['text'].split(' '):\n",
    "            current_parents.append(word_dict[word])\n",
    "        dfs(j, current_graph, current_parents)"
   ],
   "metadata": {
    "collapsed": false,
    "pycharm": {
     "name": "#%%\n"
    }
   }
  },
  {
   "cell_type": "code",
   "execution_count": null,
   "outputs": [],
   "source": [
    "graphs = []\n",
    "for i in tree_types:\n",
    "    current_graph = np.zeros((dic.num_pos, dic.num_pos))\n",
    "    graphs.append(current_graph)\n",
    "    for j in i:\n",
    "        current_parents = []\n",
    "        for word in j['text'].split(' '):\n",
    "            current_parents.append(word_dict[word])\n",
    "        dfs(j, current_graph, current_parents)"
   ],
   "metadata": {
    "collapsed": false,
    "pycharm": {
     "name": "#%%\n"
    }
   }
  },
  {
   "cell_type": "code",
   "execution_count": 10,
   "outputs": [],
   "source": [
    "i = 0\n",
    "for g in graphs:\n",
    "    with open(\"single_matrix/view\" + str(i) + \".npy\", 'wb') as f:\n",
    "        np.save(f, g)\n",
    "    i += 1"
   ],
   "metadata": {
    "collapsed": false,
    "pycharm": {
     "name": "#%%\n"
    }
   }
  }
 ],
 "metadata": {
  "kernelspec": {
   "display_name": "Python 3",
   "language": "python",
   "name": "python3"
  },
  "language_info": {
   "codemirror_mode": {
    "name": "ipython",
    "version": 2
   },
   "file_extension": ".py",
   "mimetype": "text/x-python",
   "name": "python",
   "nbconvert_exporter": "python",
   "pygments_lexer": "ipython2",
   "version": "2.7.6"
  }
 },
 "nbformat": 4,
 "nbformat_minor": 0
}