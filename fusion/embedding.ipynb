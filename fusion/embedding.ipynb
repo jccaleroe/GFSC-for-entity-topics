{
 "cells": [
  {
   "cell_type": "code",
   "execution_count": null,
   "outputs": [],
   "source": [
    "import json\n",
    "import numpy as np\n",
    "import csv\n",
    "from collections import deque"
   ],
   "metadata": {
    "collapsed": false,
    "pycharm": {
     "name": "#%%\n"
    }
   }
  },
  {
   "cell_type": "code",
   "execution_count": 2,
   "outputs": [],
   "source": [
    "trees = {}\n",
    "root_nodes = {}\n",
    "nodes = {}\n",
    "words_dic = {}\n",
    "nodes_words = {}\n",
    "prefixes = ['propn', 'adj', 'loc', 'misc', 'noun', 'org', 'per', 'verb']\n",
    "\n",
    "def load_nodes():\n",
    "    n = 0\n",
    "    root_n = 0\n",
    "    cnt = 0\n",
    "    for prefix in prefixes:\n",
    "        with open('profiles/profiles_' + prefix + '/topicTree.nodes.json', 'r') as read_file:\n",
    "            j_nodes = json.load(read_file)\n",
    "        q = deque()\n",
    "        for node in j_nodes:\n",
    "            root_nodes[prefix + node['id']] = root_n\n",
    "            root_n += 1\n",
    "            q.append(node)\n",
    "\n",
    "        while len(q) > 0:\n",
    "            node = q.popleft()\n",
    "            nodes[prefix + node['id']] = n\n",
    "            n += 1\n",
    "            nodes_words[prefix + node['id']] = node['text'].split(' ')\n",
    "            for word in node['text'].split(' '):\n",
    "                if not word in words_dic:\n",
    "                    words_dic[word] = cnt\n",
    "                    cnt += 1\n",
    "            for child in node['children']:\n",
    "                q.append(child)\n",
    "\n",
    "        trees[prefix] = j_nodes\n",
    "\n",
    "load_nodes()"
   ],
   "metadata": {
    "collapsed": false,
    "pycharm": {
     "name": "#%%\n"
    }
   }
  },
  {
   "cell_type": "code",
   "execution_count": 3,
   "outputs": [],
   "source": [
    "assignments = {}\n",
    "\n",
    "def load_assignments():\n",
    "    for prefix in prefixes:\n",
    "        with open('profiles/profiles_' + prefix + '/myAssignment.topics.json', 'r') as read_file:\n",
    "            j_nodes = json.load(read_file)\n",
    "        for node in j_nodes:\n",
    "            topic = node['topic']\n",
    "            assignments[prefix + topic] = {}\n",
    "            for doc in node['doc']:\n",
    "                assignments[prefix + topic][int(doc[0])] = doc[1]\n",
    "\n",
    "load_assignments()"
   ],
   "metadata": {
    "collapsed": false,
    "pycharm": {
     "name": "#%%\n"
    }
   }
  },
  {
   "cell_type": "code",
   "execution_count": 4,
   "outputs": [],
   "source": [
    "data_files = {}\n",
    "\n",
    "def load_data_files():\n",
    "    cnt = 0\n",
    "    with open('profiles/profiles_propn/myData.files.txt', 'r') as read_file:\n",
    "        tmp = read_file.read().split('\\n')\n",
    "    for i in tmp:\n",
    "        data_files[cnt] = i\n",
    "        cnt += 1\n",
    "\n",
    "load_data_files()"
   ],
   "metadata": {
    "collapsed": false,
    "pycharm": {
     "name": "#%%\n"
    }
   }
  },
  {
   "cell_type": "code",
   "execution_count": 5,
   "outputs": [],
   "source": [
    "tf_idf = {}\n",
    "\n",
    "def load_words():\n",
    "    for prefix in prefixes:\n",
    "        with open('profiles/profiles_' + prefix + '/myData.dict.csv', 'r') as read_file:\n",
    "            tmp = {}\n",
    "            for tfidf in csv.reader(read_file):\n",
    "                tmp[tfidf[0]] = tfidf[3]\n",
    "            tf_idf[prefix] = tmp\n",
    "\n",
    "load_words()"
   ],
   "metadata": {
    "collapsed": false,
    "pycharm": {
     "name": "#%%\n"
    }
   }
  },
  {
   "cell_type": "code",
   "execution_count": 6,
   "outputs": [],
   "source": [
    "def save_np(folder, matrix, view_id):\n",
    "    m_min = matrix.min()\n",
    "    m_max = matrix.max()\n",
    "    matrix -= m_min\n",
    "    matrix /= (m_max - m_min)\n",
    "    matrix *= 2\n",
    "    matrix -= 1\n",
    "    with open(folder + view_id + \".npy\", 'wb') as f:\n",
    "        np.save(f, matrix)"
   ],
   "metadata": {
    "collapsed": false,
    "pycharm": {
     "name": "#%%\n"
    }
   }
  },
  {
   "cell_type": "code",
   "execution_count": 27,
   "outputs": [],
   "source": [
    "def get_views_by_node():\n",
    "    view_files = np.zeros((len(nodes), len(data_files)))\n",
    "    view_words = np.zeros((len(nodes), len(words_dic)))\n",
    "    for node in nodes:\n",
    "        for file in assignments[node]:\n",
    "            view_files[nodes[node]][file] = assignments[node][file]\n",
    "        for word in nodes_words[node]:\n",
    "            view_words[nodes[node]][words_dic[word]] = tf_idf[node[:node.index('Z')]][word]\n",
    "    save_np('views/nodes/', view_words, 'words_' + 'nodes')\n",
    "    save_np('views/nodes/', view_files, 'files_' + 'nodes')\n",
    "\n",
    "get_views_by_node()"
   ],
   "metadata": {
    "collapsed": false,
    "pycharm": {
     "name": "#%%\n"
    }
   }
  },
  {
   "cell_type": "code",
   "execution_count": 7,
   "outputs": [],
   "source": [
    "def set_assignments_by_level(roots, view_id):\n",
    "    view_files = np.zeros((len(root_nodes), len(data_files)))\n",
    "    for root in roots:\n",
    "        for file in assignments[roots[root]]:\n",
    "            view_files[root_nodes[root]][file] = assignments[roots[root]][file]\n",
    "    save_np('views/all/', view_files, 'files_' + view_id)"
   ],
   "metadata": {
    "collapsed": false,
    "pycharm": {
     "name": "#%%\n"
    }
   }
  },
  {
   "cell_type": "code",
   "execution_count": 8,
   "outputs": [],
   "source": [
    "def set_words_by_level(roots, view_id):\n",
    "    view_words = np.zeros((len(root_nodes), len(words_dic)))\n",
    "    for root in roots:\n",
    "        for word in nodes_words[roots[root]]:\n",
    "            view_words[root_nodes[root]][words_dic[word]] = tf_idf[root[:root.index('Z')]][word]\n",
    "    save_np('views/all/', view_words, 'words_' + view_id)"
   ],
   "metadata": {
    "collapsed": false,
    "pycharm": {
     "name": "#%%\n"
    }
   }
  },
  {
   "cell_type": "code",
   "execution_count": 9,
   "outputs": [
    {
     "name": "stdout",
     "output_type": "stream",
     "text": [
      "1\n",
      "15\n"
     ]
    }
   ],
   "source": [
    "def get_views_by_level():\n",
    "    queues = {}\n",
    "    for prefix in prefixes:\n",
    "        for node in trees[prefix]:\n",
    "            q_id = prefix + node['id']\n",
    "            queues[q_id] = []\n",
    "            queues[q_id].append(node)\n",
    "            # for child in node['children']:\n",
    "            #     queues[q_id].append(child)\n",
    "    level = 0\n",
    "    keep = True\n",
    "    while keep:\n",
    "        keep = False\n",
    "        view_by_level(queues, level)\n",
    "        for q in queues:\n",
    "            tmp = []\n",
    "            for node in queues[q]:\n",
    "                for child in node['children']:\n",
    "                    tmp.append(child)\n",
    "            if len(tmp) > 0:\n",
    "                keep = True\n",
    "            queues[q] = tmp\n",
    "        level += 1\n",
    "\n",
    "def view_by_level(queues, level):\n",
    "    max_q = 0\n",
    "    for q in queues:\n",
    "        max_q = max(max_q, len(queues[q]))\n",
    "    print(max_q)\n",
    "    for i in range(max_q):\n",
    "        roots = {}\n",
    "        for root in root_nodes:\n",
    "            if i < len(queues[root]):\n",
    "                roots[root] = root[:root.index('Z')] + queues[root][i]['id']\n",
    "        set_assignments_by_level(roots, str(level) + '_' + str(i))\n",
    "        set_words_by_level(roots, str(level) + '_' + str(i))\n",
    "\n",
    "get_views_by_level()"
   ],
   "metadata": {
    "collapsed": false,
    "pycharm": {
     "name": "#%%\n"
    }
   }
  },
  {
   "cell_type": "code",
   "execution_count": 29,
   "outputs": [],
   "source": [
    "def decode_words_view(folder, nodes_id, view_id):\n",
    "    with open(folder + \"words_\" + view_id + \".npy\", 'rb') as f:\n",
    "        view = np.load(f)\n",
    "    for node in nodes_id:\n",
    "        print('\\n', node, nodes_id[node])\n",
    "        for word in words_dic:\n",
    "            if view[nodes_id[node]][words_dic[word]] != -1:\n",
    "                print(word, end=', ')"
   ],
   "metadata": {
    "collapsed": false,
    "pycharm": {
     "name": "#%%\n"
    }
   }
  },
  {
   "cell_type": "code",
   "execution_count": 34,
   "outputs": [],
   "source": [
    "def decode_files_view(folder, nodes_id, view_id):\n",
    "    with open(folder + \"files_\" + view_id + \".npy\", 'rb') as f:\n",
    "        view = np.load(f)\n",
    "    for node in nodes_id:\n",
    "        print('\\n', node, nodes_id[node])\n",
    "        for file in data_files:\n",
    "            if view[nodes_id[node]][file] != -1:\n",
    "                print(file, end=', ')\n"
   ],
   "metadata": {
    "collapsed": false,
    "pycharm": {
     "name": "#%%\n"
    }
   }
  },
  {
   "cell_type": "code",
   "execution_count": 37,
   "outputs": [],
   "source": [
    "#decode_files_view('views/nodes/', nodes, 'nodes')"
   ],
   "metadata": {
    "collapsed": false,
    "pycharm": {
     "name": "#%%\n"
    }
   }
  },
  {
   "cell_type": "code",
   "execution_count": 38,
   "outputs": [],
   "source": [
    "#decode_words_view('views/nodes/', nodes, 'nodes')"
   ],
   "metadata": {
    "collapsed": false,
    "pycharm": {
     "name": "#%%\n"
    }
   }
  }
 ],
 "metadata": {
  "kernelspec": {
   "display_name": "Python 3",
   "language": "python",
   "name": "python3"
  },
  "language_info": {
   "codemirror_mode": {
    "name": "ipython",
    "version": 2
   },
   "file_extension": ".py",
   "mimetype": "text/x-python",
   "name": "python",
   "nbconvert_exporter": "python",
   "pygments_lexer": "ipython2",
   "version": "2.7.6"
  }
 },
 "nbformat": 4,
 "nbformat_minor": 0
}