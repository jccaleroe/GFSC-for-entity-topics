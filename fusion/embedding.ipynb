{
 "cells": [
  {
   "cell_type": "code",
   "execution_count": 1,
   "metadata": {
    "collapsed": true
   },
   "outputs": [],
   "source": [
    "import json\n",
    "import numpy as np\n",
    "import csv"
   ]
  },
  {
   "cell_type": "code",
   "execution_count": 2,
   "outputs": [],
   "source": [
    "trees = {}\n",
    "root_nodes = {}\n",
    "root2id = {}\n",
    "root2prefix = {}\n",
    "prefixes = ['propn', 'adj', 'loc', 'misc', 'noun', 'org', 'per', 'verb']\n",
    "\n",
    "def load_nodes():\n",
    "    n = 0\n",
    "    for prefix in prefixes:\n",
    "        with open('profiles/profiles_' + prefix + '/topicTree.nodes.json', 'r') as read_file:\n",
    "            nodes = json.load(read_file)\n",
    "        for node in nodes:\n",
    "            root_nodes[prefix + node['id']] = n\n",
    "            root2id[prefix + node['id']] = node['id']\n",
    "            root2prefix[prefix + node['id']] = prefix\n",
    "            n += 1\n",
    "        trees[prefix] = nodes\n",
    "\n",
    "load_nodes()"
   ],
   "metadata": {
    "collapsed": false,
    "pycharm": {
     "name": "#%%\n"
    }
   }
  },
  {
   "cell_type": "code",
   "execution_count": 3,
   "outputs": [],
   "source": [
    "assignments = {}\n",
    "\n",
    "def load_assignments():\n",
    "    for prefix in prefixes:\n",
    "        with open('profiles/profiles_' + prefix + '/myAssignment.topics.json', 'r') as read_file:\n",
    "            nodes = json.load(read_file)\n",
    "        d = {}\n",
    "        for node in nodes:\n",
    "            topic = node['topic']\n",
    "            d[topic] = {}\n",
    "            for doc in node['doc']:\n",
    "                d[topic][int(doc[0])] = doc[1]\n",
    "        assignments[prefix] = d\n",
    "\n",
    "load_assignments()"
   ],
   "metadata": {
    "collapsed": false,
    "pycharm": {
     "name": "#%%\n"
    }
   }
  },
  {
   "cell_type": "code",
   "execution_count": 4,
   "outputs": [],
   "source": [
    "def load_data_files():\n",
    "    cnt = 0\n",
    "    files = {}\n",
    "    with open('profiles/profiles_propn/myData.files.txt', 'r') as read_file:\n",
    "        tmp = read_file.read().split('\\n')\n",
    "    for i in tmp:\n",
    "        files[cnt] = i\n",
    "        cnt += 1\n",
    "    return files\n",
    "\n",
    "data_files = load_data_files()"
   ],
   "metadata": {
    "collapsed": false,
    "pycharm": {
     "name": "#%%\n"
    }
   }
  },
  {
   "cell_type": "code",
   "execution_count": 5,
   "outputs": [],
   "source": [
    "tf_idf = {}\n",
    "\n",
    "def load_words():\n",
    "    for prefix in prefixes:\n",
    "        with open('profiles/profiles_' + prefix + '/myData.dict.csv', 'r') as read_file:\n",
    "            tmp = {}\n",
    "            for tfidf in csv.reader(read_file):\n",
    "                tmp[tfidf[0]] = tfidf[3]\n",
    "            tf_idf[prefix] = tmp\n",
    "\n",
    "load_words()"
   ],
   "metadata": {
    "collapsed": false,
    "pycharm": {
     "name": "#%%\n"
    }
   }
  },
  {
   "cell_type": "code",
   "execution_count": 6,
   "outputs": [],
   "source": [
    "words_dic = {}\n",
    "nodes_words = {}\n",
    "from collections import deque\n",
    "\n",
    "def get_words_dic():\n",
    "    cnt = 0\n",
    "    q = deque()\n",
    "    prefix_q = deque()\n",
    "    for prefix in prefixes:\n",
    "        nodes_words[prefix] = {}\n",
    "        for node in trees[prefix]:\n",
    "            q.append(node)\n",
    "            prefix_q.append(prefix)\n",
    "\n",
    "    while len(q) > 0:\n",
    "        node = q.pop()\n",
    "        p = prefix_q.pop()\n",
    "        nodes_words[p][node['id']] = node['text'].split(' ')\n",
    "        for word in node['text'].split(' '):\n",
    "            if not word in words_dic:\n",
    "                words_dic[word] = cnt\n",
    "                cnt += 1\n",
    "        for child in node['children']:\n",
    "            q.append(child)\n",
    "            prefix_q.append(p)\n",
    "\n",
    "get_words_dic()"
   ],
   "metadata": {
    "collapsed": false,
    "pycharm": {
     "name": "#%%\n"
    }
   }
  },
  {
   "cell_type": "code",
   "execution_count": 7,
   "outputs": [],
   "source": [
    "def set_assignments(roots, view_id):\n",
    "    view_files = np.zeros((len(root_nodes), len(data_files)))\n",
    "    for root in roots:\n",
    "        for file in assignments[root2prefix[root]][roots[root]]:\n",
    "            view_files[root_nodes[root]][file] = assignments[root2prefix[root]][roots[root]][file]\n",
    "    with open(\"views/files_\" + view_id + \".npy\", 'wb') as f:\n",
    "        np.save(f, view_files)"
   ],
   "metadata": {
    "collapsed": false,
    "pycharm": {
     "name": "#%%\n"
    }
   }
  },
  {
   "cell_type": "code",
   "execution_count": 8,
   "outputs": [],
   "source": [
    "def set_words(roots, view_id):\n",
    "    view_words = np.zeros((len(root_nodes), len(words_dic)))\n",
    "    for root in roots:\n",
    "        for word in nodes_words[root2prefix[root]][roots[root]]:\n",
    "            view_words[root_nodes[root]][words_dic[word]] = tf_idf[root2prefix[root]][word]\n",
    "    with open(\"views/words_\" + view_id + \".npy\", 'wb') as f:\n",
    "        np.save(f, view_words)\n"
   ],
   "metadata": {
    "collapsed": false,
    "pycharm": {
     "name": "#%%\n"
    }
   }
  },
  {
   "cell_type": "code",
   "execution_count": 9,
   "outputs": [
    {
     "name": "stdout",
     "output_type": "stream",
     "text": [
      "15\n"
     ]
    }
   ],
   "source": [
    "def get_views():\n",
    "    set_assignments(root2id, '0_0')\n",
    "    set_words(root2id, '0_0')\n",
    "\n",
    "    queues = {}\n",
    "    for prefix in prefixes:\n",
    "        for node in trees[prefix]:\n",
    "            q_id = prefix + node['id']\n",
    "            queues[q_id] = []\n",
    "            for child in node['children']:\n",
    "                queues[q_id].append(child)\n",
    "    level = 0\n",
    "    keep = True\n",
    "    while keep:\n",
    "        keep = False\n",
    "        level += 1\n",
    "        view_by_level(queues, level)\n",
    "        for q in queues:\n",
    "            tmp = []\n",
    "            for node in queues[q]:\n",
    "                for child in node['children']:\n",
    "                    tmp.append(child)\n",
    "            if len(tmp) > 0:\n",
    "                keep = True\n",
    "            queues[q] = tmp\n",
    "\n",
    "def view_by_level(queues, level):\n",
    "    max_q = 0\n",
    "    for q in queues:\n",
    "        max_q = max(max_q, len(queues[q]))\n",
    "    print(max_q)\n",
    "    for i in range(max_q):\n",
    "        roots = {}\n",
    "        for root in root_nodes:\n",
    "            if i < len(queues[root]):\n",
    "                roots[root] = queues[root][i]['id']\n",
    "        set_assignments(roots, str(level) + '_' + str(i))\n",
    "        set_words(roots, str(level) + '_' + str(i))\n",
    "\n",
    "get_views()"
   ],
   "metadata": {
    "collapsed": false,
    "pycharm": {
     "name": "#%%\n"
    }
   }
  },
  {
   "cell_type": "code",
   "execution_count": 10,
   "outputs": [],
   "source": [
    "def decode_words_view(level, row):\n",
    "    with open(\"views/words_\" + str(level) + \"_\" + str(row) + \".npy\", 'rb') as f:\n",
    "        view = np.load(f)\n",
    "    for root in root_nodes:\n",
    "        print('\\n', root)\n",
    "        for word in words_dic:\n",
    "            if view[root_nodes[root]][words_dic[word]] != 0:\n",
    "                print(word, view[root_nodes[root]][words_dic[word]], end=', ')"
   ],
   "metadata": {
    "collapsed": false,
    "pycharm": {
     "name": "#%%\n"
    }
   }
  },
  {
   "cell_type": "code",
   "execution_count": 11,
   "outputs": [],
   "source": [
    "def decode_files_view(level, row):\n",
    "    with open(\"views/files_\" + str(level) + \"_\" + str(row) + \".npy\", 'rb') as f:\n",
    "        view = np.load(f)\n",
    "    for root in root_nodes:\n",
    "        print('\\n', root)\n",
    "        for file in data_files:\n",
    "            if view[root_nodes[root]][file] != 0:\n",
    "                print(file, view[root_nodes[root]][file], end=', ')"
   ],
   "metadata": {
    "collapsed": false,
    "pycharm": {
     "name": "#%%\n"
    }
   }
  }
 ],
 "metadata": {
  "kernelspec": {
   "display_name": "Python 3",
   "language": "python",
   "name": "python3"
  },
  "language_info": {
   "codemirror_mode": {
    "name": "ipython",
    "version": 2
   },
   "file_extension": ".py",
   "mimetype": "text/x-python",
   "name": "python",
   "nbconvert_exporter": "python",
   "pygments_lexer": "ipython2",
   "version": "2.7.6"
  }
 },
 "nbformat": 4,
 "nbformat_minor": 0
}