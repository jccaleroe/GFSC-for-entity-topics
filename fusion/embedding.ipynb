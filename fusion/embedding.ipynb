{
 "cells": [
  {
   "cell_type": "code",
   "execution_count": 1,
   "outputs": [],
   "source": [
    "import json\n",
    "import numpy as np\n",
    "import csv\n",
    "from collections import deque"
   ],
   "metadata": {
    "collapsed": false,
    "pycharm": {
     "name": "#%%\n"
    }
   }
  },
  {
   "cell_type": "code",
   "execution_count": 2,
   "outputs": [],
   "source": [
    "trees = {}\n",
    "root_nodes = {}\n",
    "nodes = {}\n",
    "words_dic = {}\n",
    "node_words = {}\n",
    "prefixes = ['propn', 'verb', 'org', 'loc', 'per', 'adj', 'noun']\n",
    "node_parent = {}\n",
    "node_level = {}\n",
    "node_children = {}\n",
    "\n",
    "def load_nodes():\n",
    "    n = 0\n",
    "    root_n = 0\n",
    "    cnt = 0\n",
    "    for prefix in prefixes:\n",
    "        with open('profiles/profiles_' + prefix + '/topicTree.nodes.json', 'r') as read_file:\n",
    "            j_nodes = json.load(read_file)\n",
    "        q = deque()\n",
    "        for node in j_nodes:\n",
    "            root_nodes[prefix + node['id']] = root_n\n",
    "            node_parent[prefix + node['id']] = ['ROOT']\n",
    "            root_n += 1\n",
    "            q.append(node)\n",
    "\n",
    "        while len(q) > 0:\n",
    "            node = q.popleft()\n",
    "            node_id = prefix + node['id']\n",
    "            nodes[node_id] = n\n",
    "            n += 1\n",
    "            node_words[node_id] = node['text'].split(' ')\n",
    "            node_level[node_id] = node['data']['level']\n",
    "            node_children[node_id] = []\n",
    "            for word in node['text'].split(' '):\n",
    "                if not word in words_dic:\n",
    "                    words_dic[word] = cnt\n",
    "                    cnt += 1\n",
    "            for child in node['children']:\n",
    "                node_parent[prefix + child['id']] = [node_id]\n",
    "                node_children[node_id].append(prefix + child['id'])\n",
    "                q.append(child)\n",
    "\n",
    "        trees[prefix] = j_nodes\n",
    "\n",
    "load_nodes()"
   ],
   "metadata": {
    "collapsed": false,
    "pycharm": {
     "name": "#%%\n"
    }
   }
  },
  {
   "cell_type": "code",
   "execution_count": 3,
   "outputs": [],
   "source": [
    "assignments = {}\n",
    "\n",
    "def load_assignments():\n",
    "    for prefix in prefixes:\n",
    "        with open('profiles/profiles_' + prefix + '/myAssignment.topics.json', 'r') as read_file:\n",
    "            j_nodes = json.load(read_file)\n",
    "        for node in j_nodes:\n",
    "            topic = node['topic']\n",
    "            assignments[prefix + topic] = {}\n",
    "            for doc in node['doc']:\n",
    "                assignments[prefix + topic][int(doc[0])] = doc[1]\n",
    "\n",
    "load_assignments()"
   ],
   "metadata": {
    "collapsed": false,
    "pycharm": {
     "name": "#%%\n"
    }
   }
  },
  {
   "cell_type": "code",
   "execution_count": 4,
   "outputs": [],
   "source": [
    "data_files = {}\n",
    "\n",
    "def load_data_files():\n",
    "    cnt = 0\n",
    "    with open('profiles/profiles_verb/myData.files.txt', 'r') as read_file:\n",
    "        tmp = read_file.read().split('\\n')\n",
    "    for i in tmp:\n",
    "        data_files[cnt] = i\n",
    "        cnt += 1\n",
    "\n",
    "load_data_files()"
   ],
   "metadata": {
    "collapsed": false,
    "pycharm": {
     "name": "#%%\n"
    }
   }
  },
  {
   "cell_type": "code",
   "execution_count": 5,
   "outputs": [],
   "source": [
    "tf_idf = {}\n",
    "\n",
    "def load_words():\n",
    "    for prefix in prefixes:\n",
    "        with open('profiles/profiles_' + prefix + '/myData.dict.csv', 'r') as read_file:\n",
    "            tmp = {}\n",
    "            for tfidf in csv.reader(read_file):\n",
    "                tmp[tfidf[0]] = tfidf[3]\n",
    "            tf_idf[prefix] = tmp\n",
    "\n",
    "load_words()"
   ],
   "metadata": {
    "collapsed": false,
    "pycharm": {
     "name": "#%%\n"
    }
   }
  },
  {
   "cell_type": "code",
   "execution_count": 6,
   "outputs": [],
   "source": [
    "def save_np(folder, matrix, view_id):\n",
    "    m_min = matrix.min()\n",
    "    m_max = matrix.max()\n",
    "    matrix -= m_min\n",
    "    matrix /= (m_max - m_min)\n",
    "    matrix *= 2\n",
    "    matrix -= 1\n",
    "    with open(folder + view_id + \".npy\", 'wb') as f:\n",
    "        np.save(f, matrix)"
   ],
   "metadata": {
    "collapsed": false,
    "pycharm": {
     "name": "#%%\n"
    }
   }
  },
  {
   "cell_type": "code",
   "execution_count": 7,
   "outputs": [],
   "source": [
    "def get_views_by_node():\n",
    "    view_files = np.zeros((len(nodes), len(data_files)))\n",
    "    view_words = np.zeros((len(nodes), len(words_dic)))\n",
    "    for node in nodes:\n",
    "        for file in assignments[node]:\n",
    "            view_files[nodes[node]][file] = assignments[node][file]\n",
    "        for word in node_words[node]:\n",
    "            view_words[nodes[node]][words_dic[word]] = tf_idf[node[:node.index('Z')]][word]\n",
    "    save_np('views/profiles/', view_words, 'words_' + 'nodes')\n",
    "    save_np('views/profiles/', view_files, 'files_' + 'nodes')"
   ],
   "metadata": {
    "collapsed": false,
    "pycharm": {
     "name": "#%%\n"
    }
   }
  },
  {
   "cell_type": "code",
   "execution_count": 8,
   "outputs": [],
   "source": [
    "def set_assignments_by_level(roots, view_id):\n",
    "    view_files = np.zeros((len(root_nodes), len(data_files)))\n",
    "    for root in roots:\n",
    "        for file in assignments[roots[root]]:\n",
    "            view_files[root_nodes[root]][file] = assignments[roots[root]][file]\n",
    "    save_np('views/all/', view_files, 'files_' + view_id)"
   ],
   "metadata": {
    "collapsed": false,
    "pycharm": {
     "name": "#%%\n"
    }
   }
  },
  {
   "cell_type": "code",
   "execution_count": 9,
   "outputs": [],
   "source": [
    "def set_words_by_level(roots, view_id):\n",
    "    view_words = np.zeros((len(root_nodes), len(words_dic)))\n",
    "    for root in roots:\n",
    "        for word in node_words[roots[root]]:\n",
    "            view_words[root_nodes[root]][words_dic[word]] = tf_idf[root[:root.index('Z')]][word]\n",
    "    save_np('views/all/', view_words, 'words_' + view_id)"
   ],
   "metadata": {
    "collapsed": false,
    "pycharm": {
     "name": "#%%\n"
    }
   }
  },
  {
   "cell_type": "code",
   "execution_count": 10,
   "outputs": [],
   "source": [
    "def get_views_by_level():\n",
    "    queues = {}\n",
    "    for prefix in prefixes:\n",
    "        for node in trees[prefix]:\n",
    "            q_id = prefix + node['id']\n",
    "            queues[q_id] = []\n",
    "            queues[q_id].append(node)\n",
    "    level = 0\n",
    "    keep = True\n",
    "    while keep:\n",
    "        keep = False\n",
    "        view_by_level(queues, level)\n",
    "        for q in queues:\n",
    "            tmp = []\n",
    "            for node in queues[q]:\n",
    "                for child in node['children']:\n",
    "                    tmp.append(child)\n",
    "            if len(tmp) > 0:\n",
    "                keep = True\n",
    "            queues[q] = tmp\n",
    "        level += 1\n",
    "\n",
    "def view_by_level(queues, level):\n",
    "    max_q = 0\n",
    "    for q in queues:\n",
    "        max_q = max(max_q, len(queues[q]))\n",
    "    print(max_q)\n",
    "    for i in range(max_q):\n",
    "        roots = {}\n",
    "        for root in root_nodes:\n",
    "            if i < len(queues[root]):\n",
    "                roots[root] = root[:root.index('Z')] + queues[root][i]['id']\n",
    "        set_assignments_by_level(roots, str(level) + '_' + str(i))\n",
    "        set_words_by_level(roots, str(level) + '_' + str(i))\n",
    "\n",
    "# get_views_by_level()"
   ],
   "metadata": {
    "collapsed": false,
    "pycharm": {
     "name": "#%%\n"
    }
   }
  },
  {
   "cell_type": "code",
   "execution_count": 11,
   "outputs": [],
   "source": [
    "def decode_words_view(folder, nodes_id, view_id):\n",
    "    with open(folder + \"words_\" + view_id + \".npy\", 'rb') as f:\n",
    "        view = np.load(f)\n",
    "    for node in nodes_id:\n",
    "        print('\\n', node, nodes_id[node])\n",
    "        for word in words_dic:\n",
    "            if view[nodes_id[node]][words_dic[word]] != -1:\n",
    "                print(word, end=', ')\n",
    "\n",
    "def decode_files_view(folder, nodes_id, view_id):\n",
    "    with open(folder + \"files_\" + view_id + \".npy\", 'rb') as f:\n",
    "        view = np.load(f)\n",
    "    for node in nodes_id:\n",
    "        print('\\n', node, nodes_id[node])\n",
    "        for file in data_files:\n",
    "            if view[nodes_id[node]][file] != -1:\n",
    "                print(file, end=', ')\n",
    "\n",
    "#decode_files_view('views/nodes/', nodes, 'nodes')\n",
    "#decode_words_view('views/nodes/', nodes, 'nodes')"
   ],
   "metadata": {
    "collapsed": false,
    "pycharm": {
     "name": "#%%\n"
    }
   }
  },
  {
   "cell_type": "code",
   "execution_count": 12,
   "outputs": [],
   "source": [
    "id2node = {}\n",
    "\n",
    "def get_ids2nodes():\n",
    "    for i in nodes:\n",
    "        id2node[nodes[i]] = i\n",
    "get_ids2nodes()\n",
    "\n",
    "def read_results(name):\n",
    "    with open(name, 'rb') as f:\n",
    "        return np.load(f)"
   ],
   "metadata": {
    "collapsed": false,
    "pycharm": {
     "name": "#%%\n"
    }
   }
  },
  {
   "cell_type": "code",
   "execution_count": 13,
   "outputs": [],
   "source": [
    "def process_clusters(clusters):\n",
    "    d = {}\n",
    "    cnt = 0\n",
    "    for i in clusters:\n",
    "        if i in d:\n",
    "            d[i].append(cnt)\n",
    "        else:\n",
    "            d[i] = [cnt]\n",
    "        cnt += 1\n",
    "\n",
    "    cnt = 0\n",
    "    for c_id in d:\n",
    "        groups = {}\n",
    "        for i in d[c_id]:\n",
    "            name = id2node[i]\n",
    "            level = node_level[name]\n",
    "            if level in groups:\n",
    "                groups[level].append(name)\n",
    "            else:\n",
    "                groups[level] = []\n",
    "                groups[level].append(name)\n",
    "\n",
    "        for level in groups:\n",
    "            if len(groups[level]) <= 1:\n",
    "                continue\n",
    "            s = set()\n",
    "            for node in groups[level]:\n",
    "                s.add(node_parent[node][0])\n",
    "            if len(s) == 1 and list(s)[0] != 'ROOT':\n",
    "                continue\n",
    "            u_name = 'U' + str(cnt)\n",
    "            node_parent[u_name] = []\n",
    "            node_children[u_name] = []\n",
    "            cnt += 1\n",
    "            for node in groups[level]:\n",
    "                node_parent[node] = [u_name]\n",
    "                node_children[u_name].append(node)\n",
    "            for parent in s:\n",
    "                node_parent[u_name].append(parent)\n",
    "                if parent != 'ROOT':\n",
    "                    for node in groups[level]:\n",
    "                        if node in node_children[parent]:\n",
    "                            node_children[parent].remove(node)\n",
    "                    node_children[parent].append(u_name)\n",
    "\n",
    "            node_words[u_name] = set()\n",
    "            i = 0\n",
    "            while True:\n",
    "                no_more = True\n",
    "                for node in groups[level]:\n",
    "                    if len(node_words[node]) > i:\n",
    "                        no_more = False\n",
    "                        node_words[u_name].add(node_words[node][i])\n",
    "                        if len(node_words[u_name]) >= 7:\n",
    "                            break\n",
    "                if len(node_words[u_name]) >= 7 or no_more:\n",
    "                    break\n",
    "                i += 1"
   ],
   "metadata": {
    "collapsed": false,
    "pycharm": {
     "name": "#%%\n"
    }
   }
  },
  {
   "cell_type": "code",
   "execution_count": 14,
   "outputs": [],
   "source": [
    "html = []\n",
    "\n",
    "def html_dfs(node):\n",
    "    words = node + ': ' + ' '.join(node_words[node])\n",
    "    if len(node_children[node]) == 0:\n",
    "        html.append('<li>' + words + '</li>')\n",
    "    else:\n",
    "        html.append('<li>' + words + '<ul>')\n",
    "        for child in node_children[node]:\n",
    "            html_dfs(child)\n",
    "        html.append('</ul></li>')\n",
    "\n",
    "def create_topic_graph(name):\n",
    "    global html\n",
    "    cnt = 0\n",
    "    for node in node_parent:\n",
    "        if len(node_parent[node]) == 1 and node_parent[node][0] == 'ROOT':\n",
    "            cnt += 1\n",
    "            html_dfs(node)\n",
    "    with open('graphs/' + name + '.html', 'w') as f:\n",
    "        f.write('\\n'.join(html))\n",
    "    html = []\n",
    "    print(cnt, \"trees created\")"
   ],
   "metadata": {
    "collapsed": false,
    "pycharm": {
     "name": "#%%\n"
    }
   }
  },
  {
   "cell_type": "code",
   "execution_count": 15,
   "outputs": [],
   "source": [
    "# get_views_by_node()"
   ],
   "metadata": {
    "collapsed": false,
    "pycharm": {
     "name": "#%%\n"
    }
   }
  },
  {
   "cell_type": "code",
   "execution_count": 16,
   "outputs": [
    {
     "name": "stdout",
     "output_type": "stream",
     "text": [
      "32 trees created\n"
     ]
    }
   ],
   "source": [
    "process_clusters(read_results('clusters/profiles_70_0.1_1000.0_0.01.npy'))\n",
    "create_topic_graph('fusion_70')"
   ],
   "metadata": {
    "collapsed": false,
    "pycharm": {
     "name": "#%%\n"
    }
   }
  }
 ],
 "metadata": {
  "kernelspec": {
   "display_name": "Python 3",
   "language": "python",
   "name": "python3"
  },
  "language_info": {
   "codemirror_mode": {
    "name": "ipython",
    "version": 2
   },
   "file_extension": ".py",
   "mimetype": "text/x-python",
   "name": "python",
   "nbconvert_exporter": "python",
   "pygments_lexer": "ipython2",
   "version": "2.7.6"
  }
 },
 "nbformat": 4,
 "nbformat_minor": 0
}