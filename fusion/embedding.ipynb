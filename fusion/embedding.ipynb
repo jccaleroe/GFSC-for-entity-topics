{
 "cells": [
  {
   "cell_type": "code",
   "execution_count": 1,
   "outputs": [],
   "source": [
    "import csv\n",
    "import json\n",
    "from collections import deque\n",
    "\n",
    "import numpy as np"
   ],
   "metadata": {
    "collapsed": false,
    "pycharm": {
     "name": "#%%\n"
    }
   }
  },
  {
   "cell_type": "code",
   "execution_count": 2,
   "outputs": [],
   "source": [
    "prefixes = ['propn', 'verb', 'org', 'loc', 'per', 'adj', 'noun']"
   ],
   "metadata": {
    "collapsed": false,
    "pycharm": {
     "name": "#%%\n"
    }
   }
  },
  {
   "cell_type": "code",
   "execution_count": 3,
   "outputs": [],
   "source": [
    "def load_nodes():\n",
    "    cnt = 0\n",
    "    for prefix in prefixes:\n",
    "        with open('profiles/profiles_' + prefix + '/topicTree.nodes.json', 'r') as read_file:\n",
    "            j_nodes = json.load(read_file)\n",
    "        q = deque()\n",
    "        for node in j_nodes:\n",
    "            node_parent[prefix + node['id']] = ['ROOT']\n",
    "            q.append(node)\n",
    "\n",
    "        while len(q) > 0:\n",
    "            node = q.popleft()\n",
    "            node_id = prefix + node['id']\n",
    "            nodes[node_id] = len(nodes)\n",
    "            node_words[node_id] = node['text'].split(' ')\n",
    "            node_level[node_id] = node['data']['level']\n",
    "            node_children[node_id] = []\n",
    "            for word in node['text'].split(' '):\n",
    "                if not word in words_dic:\n",
    "                    words_dic[word] = cnt\n",
    "                    cnt += 1\n",
    "            for child in node['children']:\n",
    "                node_parent[prefix + child['id']] = [node_id]\n",
    "                node_children[node_id].append(prefix + child['id'])\n",
    "                q.append(child)"
   ],
   "metadata": {
    "collapsed": false,
    "pycharm": {
     "name": "#%%\n"
    }
   }
  },
  {
   "cell_type": "code",
   "execution_count": 4,
   "outputs": [],
   "source": [
    "def load_assignments():\n",
    "    for prefix in prefixes:\n",
    "        with open('profiles/profiles_' + prefix + '/myAssignment.topics.json', 'r') as read_file:\n",
    "            j_nodes = json.load(read_file)\n",
    "        for node in j_nodes:\n",
    "            topic = node['topic']\n",
    "            assignments[prefix + topic] = {}\n",
    "            for doc in node['doc']:\n",
    "                assignments[prefix + topic][int(doc[0])] = doc[1]"
   ],
   "metadata": {
    "collapsed": false,
    "pycharm": {
     "name": "#%%\n"
    }
   }
  },
  {
   "cell_type": "code",
   "execution_count": 5,
   "outputs": [],
   "source": [
    "def load_data_files():\n",
    "    cnt = 0\n",
    "    with open('profiles/profiles_verb/myData.files.txt', 'r') as read_file:\n",
    "        tmp = read_file.read().split('\\n')\n",
    "    for i in tmp:\n",
    "        data_files[cnt] = i\n",
    "        cnt += 1"
   ],
   "metadata": {
    "collapsed": false,
    "pycharm": {
     "name": "#%%\n"
    }
   }
  },
  {
   "cell_type": "code",
   "execution_count": 6,
   "outputs": [],
   "source": [
    "def load_words():\n",
    "    for prefix in prefixes:\n",
    "        with open('profiles/profiles_' + prefix + '/myData.dict.csv', 'r') as read_file:\n",
    "            tmp = {}\n",
    "            for tfidf in csv.reader(read_file):\n",
    "                tmp[tfidf[0]] = tfidf[3]\n",
    "            tf_idf[prefix] = tmp"
   ],
   "metadata": {
    "collapsed": false,
    "pycharm": {
     "name": "#%%\n"
    }
   }
  },
  {
   "cell_type": "code",
   "execution_count": 7,
   "outputs": [],
   "source": [
    "def save_np(folder, matrix, view_id):\n",
    "    m_min = matrix.min()\n",
    "    m_max = matrix.max()\n",
    "    matrix -= m_min\n",
    "    matrix /= (m_max - m_min)\n",
    "    matrix *= 2\n",
    "    matrix -= 1\n",
    "    with open(folder + view_id + \".npy\", 'wb') as f:\n",
    "        np.save(f, matrix)"
   ],
   "metadata": {
    "collapsed": false,
    "pycharm": {
     "name": "#%%\n"
    }
   }
  },
  {
   "cell_type": "code",
   "execution_count": 8,
   "outputs": [],
   "source": [
    "def get_views_by_node():\n",
    "    view_files = np.zeros((len(nodes), len(data_files)))\n",
    "    view_words = np.zeros((len(nodes), len(words_dic)))\n",
    "    for node in nodes:\n",
    "        for file in assignments[node]:\n",
    "            view_files[nodes[node]][file] = assignments[node][file]\n",
    "        for word in node_words[node]:\n",
    "            view_words[nodes[node]][words_dic[word]] = tf_idf[node[:node.index('Z')]][word]\n",
    "    save_np('views/profiles/', view_words, 'words_' + 'nodes')\n",
    "    save_np('views/profiles/', view_files, 'files_' + 'nodes')"
   ],
   "metadata": {
    "collapsed": false,
    "pycharm": {
     "name": "#%%\n"
    }
   }
  },
  {
   "cell_type": "code",
   "execution_count": 9,
   "outputs": [],
   "source": [
    "def get_ids2nodes():\n",
    "    for i in nodes:\n",
    "        id2node[nodes[i]] = i\n",
    "\n",
    "def read_results(name):\n",
    "    with open(name, 'rb') as f:\n",
    "        return np.load(f)"
   ],
   "metadata": {
    "collapsed": false,
    "pycharm": {
     "name": "#%%\n"
    }
   }
  },
  {
   "cell_type": "code",
   "execution_count": 10,
   "outputs": [],
   "source": [
    "def process_clusters(clusters):\n",
    "    d = {}\n",
    "    cnt = 0\n",
    "    for i in clusters:\n",
    "        if i in d:\n",
    "            d[i].append(cnt)\n",
    "        else:\n",
    "            d[i] = [cnt]\n",
    "        cnt += 1\n",
    "\n",
    "    cnt = 0\n",
    "    for c_id in d:\n",
    "        groups = {}\n",
    "        for i in d[c_id]:\n",
    "            name = id2node[i]\n",
    "            level = node_level[name]\n",
    "            node_group[name] = c_id\n",
    "            if level in groups:\n",
    "                groups[level].append(name)\n",
    "            else:\n",
    "                groups[level] = []\n",
    "                groups[level].append(name)\n",
    "\n",
    "        for level in groups:\n",
    "            if len(groups[level]) <= 1:\n",
    "                continue\n",
    "            s = set()\n",
    "            for node in groups[level]:\n",
    "                s.add(node_parent[node][0])\n",
    "            if len(s) == 1 and list(s)[0] != 'ROOT':\n",
    "                continue\n",
    "            u_name = 'U' + str(cnt)\n",
    "            node_parent[u_name] = []\n",
    "            node_children[u_name] = []\n",
    "            cnt += 1\n",
    "            nodes[u_name] = len(nodes)\n",
    "            node_group[u_name] = c_id\n",
    "            for node in groups[level]:\n",
    "                node_parent[node] = [u_name]\n",
    "                node_children[u_name].append(node)\n",
    "            for parent in s:\n",
    "                node_parent[u_name].append(parent)\n",
    "                if parent != 'ROOT':\n",
    "                    for node in groups[level]:\n",
    "                        if node in node_children[parent]:\n",
    "                            node_children[parent].remove(node)\n",
    "                    node_children[parent].append(u_name)\n",
    "\n",
    "            node_words[u_name] = set()\n",
    "            i = 0\n",
    "            while True:\n",
    "                no_more = True\n",
    "                for node in groups[level]:\n",
    "                    if len(node_words[node]) > i:\n",
    "                        no_more = False\n",
    "                        node_words[u_name].add(node_words[node][i])\n",
    "                        if len(node_words[u_name]) >= 7:\n",
    "                            break\n",
    "                if len(node_words[u_name]) >= 7 or no_more:\n",
    "                    break\n",
    "                i += 1"
   ],
   "metadata": {
    "collapsed": false,
    "pycharm": {
     "name": "#%%\n"
    }
   }
  },
  {
   "cell_type": "code",
   "execution_count": 11,
   "outputs": [],
   "source": [
    "html = []\n",
    "def html_dfs(node):\n",
    "    words = node + ': ' + ' '.join(node_words[node])\n",
    "    if len(node_children[node]) == 0:\n",
    "        html.append('<li>' + words + '</li>')\n",
    "    else:\n",
    "        html.append('<li>' + words + '<ul>')\n",
    "        for child in node_children[node]:\n",
    "            html_dfs(child)\n",
    "        html.append('</ul></li>')\n",
    "\n",
    "def create_topics_html_lists(name):\n",
    "    global html\n",
    "    cnt = 0\n",
    "    for node in node_parent:\n",
    "        if len(node_parent[node]) == 1 and node_parent[node][0] == 'ROOT':\n",
    "            cnt += 1\n",
    "            html_dfs(node)\n",
    "    with open('graphs/html/' + name + '.html', 'w') as f:\n",
    "        f.write('\\n'.join(html))\n",
    "    html = []\n",
    "    print(cnt, \"trees created\")"
   ],
   "metadata": {
    "collapsed": false,
    "pycharm": {
     "name": "#%%\n"
    }
   }
  },
  {
   "cell_type": "code",
   "execution_count": 12,
   "outputs": [],
   "source": [
    "def create_topics_d3(name, expanded):\n",
    "    graph = {\"nodes\": {}, \"links\": []}\n",
    "    for node in nodes:\n",
    "        words = ' '.join(node_words[node])\n",
    "        is_root = False\n",
    "        if len(node_parent[node]) == 1 and node_parent[node][0] == 'ROOT':\n",
    "            is_root = True\n",
    "        d = {\"id\":node, \"name\":words, \"group\":int(node_group[node]),\n",
    "             \"isRoot\":expanded or is_root, \"children\":node_children[node], \"expanded\":expanded}\n",
    "        graph[\"nodes\"][node] = d\n",
    "        if expanded:\n",
    "            for child in node_children:\n",
    "                 graph[\"links\"].append((dict([('id', node+'-'+child), (\"source\", node), (\"target\", child)])))\n",
    "    with open(\"graphs/\" + name, \"w\") as fp:\n",
    "        json.dump(graph, fp, indent=2)"
   ],
   "metadata": {
    "collapsed": false,
    "pycharm": {
     "name": "#%%\n"
    }
   }
  },
  {
   "cell_type": "code",
   "execution_count": 18,
   "outputs": [],
   "source": [
    "def create_topics_gephi(name):\n",
    "    colors = {}\n",
    "    r, g, b, rr, gr, br, cnt = 80, 70, 60, 80, 70, 60, 0\n",
    "    for i in node_group.values():\n",
    "        if i not in colors:\n",
    "            color = '{:02x}'.format(r) if cnt < 4 else '00'\n",
    "            color += '{:02x}'.format(g) if cnt % 2 == 0 else '00'\n",
    "            color += '{:02x}'.format(b) if 1 < cnt < 6 else '00'\n",
    "            cnt += 1\n",
    "            if cnt == 7:\n",
    "                r = (r + rr) % 256\n",
    "                g = (g + gr) % 256\n",
    "                b = (b + br) % 256\n",
    "                cnt = 0\n",
    "            colors[i] = color\n",
    "\n",
    "    graph = ['graph [ directed 1']\n",
    "    for node in nodes:\n",
    "        words = ' '.join(node_words[node])\n",
    "        graph.append('node [')\n",
    "        graph.append('id ' + str(nodes[node]))\n",
    "        graph.append('label \"' + words + '\"')\n",
    "        graph.append('graphics [fill \"#' + colors[node_group[node]] + '\"]]')\n",
    "    for node in node_children:\n",
    "        for child in node_children[node]:\n",
    "            graph.append('edge [')\n",
    "            graph.append('source ' + str(nodes[node]))\n",
    "            graph.append('target ' + str(nodes[child]) + ' ]')\n",
    "    graph.append(']')\n",
    "    with open('graphs/gephi/' + name + '.gml', 'w') as f:\n",
    "        f.write('\\n'.join(graph))"
   ],
   "metadata": {
    "collapsed": false,
    "pycharm": {
     "name": "#%%\n"
    }
   }
  },
  {
   "cell_type": "code",
   "execution_count": 20,
   "outputs": [],
   "source": [
    "nodes, words_dic, node_words = {}, {}, {}\n",
    "node_parent, node_level, node_children = {}, {}, {}\n",
    "id2node, node_group, data_files, assignments, tf_idf = {}, {}, {}, {}, {}\n",
    "load_nodes()\n",
    "load_assignments()\n",
    "load_data_files()\n",
    "load_words()\n",
    "get_ids2nodes()\n",
    "# get_views_by_node()\n",
    "process_clusters(read_results('clusters/profiles_70_0.1_1000.0_0.01.npy'))\n",
    "create_topics_gephi('silla_vacia')\n",
    "# create_topics_html_lists('fusion_70')\n",
    "# create_topics_d3(\"graphs/d3/graph_expanded.json\", False)"
   ],
   "metadata": {
    "collapsed": false,
    "pycharm": {
     "name": "#%%\n"
    }
   }
  }
 ],
 "metadata": {
  "kernelspec": {
   "display_name": "Python 3",
   "language": "python",
   "name": "python3"
  },
  "language_info": {
   "codemirror_mode": {
    "name": "ipython",
    "version": 2
   },
   "file_extension": ".py",
   "mimetype": "text/x-python",
   "name": "python",
   "nbconvert_exporter": "python",
   "pygments_lexer": "ipython2",
   "version": "2.7.6"
  }
 },
 "nbformat": 4,
 "nbformat_minor": 0
}