{
 "cells": [
  {
   "cell_type": "code",
   "execution_count": 1,
   "metadata": {
    "collapsed": true
   },
   "outputs": [],
   "source": [
    "import tensorflow as tf\n",
    "import numpy as np"
   ]
  },
  {
   "cell_type": "code",
   "execution_count": 27,
   "outputs": [],
   "source": [
    "X = []\n",
    "t = 1\n",
    "steps = 1\n",
    "for i in range(t):\n",
    "    with open(\"matrices/view\" + str(i) + \".npy\", 'rb') as f:\n",
    "        X.append(tf.cast(tf.sparse.from_dense(np.load(f)), dtype=tf.float32))"
   ],
   "metadata": {
    "collapsed": false,
    "pycharm": {
     "name": "#%%\n"
    }
   }
  },
  {
   "cell_type": "code",
   "execution_count": 35,
   "outputs": [],
   "source": [
    "v_shape = X[0].shape\n",
    "alpha = 0.01\n",
    "beta = 100\n",
    "gamma = 0.01\n",
    "wv = [1.0 / t for i in range(t)]\n",
    "I = tf.eye(v_shape[0], dtype=tf.float32)\n",
    "Z = [0 for i in range(t)]"
   ],
   "metadata": {
    "collapsed": false,
    "pycharm": {
     "name": "#%%\n"
    }
   }
  },
  {
   "cell_type": "code",
   "execution_count": 36,
   "outputs": [
    {
     "name": "stdout",
     "output_type": "stream",
     "text": [
      "tf.Tensor(\n",
      "[[ 9.0061547e-03 -5.1752904e-05 -5.1753359e-05 ...  0.0000000e+00\n",
      "   0.0000000e+00  0.0000000e+00]\n",
      " [-5.1752842e-05  9.0831965e-03 -8.1681297e-04 ...  0.0000000e+00\n",
      "   0.0000000e+00  0.0000000e+00]\n",
      " [-5.1752864e-05 -8.1681245e-04  9.0832021e-03 ...  0.0000000e+00\n",
      "   0.0000000e+00  0.0000000e+00]\n",
      " ...\n",
      " [ 0.0000000e+00  0.0000000e+00  0.0000000e+00 ...  9.9989995e-03\n",
      "   0.0000000e+00  0.0000000e+00]\n",
      " [ 0.0000000e+00  0.0000000e+00  0.0000000e+00 ...  0.0000000e+00\n",
      "   9.9989995e-03  0.0000000e+00]\n",
      " [ 0.0000000e+00  0.0000000e+00  0.0000000e+00 ...  0.0000000e+00\n",
      "   0.0000000e+00  9.9989995e-03]], shape=(4757, 4757), dtype=float32)\n"
     ]
    }
   ],
   "source": [
    "for step in range(steps):\n",
    "    for xi in range(t):\n",
    "        Xv = X[xi]\n",
    "        Z[xi] = tf.sparse.from_dense(tf.linalg.inv(\n",
    "            tf.math.add(\n",
    "                tf.math.add(\n",
    "                    tf.linalg.matmul(tf.sparse.to_dense(Xv), tf.sparse.to_dense(Xv),\n",
    "                                                          transpose_a=True, a_is_sparse=True, b_is_sparse=True),\n",
    "                    I * alpha),\n",
    "                I * beta * wv[xi])))\n",
    "\n"
   ],
   "metadata": {
    "collapsed": false,
    "pycharm": {
     "name": "#%%\n"
    }
   }
  },
  {
   "cell_type": "code",
   "execution_count": null,
   "outputs": [],
   "source": [],
   "metadata": {
    "collapsed": false,
    "pycharm": {
     "name": "#%%\n"
    }
   }
  }
 ],
 "metadata": {
  "kernelspec": {
   "display_name": "Python 3",
   "language": "python",
   "name": "python3"
  },
  "language_info": {
   "codemirror_mode": {
    "name": "ipython",
    "version": 2
   },
   "file_extension": ".py",
   "mimetype": "text/x-python",
   "name": "python",
   "nbconvert_exporter": "python",
   "pygments_lexer": "ipython2",
   "version": "2.7.6"
  }
 },
 "nbformat": 4,
 "nbformat_minor": 0
}