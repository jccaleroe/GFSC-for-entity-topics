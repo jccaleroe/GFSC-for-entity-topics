{
 "cells": [
  {
   "cell_type": "code",
   "execution_count": 1,
   "metadata": {
    "collapsed": true
   },
   "outputs": [],
   "source": [
    "import tensorflow as tf\n",
    "import numpy as np"
   ]
  },
  {
   "cell_type": "code",
   "execution_count": 2,
   "outputs": [
    {
     "name": "stdout",
     "output_type": "stream",
     "text": [
      "(5, 1200, 1200)\n"
     ]
    }
   ],
   "source": [
    "t = 5\n",
    "for i in range(t):\n",
    "    with open(\"GFSC/reuters_views/view\" + str(i) + \".npy\", 'rb') as f:\n",
    "        tmp = tf.cast([np.load(f)], dtype=tf.float32)\n",
    "        if i == 0:\n",
    "            X = tf.linalg.matmul(tmp, tmp, transpose_b=True)\n",
    "        else:\n",
    "            X = tf.concat([X, tf.linalg.matmul(tmp, tmp, transpose_b=True)], axis=0)\n",
    "print(X.shape)"
   ],
   "metadata": {
    "collapsed": false,
    "pycharm": {
     "name": "#%%\n"
    }
   }
  },
  {
   "cell_type": "code",
   "execution_count": 3,
   "outputs": [],
   "source": [
    "steps = 1\n",
    "alphas, betas, gammas = [1.0], [1000.0], [0.01]\n",
    "n = X.shape[2]\n",
    "I = tf.eye(n, dtype=tf.float32)\n"
   ],
   "metadata": {
    "collapsed": false,
    "pycharm": {
     "name": "#%%\n"
    }
   }
  },
  {
   "cell_type": "code",
   "execution_count": 4,
   "outputs": [],
   "source": [
    "@tf.function\n",
    "def fusion(S):\n",
    "    Z_sum = tf.zeros(S.shape)\n",
    "    for i in range(t):\n",
    "        Z = tf.linalg.matmul(\n",
    "                tf.linalg.inv(X[i] + I * alpha + I * beta * wv[i]),\n",
    "                S * beta * wv[i] + X[i])\n",
    "        Z = tf.where(Z[i] > 0, Z, tf.zeros(Z.shape))\n",
    "        Z = (Z + tf.transpose(Z)) / 2.0\n",
    "        wv[i].assign(0.5 / tf.norm(Z - S))\n",
    "        Z *= wv[i]\n",
    "        Z_sum += Z\n",
    "\n",
    "    L = tf.linalg.diag(tf.math.reduce_sum(S, 0)) - S\n",
    "    print('before eigh')\n",
    "    # (_, F) = tf.linalg.eigh(L)\n",
    "    F = tf.zeros(S.shape)\n",
    "\n",
    "    p = tf.norm(F[0][:] - F, axis=1, keepdims=True)\n",
    "    for i in range(1, n):\n",
    "         p = tf.concat([p, tf.norm(F[i][:] - F, axis=1, keepdims=True)], 1)\n",
    "    p = tf.math.square(p) * reg\n",
    "    S = (Z_sum - p) / tf.math.reduce_sum(wv, 0)\n",
    "    return S"
   ],
   "metadata": {
    "collapsed": false,
    "pycharm": {
     "name": "#%%\n"
    }
   }
  },
  {
   "cell_type": "code",
   "execution_count": 5,
   "outputs": [
    {
     "name": "stdout",
     "output_type": "stream",
     "text": [
      "before eigh\n",
      "tf.Tensor(\n",
      "[[ 9.8387593e-01 -1.3877200e-05 -1.7312734e-05 ...  1.0756154e-05\n",
      "  -8.0892796e-06  4.9879081e-06]\n",
      " [-1.3877200e-05  9.9306440e-01  4.0064751e-05 ... -8.1838897e-07\n",
      "   3.3399808e-06  2.6084269e-06]\n",
      " [-1.7312734e-05  4.0064751e-05  9.8380488e-01 ...  4.6950649e-06\n",
      "   5.5175570e-07 -1.8874132e-06]\n",
      " ...\n",
      " [ 1.0756154e-05 -8.1838897e-07  4.6950649e-06 ...  9.9283189e-01\n",
      "   9.8665259e-06 -1.2301878e-06]\n",
      " [-8.0892796e-06  3.3399808e-06  5.5175570e-07 ...  9.8665259e-06\n",
      "   9.9278432e-01  3.5603061e-06]\n",
      " [ 4.9879081e-06  2.6084269e-06 -1.8874132e-06 ... -1.2301878e-06\n",
      "   3.5603061e-06  9.9515927e-01]], shape=(1200, 1200), dtype=float32)\n"
     ]
    }
   ],
   "source": [
    "for a in alphas:\n",
    "    for b in betas:\n",
    "        for g in gammas:\n",
    "            alpha, beta, gamma = a, b, g\n",
    "            reg = gamma / (4.0 * beta)\n",
    "            wv = tf.Variable([1.0 / t for _ in range(t)], dtype=tf.float32)\n",
    "            S = tf.eye(n, dtype=tf.float32)\n",
    "            for step in range(steps):\n",
    "                S = tf.where(S > 0, S, tf.zeros(S.shape))\n",
    "                S = (S + tf.transpose(S)) / 2.0\n",
    "                tmp = S\n",
    "                S = fusion(S)\n",
    "                if step > 5 and tf.norm(S - tmp) / tf.norm(tmp) < 1.e-3:\n",
    "                    print('Num steps:', step)\n",
    "                    break\n",
    "            print(S)\n",
    "            with open(\"fusion_matrix/S_reuters.npy\", 'wb') as f:\n",
    "                np.save(f, S.numpy())"
   ],
   "metadata": {
    "collapsed": false,
    "pycharm": {
     "name": "#%%\n"
    }
   }
  },
  {
   "cell_type": "code",
   "execution_count": 6,
   "outputs": [],
   "source": [
    "# x = tf.constant([[[2., 16., 128.],\n",
    "#                  [4., 32., 256.],\n",
    "#                  [8., 64., 512.]]], dtype=tf.float32)"
   ],
   "metadata": {
    "collapsed": false,
    "pycharm": {
     "name": "#%%\n"
    }
   }
  }
 ],
 "metadata": {
  "kernelspec": {
   "display_name": "Python 3",
   "language": "python",
   "name": "python3"
  },
  "language_info": {
   "codemirror_mode": {
    "name": "ipython",
    "version": 2
   },
   "file_extension": ".py",
   "mimetype": "text/x-python",
   "name": "python",
   "nbconvert_exporter": "python",
   "pygments_lexer": "ipython2",
   "version": "2.7.6"
  }
 },
 "nbformat": 4,
 "nbformat_minor": 0
}