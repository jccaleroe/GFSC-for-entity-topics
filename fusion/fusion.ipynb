{
 "cells": [
  {
   "cell_type": "code",
   "execution_count": 1,
   "metadata": {
    "collapsed": true
   },
   "outputs": [],
   "source": [
    "import tensorflow as tf\n",
    "import numpy as np\n",
    "import os"
   ]
  },
  {
   "cell_type": "code",
   "execution_count": 2,
   "outputs": [],
   "source": [
    "def load_data(path):\n",
    "    x = None\n",
    "    for filename in os.listdir(path):\n",
    "        with open(os.path.join(path, filename), 'rb') as f:\n",
    "            tmp = tf.cast([np.load(f)], dtype=tf.float64)\n",
    "            if x is None:\n",
    "                x = tf.linalg.matmul(tmp, tmp, transpose_b=True)\n",
    "            else:\n",
    "                x = tf.concat([x, tf.linalg.matmul(tmp, tmp, transpose_b=True)], axis=0)\n",
    "    return x"
   ],
   "metadata": {
    "collapsed": false,
    "pycharm": {
     "name": "#%%\n"
    }
   }
  },
  {
   "cell_type": "code",
   "execution_count": 3,
   "outputs": [],
   "source": [
    "steps = 200\n",
    "alphas, betas, gammas = [1.0, 0.1], [1000.0, 2000.0, 100.0], [0.01, 0.1]"
   ],
   "metadata": {
    "collapsed": false,
    "pycharm": {
     "name": "#%%\n"
    }
   }
  },
  {
   "cell_type": "code",
   "execution_count": 4,
   "outputs": [],
   "source": [
    "def fusion(x, k, alpha, beta, gamma):\n",
    "    f = None\n",
    "    n = x.shape[1]\n",
    "    t = x.shape[0]\n",
    "    reg = gamma / (4.0 * beta)\n",
    "    wv, wv_u = tf.cast([1.0 / t for _ in range(t)], dtype=tf.float64), None\n",
    "    i_alpha = tf.math.multiply(tf.eye(n, dtype=tf.float64), alpha)\n",
    "    i_beta = tf.math.multiply(tf.eye(n, dtype=tf.float64), beta)\n",
    "    s = tf.eye(n, dtype=tf.float64)\n",
    "    for step in range(steps):\n",
    "        s = tf.where(s > 0, s, tf.zeros(s.shape, dtype=tf.float64))\n",
    "        s = tf.math.divide(tf.math.add(s, tf.transpose(s)), 2.0)\n",
    "        z_sum = tf.zeros(s.shape, dtype=tf.float64)\n",
    "        for i in range(t):\n",
    "            z = tf.linalg.solve(\n",
    "                tf.math.add(tf.math.add(x[i], i_alpha), tf.math.multiply(i_beta, wv[i])),\n",
    "                tf.math.add(tf.math.multiply(s, tf.math.multiply(wv[i], beta)), x[i]))\n",
    "            z = tf.where(z > 0, z, tf.zeros(z.shape, dtype=tf.float64))\n",
    "            z = tf.math.divide(tf.math.add(z, tf.transpose(z)), 2.0)\n",
    "            w = tf.math.divide(0.5, tf.norm(tf.math.subtract(z, s)))\n",
    "            wv_u = tf.reshape(w, [1]) if i == 0 else tf.concat([wv_u, [w]], axis=0)\n",
    "            z = tf.math.multiply(z, w)\n",
    "            z_sum = tf.math.add(z_sum, z)\n",
    "\n",
    "        l = tf.math.subtract(tf.linalg.diag(tf.math.reduce_sum(s, 0)), s)\n",
    "        (_, f) = tf.linalg.eigh(l)\n",
    "        f = tf.slice(f, [0, 0], [f.shape[0], k])\n",
    "        p = tf.norm(tf.math.subtract(f[0][:], f), axis=1, keepdims=True)\n",
    "        for i in range(1, n):\n",
    "             p = tf.concat([p, tf.norm(tf.math.subtract(f[0][:], f), axis=1, keepdims=True)], 1)\n",
    "        p = tf.math.multiply(tf.math.square(p), reg)\n",
    "        wv = wv_u\n",
    "        s_old = s\n",
    "        s = tf.math.divide((tf.math.subtract(z_sum, p)), tf.math.reduce_sum(wv, 0))\n",
    "        if step > 5 and tf.math.less(tf.math.divide(tf.norm(tf.math.subtract(s, s_old)), tf.norm(s_old)), 1.e-3):\n",
    "            print('Criterion found after', step, 'steps')\n",
    "            return f\n",
    "    return f"
   ],
   "metadata": {
    "collapsed": false,
    "pycharm": {
     "name": "#%%\n"
    }
   }
  },
  {
   "cell_type": "code",
   "execution_count": 5,
   "outputs": [],
   "source": [
    "from sklearn.cluster import KMeans\n",
    "\n",
    "def run_k_means(k, f):\n",
    "        k_means = KMeans(n_clusters=k, n_init=10).fit(f)\n",
    "        clusters = k_means.labels_\n",
    "        d = {}\n",
    "        for i in clusters:\n",
    "            if i in d:\n",
    "                d[i] += 1\n",
    "            else:\n",
    "                d[i] = 1\n",
    "        print('k:', k, '\\n', 'Clusters:', d)"
   ],
   "metadata": {
    "collapsed": false,
    "pycharm": {
     "name": "#%%\n"
    }
   }
  },
  {
   "cell_type": "code",
   "execution_count": 6,
   "outputs": [],
   "source": [
    "def run_experiments(ks, views):\n",
    "    x = load_data(views)\n",
    "    print(x.shape)\n",
    "    for k in ks:\n",
    "        for alpha in alphas:\n",
    "            for beta in betas:\n",
    "                for gamma in gammas:\n",
    "                    print('Run with parameters', alpha, beta, gamma)\n",
    "                    run_k_means(k, fusion(x, k, alpha, beta, gamma).numpy())"
   ],
   "metadata": {
    "collapsed": false,
    "pycharm": {
     "name": "#%%\n"
    }
   }
  },
  {
   "cell_type": "code",
   "execution_count": 7,
   "outputs": [
    {
     "name": "stdout",
     "output_type": "stream",
     "text": [
      "(2, 733, 733)\n",
      "Run with parameters 1.0 1000.0 0.01\n",
      "Criterion found after 6 steps\n",
      "k: 2 \n",
      " Clusters: {0: 604, 1: 129}\n",
      "Run with parameters 1.0 1000.0 0.1\n",
      "Criterion found after 6 steps\n",
      "k: 2 \n",
      " Clusters: {0: 606, 1: 127}\n",
      "Run with parameters 1.0 2000.0 0.01\n",
      "Criterion found after 6 steps\n",
      "k: 2 \n",
      " Clusters: {0: 643, 1: 90}\n",
      "Run with parameters 1.0 2000.0 0.1\n",
      "Criterion found after 6 steps\n",
      "k: 2 \n",
      " Clusters: {0: 650, 1: 83}\n",
      "Run with parameters 1.0 100.0 0.01\n",
      "Criterion found after 6 steps\n",
      "k: 2 \n",
      " Clusters: {0: 726, 1: 7}\n",
      "Run with parameters 1.0 100.0 0.1\n",
      "Criterion found after 6 steps\n",
      "k: 2 \n",
      " Clusters: {0: 726, 1: 7}\n",
      "Run with parameters 0.1 1000.0 0.01\n",
      "Criterion found after 6 steps\n",
      "k: 2 \n",
      " Clusters: {1: 275, 0: 458}\n",
      "Run with parameters 0.1 1000.0 0.1\n",
      "Criterion found after 6 steps\n",
      "k: 2 \n",
      " Clusters: {0: 245, 1: 488}\n",
      "Run with parameters 0.1 2000.0 0.01\n",
      "Criterion found after 6 steps\n",
      "k: 2 \n",
      " Clusters: {0: 577, 1: 156}\n",
      "Run with parameters 0.1 2000.0 0.1\n",
      "Criterion found after 6 steps\n",
      "k: 2 \n",
      " Clusters: {1: 577, 0: 156}\n",
      "Run with parameters 0.1 100.0 0.01\n",
      "Criterion found after 6 steps\n",
      "k: 2 \n",
      " Clusters: {0: 726, 1: 7}\n",
      "Run with parameters 0.1 100.0 0.1\n",
      "Criterion found after 6 steps\n",
      "k: 2 \n",
      " Clusters: {0: 721, 1: 12}\n",
      "Run with parameters 1.0 1000.0 0.01\n",
      "Criterion found after 6 steps\n",
      "k: 7 \n",
      " Clusters: {5: 68, 3: 17, 1: 557, 2: 46, 0: 4, 4: 29, 6: 12}\n",
      "Run with parameters 1.0 1000.0 0.1\n",
      "Criterion found after 6 steps\n",
      "k: 7 \n",
      " Clusters: {4: 578, 5: 47, 3: 17, 1: 50, 6: 4, 0: 25, 2: 12}\n",
      "Run with parameters 1.0 2000.0 0.01\n",
      "Criterion found after 6 steps\n",
      "k: 7 \n",
      " Clusters: {4: 577, 2: 18, 1: 57, 5: 23, 0: 25, 3: 25, 6: 8}\n",
      "Run with parameters 1.0 2000.0 0.1\n",
      "Criterion found after 6 steps\n",
      "k: 7 \n",
      " Clusters: {4: 613, 2: 18, 3: 46, 1: 3, 5: 20, 0: 25, 6: 8}\n",
      "Run with parameters 1.0 100.0 0.01\n",
      "Criterion found after 6 steps\n",
      "k: 7 \n",
      " Clusters: {3: 11, 0: 592, 1: 5, 4: 9, 5: 3, 6: 106, 2: 7}\n",
      "Run with parameters 1.0 100.0 0.1\n",
      "Criterion found after 6 steps\n",
      "k: 7 \n",
      " Clusters: {6: 11, 0: 23, 1: 5, 3: 674, 5: 10, 4: 3, 2: 7}\n",
      "Run with parameters 0.1 1000.0 0.01\n",
      "Criterion found after 6 steps\n",
      "k: 7 \n",
      " Clusters: {6: 11, 4: 25, 2: 17, 0: 427, 1: 234, 5: 12, 3: 7}\n",
      "Run with parameters 0.1 1000.0 0.1\n",
      "Criterion found after 6 steps\n",
      "k: 7 \n",
      " Clusters: {3: 11, 5: 27, 2: 17, 6: 215, 4: 10, 1: 446, 0: 7}\n",
      "Run with parameters 0.1 2000.0 0.01\n",
      "Criterion found after 6 steps\n",
      "k: 7 \n",
      " Clusters: {3: 23, 0: 88, 2: 18, 1: 481, 5: 27, 6: 62, 4: 34}\n",
      "Run with parameters 0.1 2000.0 0.1\n",
      "Criterion found after 6 steps\n",
      "k: 7 \n",
      " Clusters: {0: 535, 6: 9, 5: 17, 3: 35, 4: 121, 2: 12, 1: 4}\n",
      "Run with parameters 0.1 100.0 0.01\n",
      "Criterion found after 6 steps\n",
      "k: 7 \n",
      " Clusters: {2: 11, 4: 12, 0: 686, 6: 4, 5: 10, 3: 3, 1: 7}\n",
      "Run with parameters 0.1 100.0 0.1\n",
      "Criterion found after 6 steps\n",
      "k: 7 \n",
      " Clusters: {0: 687, 5: 21, 2: 3, 6: 11, 4: 8, 3: 2, 1: 1}\n"
     ]
    }
   ],
   "source": [
    "run_experiments([2, 7], 'views/nodes/both/')\n",
    "# Run with parameters 0.1 1000.0 0.01\n",
    "# k: 2\n",
    "#  Clusters: {1: 275, 0: 458}\n",
    "# Run with parameters 0.1 1000.0 0.01\n",
    "# k: 7\n",
    "#  Clusters: {6: 11, 4: 25, 2: 17, 0: 427, 1: 234, 5: 12, 3: 7}\n",
    "# Run with parameters 0.1 1000.0 0.1\n",
    "# k: 7\n",
    "#  Clusters: {3: 11, 5: 27, 2: 17, 6: 215, 4: 10, 1: 446, 0: 7}\n",
    "# Run with parameters 0.1 2000.0 0.01\n",
    "# k: 7\n",
    "#  Clusters: {3: 23, 0: 88, 2: 18, 1: 481, 5: 27, 6: 62, 4: 34}"
   ],
   "metadata": {
    "collapsed": false,
    "pycharm": {
     "name": "#%%\n"
    }
   }
  },
  {
   "cell_type": "code",
   "execution_count": 8,
   "outputs": [
    {
     "name": "stdout",
     "output_type": "stream",
     "text": [
      "(1, 733, 733)\n",
      "Run with parameters 1.0 1000.0 0.01\n",
      "Criterion found after 6 steps\n",
      "k: 2 \n",
      " Clusters: {0: 731, 1: 2}\n",
      "Run with parameters 1.0 1000.0 0.1\n",
      "Criterion found after 6 steps\n",
      "k: 2 \n",
      " Clusters: {0: 730, 1: 3}\n",
      "Run with parameters 1.0 2000.0 0.01\n",
      "Criterion found after 6 steps\n",
      "k: 2 \n",
      " Clusters: {0: 732, 1: 1}\n",
      "Run with parameters 1.0 2000.0 0.1\n",
      "Criterion found after 6 steps\n",
      "k: 2 \n",
      " Clusters: {0: 732, 1: 1}\n",
      "Run with parameters 1.0 100.0 0.01\n",
      "Criterion found after 6 steps\n",
      "k: 2 \n",
      " Clusters: {0: 731, 1: 2}\n",
      "Run with parameters 1.0 100.0 0.1\n",
      "Criterion found after 6 steps\n",
      "k: 2 \n",
      " Clusters: {0: 732, 1: 1}\n",
      "Run with parameters 0.1 1000.0 0.01\n",
      "Criterion found after 6 steps\n",
      "k: 2 \n",
      " Clusters: {0: 732, 1: 1}\n",
      "Run with parameters 0.1 1000.0 0.1\n",
      "Criterion found after 6 steps\n",
      "k: 2 \n",
      " Clusters: {0: 730, 1: 3}\n",
      "Run with parameters 0.1 2000.0 0.01\n",
      "Criterion found after 6 steps\n",
      "k: 2 \n",
      " Clusters: {0: 732, 1: 1}\n",
      "Run with parameters 0.1 2000.0 0.1\n",
      "Criterion found after 6 steps\n",
      "k: 2 \n",
      " Clusters: {0: 732, 1: 1}\n",
      "Run with parameters 0.1 100.0 0.01\n",
      "Criterion found after 6 steps\n",
      "k: 2 \n",
      " Clusters: {0: 730, 1: 3}\n",
      "Run with parameters 0.1 100.0 0.1\n",
      "Criterion found after 6 steps\n",
      "k: 2 \n",
      " Clusters: {0: 731, 1: 2}\n",
      "Run with parameters 1.0 1000.0 0.01\n",
      "Criterion found after 6 steps\n",
      "k: 7 \n",
      " Clusters: {0: 726, 4: 1, 3: 1, 2: 1, 1: 1, 5: 1, 6: 2}\n",
      "Run with parameters 1.0 1000.0 0.1\n",
      "Criterion found after 6 steps\n",
      "k: 7 \n",
      " Clusters: {0: 722, 5: 1, 4: 3, 2: 2, 6: 2, 3: 2, 1: 1}\n",
      "Run with parameters 1.0 2000.0 0.01\n",
      "Criterion found after 6 steps\n",
      "k: 7 \n",
      " Clusters: {0: 727, 2: 1, 4: 1, 3: 1, 1: 1, 5: 1, 6: 1}\n",
      "Run with parameters 1.0 2000.0 0.1\n",
      "Criterion found after 6 steps\n",
      "k: 7 \n",
      " Clusters: {0: 727, 1: 1, 3: 1, 2: 1, 6: 1, 5: 1, 4: 1}\n",
      "Run with parameters 1.0 100.0 0.01\n",
      "Criterion found after 6 steps\n",
      "k: 7 \n",
      " Clusters: {0: 718, 3: 2, 6: 5, 2: 2, 1: 2, 5: 2, 4: 2}\n",
      "Run with parameters 1.0 100.0 0.1\n",
      "Criterion found after 6 steps\n",
      "k: 7 \n",
      " Clusters: {0: 727, 2: 1, 5: 1, 4: 1, 6: 1, 3: 1, 1: 1}\n",
      "Run with parameters 0.1 1000.0 0.01\n",
      "Criterion found after 6 steps\n",
      "k: 7 \n",
      " Clusters: {0: 727, 3: 1, 1: 1, 4: 1, 2: 1, 6: 1, 5: 1}\n",
      "Run with parameters 0.1 1000.0 0.1\n",
      "Criterion found after 6 steps\n",
      "k: 7 \n",
      " Clusters: {0: 721, 5: 2, 4: 3, 1: 2, 6: 2, 3: 2, 2: 1}\n",
      "Run with parameters 0.1 2000.0 0.01\n",
      "Criterion found after 6 steps\n",
      "k: 7 \n",
      " Clusters: {0: 727, 4: 1, 2: 1, 1: 1, 3: 1, 5: 1, 6: 1}\n",
      "Run with parameters 0.1 2000.0 0.1\n",
      "Criterion found after 6 steps\n",
      "k: 7 \n",
      " Clusters: {0: 727, 4: 1, 1: 1, 2: 1, 3: 1, 6: 1, 5: 1}\n",
      "Run with parameters 0.1 100.0 0.01\n",
      "Criterion found after 6 steps\n",
      "k: 7 \n",
      " Clusters: {0: 713, 5: 3, 6: 8, 3: 2, 1: 2, 4: 2, 2: 3}\n",
      "Run with parameters 0.1 100.0 0.1\n",
      "Criterion found after 6 steps\n",
      "k: 7 \n",
      " Clusters: {0: 723, 3: 2, 2: 2, 1: 2, 6: 2, 5: 1, 4: 1}\n"
     ]
    }
   ],
   "source": [
    "run_experiments([2, 7], 'views/nodes/words/')"
   ],
   "metadata": {
    "collapsed": false,
    "pycharm": {
     "name": "#%%\n"
    }
   }
  },
  {
   "cell_type": "code",
   "execution_count": 9,
   "outputs": [
    {
     "name": "stdout",
     "output_type": "stream",
     "text": [
      "(1, 733, 733)\n",
      "Run with parameters 1.0 1000.0 0.01\n",
      "Criterion found after 6 steps\n",
      "k: 2 \n",
      " Clusters: {0: 516, 1: 217}\n",
      "Run with parameters 1.0 1000.0 0.1\n",
      "Criterion found after 6 steps\n",
      "k: 2 \n",
      " Clusters: {0: 608, 1: 125}\n",
      "Run with parameters 1.0 2000.0 0.01\n",
      "Criterion found after 6 steps\n",
      "k: 2 \n",
      " Clusters: {0: 615, 1: 118}\n",
      "Run with parameters 1.0 2000.0 0.1\n",
      "Criterion found after 6 steps\n",
      "k: 2 \n",
      " Clusters: {1: 612, 0: 121}\n",
      "Run with parameters 1.0 100.0 0.01\n",
      "Criterion found after 6 steps\n",
      "k: 2 \n",
      " Clusters: {0: 726, 1: 7}\n",
      "Run with parameters 1.0 100.0 0.1\n",
      "Criterion found after 6 steps\n",
      "k: 2 \n",
      " Clusters: {0: 726, 1: 7}\n",
      "Run with parameters 0.1 1000.0 0.01\n",
      "Criterion found after 6 steps\n",
      "k: 2 \n",
      " Clusters: {1: 254, 0: 479}\n",
      "Run with parameters 0.1 1000.0 0.1\n",
      "Criterion found after 6 steps\n",
      "k: 2 \n",
      " Clusters: {0: 419, 1: 314}\n",
      "Run with parameters 0.1 2000.0 0.01\n",
      "Criterion found after 6 steps\n",
      "k: 2 \n",
      " Clusters: {0: 586, 1: 147}\n",
      "Run with parameters 0.1 2000.0 0.1\n",
      "Criterion found after 6 steps\n",
      "k: 2 \n",
      " Clusters: {0: 544, 1: 189}\n",
      "Run with parameters 0.1 100.0 0.01\n",
      "Criterion found after 6 steps\n",
      "k: 2 \n",
      " Clusters: {0: 726, 1: 7}\n",
      "Run with parameters 0.1 100.0 0.1\n",
      "Criterion found after 6 steps\n",
      "k: 2 \n",
      " Clusters: {0: 726, 1: 7}\n",
      "Run with parameters 1.0 1000.0 0.01\n",
      "Criterion found after 6 steps\n",
      "k: 7 \n",
      " Clusters: {3: 11, 0: 20, 5: 20, 1: 449, 2: 115, 4: 16, 6: 102}\n",
      "Run with parameters 1.0 1000.0 0.1\n",
      "Criterion found after 6 steps\n",
      "k: 7 \n",
      " Clusters: {0: 547, 6: 82, 1: 17, 3: 29, 4: 15, 2: 34, 5: 9}\n",
      "Run with parameters 1.0 2000.0 0.01\n",
      "Criterion found after 6 steps\n",
      "k: 7 \n",
      " Clusters: {1: 545, 4: 54, 3: 18, 5: 37, 2: 45, 6: 28, 0: 6}\n",
      "Run with parameters 1.0 2000.0 0.1\n",
      "Criterion found after 6 steps\n",
      "k: 7 \n",
      " Clusters: {0: 551, 6: 57, 3: 18, 2: 49, 5: 22, 4: 32, 1: 4}\n",
      "Run with parameters 1.0 100.0 0.01\n",
      "Criterion found after 6 steps\n",
      "k: 7 \n",
      " Clusters: {1: 11, 3: 608, 2: 7, 4: 10, 5: 3, 6: 7, 0: 87}\n",
      "Run with parameters 1.0 100.0 0.1\n",
      "Criterion found after 6 steps\n",
      "k: 7 \n",
      " Clusters: {3: 11, 6: 19, 0: 662, 4: 5, 2: 11, 1: 7, 5: 18}\n",
      "Run with parameters 0.1 1000.0 0.01\n",
      "Criterion found after 6 steps\n",
      "k: 7 \n",
      " Clusters: {3: 11, 4: 19, 5: 20, 1: 436, 0: 226, 6: 13, 2: 8}\n",
      "Run with parameters 0.1 1000.0 0.1\n",
      "Criterion found after 6 steps\n",
      "k: 7 \n",
      " Clusters: {5: 14, 0: 29, 4: 24, 1: 370, 3: 11, 6: 9, 2: 276}\n",
      "Run with parameters 0.1 2000.0 0.01\n",
      "Criterion found after 6 steps\n",
      "k: 7 \n",
      " Clusters: {4: 65, 2: 45, 3: 18, 0: 492, 1: 42, 5: 42, 6: 29}\n",
      "Run with parameters 0.1 2000.0 0.1\n",
      "Criterion found after 6 steps\n",
      "k: 7 \n",
      " Clusters: {0: 67, 5: 8, 2: 19, 4: 1, 1: 139, 6: 13, 3: 486}\n",
      "Run with parameters 0.1 100.0 0.01\n",
      "Criterion found after 6 steps\n",
      "k: 7 \n",
      " Clusters: {6: 11, 0: 16, 1: 666, 3: 5, 5: 10, 2: 7, 4: 18}\n",
      "Run with parameters 0.1 100.0 0.1\n",
      "Criterion found after 6 steps\n",
      "k: 7 \n",
      " Clusters: {6: 622, 5: 18, 4: 79, 2: 3, 1: 7, 0: 3, 3: 1}\n"
     ]
    }
   ],
   "source": [
    "run_experiments([2, 7], 'views/nodes/files/')\n",
    "# Run with parameters 0.1 1000.0 0.01\n",
    "# k: 2\n",
    "#  Clusters: {1: 254, 0: 479}\n",
    "# Run with parameters 0.1 1000.0 0.1\n",
    "# k: 2\n",
    "#  Clusters: {0: 419, 1: 314}\n",
    "# Run with parameters 0.1 1000.0 0.01\n",
    "# k: 7\n",
    "#  Clusters: {3: 11, 4: 19, 5: 20, 1: 436, 0: 226, 6: 13, 2: 8}\n",
    "# Run with parameters 0.1 1000.0 0.1\n",
    "# k: 7\n",
    "#  Clusters: {5: 14, 0: 29, 4: 24, 1: 370, 3: 11, 6: 9, 2: 276}\n",
    "# Run with parameters 1.0 1000.0 0.01\n",
    "# k: 7\n",
    "#  Clusters: {3: 11, 0: 20, 5: 20, 1: 449, 2: 115, 4: 16, 6: 102}\n",
    "# Run with parameters 0.1 2000.0 0.01\n",
    "# k: 7\n",
    "#  Clusters: {4: 65, 2: 45, 3: 18, 0: 492, 1: 42, 5: 42, 6: 29}\n",
    "# Run with parameters 0.1 2000.0 0.1\n",
    "# k: 7\n",
    "#  Clusters: {0: 67, 5: 8, 2: 19, 4: 1, 1: 139, 6: 13, 3: 486}"
   ],
   "metadata": {
    "collapsed": false,
    "pycharm": {
     "name": "#%%\n"
    }
   }
  },
  {
   "cell_type": "code",
   "execution_count": 16,
   "outputs": [],
   "source": [
    "#run_experiments([2, 7], 'views/two_views/')"
   ],
   "metadata": {
    "collapsed": false,
    "pycharm": {
     "name": "#%%\n"
    }
   }
  },
  {
   "cell_type": "code",
   "execution_count": 17,
   "outputs": [],
   "source": [
    "#run_experiments([2, 7], 'views/single_words/')"
   ],
   "metadata": {
    "collapsed": false,
    "pycharm": {
     "name": "#%%\n"
    }
   }
  },
  {
   "cell_type": "code",
   "execution_count": 18,
   "outputs": [],
   "source": [
    "#run_experiments([2, 7], 'views/single_files/')"
   ],
   "metadata": {
    "collapsed": false,
    "pycharm": {
     "name": "#%%\n"
    }
   }
  },
  {
   "cell_type": "code",
   "execution_count": 19,
   "outputs": [],
   "source": [
    "# run_experiments([2, 7], 'views/all/')"
   ],
   "metadata": {
    "collapsed": false,
    "pycharm": {
     "name": "#%%\n"
    }
   }
  },
  {
   "cell_type": "code",
   "execution_count": 14,
   "outputs": [
    {
     "name": "stdout",
     "output_type": "stream",
     "text": [
      "(5, 1200, 1200)\n",
      "Run with parameters 1.0 1000.0 0.01\n",
      "Criterion found after 6 steps\n",
      "k: 2 \n",
      " Clusters: {0: 1185, 1: 15}\n",
      "Run with parameters 1.0 1000.0 0.1\n",
      "Criterion found after 6 steps\n",
      "k: 2 \n",
      " Clusters: {0: 1185, 1: 15}\n",
      "Run with parameters 1.0 2000.0 0.01\n",
      "Criterion found after 6 steps\n",
      "k: 2 \n",
      " Clusters: {0: 1185, 1: 15}\n",
      "Run with parameters 1.0 2000.0 0.1\n",
      "Criterion found after 6 steps\n",
      "k: 2 \n",
      " Clusters: {0: 1185, 1: 15}\n",
      "Run with parameters 1.0 100.0 0.01\n",
      "Criterion found after 6 steps\n",
      "k: 2 \n",
      " Clusters: {0: 1158, 1: 42}\n",
      "Run with parameters 1.0 100.0 0.1\n",
      "Criterion found after 6 steps\n",
      "k: 2 \n",
      " Clusters: {0: 1158, 1: 42}\n",
      "Run with parameters 0.1 1000.0 0.01\n",
      "Criterion found after 6 steps\n",
      "k: 2 \n",
      " Clusters: {1: 1185, 0: 15}\n",
      "Run with parameters 0.1 1000.0 0.1\n",
      "Criterion found after 6 steps\n",
      "k: 2 \n",
      " Clusters: {1: 1185, 0: 15}\n",
      "Run with parameters 0.1 2000.0 0.01\n",
      "Criterion found after 6 steps\n",
      "k: 2 \n",
      " Clusters: {0: 1185, 1: 15}\n",
      "Run with parameters 0.1 2000.0 0.1\n",
      "Criterion found after 6 steps\n",
      "k: 2 \n",
      " Clusters: {0: 1185, 1: 15}\n",
      "Run with parameters 0.1 100.0 0.01\n",
      "Criterion found after 6 steps\n",
      "k: 2 \n",
      " Clusters: {0: 1123, 1: 77}\n",
      "Run with parameters 0.1 100.0 0.1\n",
      "Criterion found after 6 steps\n",
      "k: 2 \n",
      " Clusters: {0: 1123, 1: 77}\n",
      "Run with parameters 1.0 1000.0 0.01\n",
      "Criterion found after 6 steps\n",
      "k: 7 \n",
      " Clusters: {3: 265, 5: 15, 2: 25, 1: 378, 0: 476, 6: 15, 4: 26}\n",
      "Run with parameters 1.0 1000.0 0.1\n",
      "Criterion found after 6 steps\n",
      "k: 7 \n",
      " Clusters: {5: 267, 2: 15, 6: 25, 1: 402, 0: 450, 3: 15, 4: 26}\n",
      "Run with parameters 1.0 2000.0 0.01\n",
      "Criterion found after 6 steps\n",
      "k: 7 \n",
      " Clusters: {6: 268, 1: 15, 2: 26, 5: 231, 0: 619, 3: 15, 4: 26}\n",
      "Run with parameters 1.0 2000.0 0.1\n",
      "Criterion found after 6 steps\n",
      "k: 7 \n",
      " Clusters: {6: 267, 3: 15, 5: 26, 1: 240, 0: 611, 4: 15, 2: 26}\n",
      "Run with parameters 1.0 100.0 0.01\n",
      "Criterion found after 6 steps\n",
      "k: 7 \n",
      " Clusters: {0: 1001, 2: 15, 1: 24, 4: 15, 6: 22, 5: 81, 3: 42}\n",
      "Run with parameters 1.0 100.0 0.1\n",
      "Criterion found after 6 steps\n",
      "k: 7 \n",
      " Clusters: {1: 1000, 2: 15, 5: 24, 3: 15, 6: 21, 0: 83, 4: 42}\n",
      "Run with parameters 0.1 1000.0 0.01\n",
      "Criterion found after 6 steps\n",
      "k: 7 \n",
      " Clusters: {1: 272, 2: 15, 5: 24, 6: 452, 0: 395, 3: 15, 4: 27}\n",
      "Run with parameters 0.1 1000.0 0.1\n",
      "Criterion found after 6 steps\n",
      "k: 7 \n",
      " Clusters: {0: 328, 3: 15, 4: 24, 1: 697, 2: 15, 5: 28, 6: 93}\n",
      "Run with parameters 0.1 2000.0 0.01\n",
      "Criterion found after 6 steps\n",
      "k: 7 \n",
      " Clusters: {0: 265, 1: 15, 4: 26, 6: 244, 2: 609, 5: 15, 3: 26}\n",
      "Run with parameters 0.1 2000.0 0.1\n",
      "Criterion found after 6 steps\n",
      "k: 7 \n",
      " Clusters: {2: 262, 1: 15, 3: 26, 6: 262, 0: 593, 4: 15, 5: 27}\n",
      "Run with parameters 0.1 100.0 0.01\n",
      "Criterion found after 6 steps\n",
      "k: 7 \n",
      " Clusters: {5: 181, 2: 15, 3: 25, 0: 895, 4: 15, 6: 27, 1: 42}\n",
      "Run with parameters 0.1 100.0 0.1\n",
      "Criterion found after 6 steps\n",
      "k: 7 \n",
      " Clusters: {0: 528, 3: 15, 2: 26, 5: 546, 4: 15, 6: 28, 1: 42}\n"
     ]
    }
   ],
   "source": [
    "run_experiments([2, 7], 'GFSC/reuters_views/')"
   ],
   "metadata": {
    "collapsed": false,
    "pycharm": {
     "name": "#%%\n"
    }
   }
  }
 ],
 "metadata": {
  "kernelspec": {
   "display_name": "Python 3",
   "language": "python",
   "name": "python3"
  },
  "language_info": {
   "codemirror_mode": {
    "name": "ipython",
    "version": 2
   },
   "file_extension": ".py",
   "mimetype": "text/x-python",
   "name": "python",
   "nbconvert_exporter": "python",
   "pygments_lexer": "ipython2",
   "version": "2.7.6"
  }
 },
 "nbformat": 4,
 "nbformat_minor": 0
}