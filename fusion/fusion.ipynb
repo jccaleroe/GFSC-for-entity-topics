{
 "cells": [
  {
   "cell_type": "code",
   "execution_count": 1,
   "metadata": {
    "collapsed": true
   },
   "outputs": [],
   "source": [
    "import tensorflow as tf\n",
    "import numpy as np\n",
    "import os"
   ]
  },
  {
   "cell_type": "code",
   "execution_count": 2,
   "outputs": [],
   "source": [
    "def load_data(path):\n",
    "    x = None\n",
    "    for filename in os.listdir(path):\n",
    "        with open(os.path.join(path, filename), 'rb') as f:\n",
    "            tmp = tf.cast([np.load(f)], dtype=tf.float64)\n",
    "            if x is None:\n",
    "                x = tf.linalg.matmul(tmp, tmp, transpose_b=True)\n",
    "            else:\n",
    "                x = tf.concat([x, tf.linalg.matmul(tmp, tmp, transpose_b=True)], axis=0)\n",
    "    return x"
   ],
   "metadata": {
    "collapsed": false,
    "pycharm": {
     "name": "#%%\n"
    }
   }
  },
  {
   "cell_type": "code",
   "execution_count": 3,
   "outputs": [],
   "source": [
    "steps = 200\n",
    "alphas, betas, gamma = [1.0, 0.1], [1000.0, 2000.0, 100.0], 0.01"
   ],
   "metadata": {
    "collapsed": false,
    "pycharm": {
     "name": "#%%\n"
    }
   }
  },
  {
   "cell_type": "code",
   "execution_count": 4,
   "outputs": [],
   "source": [
    "def fusion(x, k):\n",
    "    f = None\n",
    "    n = x.shape[1]\n",
    "    t = x.shape[0]\n",
    "    for alpha in alphas:\n",
    "        for beta in betas:\n",
    "            reg = gamma / (4.0 * beta)\n",
    "            wv, wv_u = tf.cast([1.0 / t for _ in range(t)], dtype=tf.float64), None\n",
    "            i_alpha = tf.math.multiply(tf.eye(n, dtype=tf.float64), alpha)\n",
    "            i_beta = tf.math.multiply(tf.eye(n, dtype=tf.float64), beta)\n",
    "            s = tf.eye(n, dtype=tf.float64)\n",
    "            for step in range(steps):\n",
    "                s = tf.where(s > 0, s, tf.zeros(s.shape, dtype=tf.float64))\n",
    "                s = tf.math.divide(tf.math.add(s, tf.transpose(s)), 2.0)\n",
    "                z_sum = tf.zeros(s.shape, dtype=tf.float64)\n",
    "                for i in range(t):\n",
    "                    z = tf.linalg.solve(\n",
    "                        tf.math.add(tf.math.add(x[i], i_alpha), tf.math.multiply(i_beta, wv[i])),\n",
    "                        tf.math.add(tf.math.multiply(s, tf.math.multiply(wv[i], beta)), x[i]))\n",
    "                    z = tf.where(z > 0, z, tf.zeros(z.shape, dtype=tf.float64))\n",
    "                    z = tf.math.divide(tf.math.add(z, tf.transpose(z)), 2.0)\n",
    "                    w = tf.math.divide(0.5, tf.norm(tf.math.subtract(z, s)))\n",
    "                    wv_u = tf.reshape(w, [1]) if i == 0 else tf.concat([wv_u, [w]], axis=0)\n",
    "                    z = tf.math.multiply(z, w)\n",
    "                    z_sum = tf.math.add(z_sum, z)\n",
    "\n",
    "                l = tf.math.subtract(tf.linalg.diag(tf.math.reduce_sum(s, 0)), s)\n",
    "                (_, f) = tf.linalg.eigh(l)\n",
    "                f = tf.slice(f, [0, 0], [f.shape[0], k])\n",
    "                p = tf.norm(tf.math.subtract(f[0][:], f), axis=1, keepdims=True)\n",
    "                for i in range(1, n):\n",
    "                     p = tf.concat([p, tf.norm(tf.math.subtract(f[0][:], f), axis=1, keepdims=True)], 1)\n",
    "                p = tf.math.multiply(tf.math.square(p), reg)\n",
    "                wv = wv_u\n",
    "                s_old = s\n",
    "                s = tf.math.divide((tf.math.subtract(z_sum, p)), tf.math.reduce_sum(wv, 0))\n",
    "                if step > 5 and tf.math.less(tf.math.divide(tf.norm(tf.math.subtract(s, s_old)), tf.norm(s_old)), 1.e-3):\n",
    "                    print('Criterion found after', step, 'steps')\n",
    "                    return f\n",
    "    return f"
   ],
   "metadata": {
    "collapsed": false,
    "pycharm": {
     "name": "#%%\n"
    }
   }
  },
  {
   "cell_type": "code",
   "execution_count": 5,
   "outputs": [],
   "source": [
    "from sklearn.cluster import KMeans\n",
    "\n",
    "def run_k_means(views):\n",
    "    x = load_data(views)\n",
    "    print(x.shape)\n",
    "    ks = [2]\n",
    "    for k in ks:\n",
    "        k_means = KMeans(n_clusters=k, n_init=10).fit(fusion(x, k).numpy())\n",
    "        clusters = k_means.labels_\n",
    "        d = {}\n",
    "        for i in clusters:\n",
    "            if i in d:\n",
    "                d[i] += 1\n",
    "            else:\n",
    "                d[i] = 1\n",
    "        print('k:', k, '\\n', 'Clusters:', d)"
   ],
   "metadata": {
    "collapsed": false,
    "pycharm": {
     "name": "#%%\n"
    }
   }
  },
  {
   "cell_type": "code",
   "execution_count": 6,
   "outputs": [
    {
     "name": "stdout",
     "output_type": "stream",
     "text": [
      "(2, 733, 733)\n",
      "Criterion found after 6 steps\n",
      "k: 2 \n",
      " Clusters: {0: 604, 1: 129}\n"
     ]
    }
   ],
   "source": [
    "run_k_means('views/nodes/both/')"
   ],
   "metadata": {
    "collapsed": false,
    "pycharm": {
     "name": "#%%\n"
    }
   }
  },
  {
   "cell_type": "code",
   "execution_count": 7,
   "outputs": [
    {
     "name": "stdout",
     "output_type": "stream",
     "text": [
      "(1, 733, 733)\n",
      "Criterion found after 6 steps\n",
      "k: 2 \n",
      " Clusters: {0: 731, 1: 2}\n"
     ]
    }
   ],
   "source": [
    "run_k_means('views/nodes/words/')"
   ],
   "metadata": {
    "collapsed": false,
    "pycharm": {
     "name": "#%%\n"
    }
   }
  },
  {
   "cell_type": "code",
   "execution_count": 8,
   "outputs": [
    {
     "name": "stdout",
     "output_type": "stream",
     "text": [
      "(1, 733, 733)\n",
      "Criterion found after 6 steps\n",
      "k: 2 \n",
      " Clusters: {0: 516, 1: 217}\n"
     ]
    }
   ],
   "source": [
    "run_k_means('views/nodes/files/')"
   ],
   "metadata": {
    "collapsed": false,
    "pycharm": {
     "name": "#%%\n"
    }
   }
  },
  {
   "cell_type": "code",
   "execution_count": 9,
   "outputs": [
    {
     "name": "stdout",
     "output_type": "stream",
     "text": [
      "(2, 69, 69)\n",
      "Criterion found after 6 steps\n",
      "k: 2 \n",
      " Clusters: {0: 62, 1: 7}\n"
     ]
    }
   ],
   "source": [
    "run_k_means('views/two_views/')"
   ],
   "metadata": {
    "collapsed": false,
    "pycharm": {
     "name": "#%%\n"
    }
   }
  },
  {
   "cell_type": "code",
   "execution_count": 10,
   "outputs": [
    {
     "name": "stdout",
     "output_type": "stream",
     "text": [
      "(1, 69, 69)\n",
      "Criterion found after 6 steps\n",
      "k: 2 \n",
      " Clusters: {0: 68, 1: 1}\n"
     ]
    }
   ],
   "source": [
    "run_k_means('views/single_words/')"
   ],
   "metadata": {
    "collapsed": false,
    "pycharm": {
     "name": "#%%\n"
    }
   }
  },
  {
   "cell_type": "code",
   "execution_count": 11,
   "outputs": [
    {
     "name": "stdout",
     "output_type": "stream",
     "text": [
      "(1, 69, 69)\n",
      "Criterion found after 6 steps\n",
      "k: 2 \n",
      " Clusters: {0: 65, 1: 4}\n"
     ]
    }
   ],
   "source": [
    "run_k_means('views/single_files/')"
   ],
   "metadata": {
    "collapsed": false,
    "pycharm": {
     "name": "#%%\n"
    }
   }
  },
  {
   "cell_type": "code",
   "execution_count": 14,
   "outputs": [
    {
     "name": "stdout",
     "output_type": "stream",
     "text": [
      "(32, 69, 69)\n",
      "Criterion found after 6 steps\n",
      "k: 2 \n",
      " Clusters: {0: 68, 1: 1}\n"
     ]
    }
   ],
   "source": [
    "run_k_means('views/all/')"
   ],
   "metadata": {
    "collapsed": false,
    "pycharm": {
     "name": "#%%\n"
    }
   }
  }
 ],
 "metadata": {
  "kernelspec": {
   "display_name": "Python 3",
   "language": "python",
   "name": "python3"
  },
  "language_info": {
   "codemirror_mode": {
    "name": "ipython",
    "version": 2
   },
   "file_extension": ".py",
   "mimetype": "text/x-python",
   "name": "python",
   "nbconvert_exporter": "python",
   "pygments_lexer": "ipython2",
   "version": "2.7.6"
  }
 },
 "nbformat": 4,
 "nbformat_minor": 0
}