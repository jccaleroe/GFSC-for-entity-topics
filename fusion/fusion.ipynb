{
 "cells": [
  {
   "cell_type": "code",
   "execution_count": 1,
   "metadata": {
    "collapsed": true
   },
   "outputs": [],
   "source": [
    "import tensorflow as tf\n",
    "import numpy as np"
   ]
  },
  {
   "cell_type": "code",
   "execution_count": 2,
   "outputs": [],
   "source": [
    "X = []\n",
    "t = 1\n",
    "steps = 1\n",
    "for i in range(t):\n",
    "    with open(\"matrices/view\" + str(i) + \".npy\", 'rb') as f:\n",
    "        X.append(tf.cast(tf.sparse.from_dense(np.load(f)), dtype=tf.float32))"
   ],
   "metadata": {
    "collapsed": false,
    "pycharm": {
     "name": "#%%\n"
    }
   }
  },
  {
   "cell_type": "code",
   "execution_count": 6,
   "outputs": [],
   "source": [
    "v_shape = X[0].shape\n",
    "alpha = 1\n",
    "beta = 1000\n",
    "gamma = 0.01\n",
    "wv = [1.0 / t for i in range(t)]\n",
    "I = tf.eye(v_shape[0], dtype=tf.float32)\n",
    "Z = [0 for i in range(t)]\n",
    "S = tf.eye(v_shape[0], dtype=tf.float32)"
   ],
   "metadata": {
    "collapsed": false,
    "pycharm": {
     "name": "#%%\n"
    }
   }
  },
  {
   "cell_type": "code",
   "execution_count": 7,
   "outputs": [],
   "source": [
    "for step in range(steps):\n",
    "    S = tf.where(S > 0, S, tf.zeros(v_shape))\n",
    "    S = (S + tf.transpose(S)) / 2\n",
    "    L = tf.linalg.diag(tf.math.reduce_sum(S, 0)) - S\n",
    "    for xi in range(t):\n",
    "        Xv = tf.sparse.to_dense(X[xi])\n",
    "        Z[xi] = tf.sparse.from_dense(\n",
    "            tf.linalg.matmul(\n",
    "                tf.linalg.inv(tf.linalg.matmul(Xv, Xv, transpose_a=True, a_is_sparse=True, b_is_sparse=True) +\n",
    "                              I * alpha +\n",
    "                              I * beta * wv[xi]),\n",
    "                S * beta * wv[xi] + tf.linalg.matmul(Xv, Xv, transpose_a=True, a_is_sparse=True, b_is_sparse=True)))"
   ],
   "metadata": {
    "collapsed": false,
    "pycharm": {
     "name": "#%%\n"
    }
   }
  },
  {
   "cell_type": "code",
   "execution_count": 8,
   "outputs": [
    {
     "name": "stdout",
     "output_type": "stream",
     "text": [
      "SparseTensor(indices=tf.Tensor(\n",
      "[[   0    0]\n",
      " [   0    1]\n",
      " [   0    2]\n",
      " ...\n",
      " [4754 4754]\n",
      " [4755 4755]\n",
      " [4756 4756]], shape=(51517, 2), dtype=int64), values=tf.Tensor(\n",
      "[9.9902481e-01 5.5085193e-06 5.5047940e-06 ... 9.9900097e-01 9.9900097e-01\n",
      " 9.9900097e-01], shape=(51517,), dtype=float32), dense_shape=tf.Tensor([4757 4757], shape=(2,), dtype=int64))\n"
     ]
    }
   ],
   "source": [
    "print(Z[0])\n",
    "# # x = X[0]\n",
    "# x = tf.sparse.to_dense(X[0])  -1\n",
    "# print(x)\n",
    "# y = tf.where(x > 0, x, tf.zeros(v_shape))\n",
    "# print(y)"
   ],
   "metadata": {
    "collapsed": false,
    "pycharm": {
     "name": "#%%\n"
    }
   }
  },
  {
   "cell_type": "code",
   "execution_count": null,
   "outputs": [],
   "source": [
    "\n"
   ],
   "metadata": {
    "collapsed": false,
    "pycharm": {
     "name": "#%%\n"
    }
   }
  }
 ],
 "metadata": {
  "kernelspec": {
   "display_name": "Python 3",
   "language": "python",
   "name": "python3"
  },
  "language_info": {
   "codemirror_mode": {
    "name": "ipython",
    "version": 2
   },
   "file_extension": ".py",
   "mimetype": "text/x-python",
   "name": "python",
   "nbconvert_exporter": "python",
   "pygments_lexer": "ipython2",
   "version": "2.7.6"
  }
 },
 "nbformat": 4,
 "nbformat_minor": 0
}