{
 "cells": [
  {
   "cell_type": "code",
   "execution_count": 1,
   "metadata": {
    "collapsed": true
   },
   "outputs": [],
   "source": [
    "import os\n",
    "\n",
    "import numpy as np\n",
    "import tensorflow as tf"
   ]
  },
  {
   "cell_type": "code",
   "execution_count": 2,
   "outputs": [],
   "source": [
    "def load_data(path):\n",
    "    x = None\n",
    "    for filename in os.listdir(path):\n",
    "        with open(os.path.join(path, filename), 'rb') as f:\n",
    "            tmp = tf.cast([np.load(f)], dtype=tf.float64)\n",
    "            if x is None:\n",
    "                x = tf.linalg.matmul(tmp, tmp, transpose_b=True)\n",
    "            else:\n",
    "                x = tf.concat([x, tf.linalg.matmul(tmp, tmp, transpose_b=True)], axis=0)\n",
    "    return x"
   ],
   "metadata": {
    "collapsed": false,
    "pycharm": {
     "name": "#%%\n"
    }
   }
  },
  {
   "cell_type": "code",
   "execution_count": 3,
   "outputs": [],
   "source": [
    "steps, runs_per_k = 200, 3\n",
    "# alphas, betas, gammas = [0.1, 1.0], [1000.0, 2000.0, 100.0], [0.01, 0.1]\n",
    "alphas, betas, gammas = [0.1], [1000.0, 2000.0], [0.01, 0.1]\n",
    "# alphas, betas, gammas = [0.1], [1000.0], [0.01]"
   ],
   "metadata": {
    "collapsed": false,
    "pycharm": {
     "name": "#%%\n"
    }
   }
  },
  {
   "cell_type": "code",
   "execution_count": 4,
   "outputs": [],
   "source": [
    "def fusion(x, k, alpha, beta, gamma):\n",
    "    f = None\n",
    "    n = x.shape[1]\n",
    "    t = x.shape[0]\n",
    "    reg = gamma / (4.0 * beta)\n",
    "    wv, wv_u = tf.cast([1.0 / t for _ in range(t)], dtype=tf.float64), None\n",
    "    i_alpha = tf.math.multiply(tf.eye(n, dtype=tf.float64), alpha)\n",
    "    i_beta = tf.math.multiply(tf.eye(n, dtype=tf.float64), beta)\n",
    "    s = tf.eye(n, dtype=tf.float64)\n",
    "    for step in range(steps):\n",
    "        s = tf.where(s > 0, s, tf.zeros(s.shape, dtype=tf.float64))\n",
    "        s = tf.math.divide(tf.math.add(s, tf.transpose(s)), 2.0)\n",
    "        z_sum = tf.zeros(s.shape, dtype=tf.float64)\n",
    "        for i in range(t):\n",
    "            z = tf.linalg.solve(\n",
    "                tf.math.add(tf.math.add(x[i], i_alpha), tf.math.multiply(i_beta, wv[i])),\n",
    "                tf.math.add(tf.math.multiply(s, tf.math.multiply(wv[i], beta)), x[i]))\n",
    "            z = tf.where(z > 0, z, tf.zeros(z.shape, dtype=tf.float64))\n",
    "            z = tf.math.divide(tf.math.add(z, tf.transpose(z)), 2.0)\n",
    "            w = tf.math.divide(0.5, tf.norm(tf.math.subtract(z, s)))\n",
    "            wv_u = tf.reshape(w, [1]) if i == 0 else tf.concat([wv_u, [w]], axis=0)\n",
    "            z = tf.math.multiply(z, w)\n",
    "            z_sum = tf.math.add(z_sum, z)\n",
    "\n",
    "        l = tf.math.subtract(tf.linalg.diag(tf.math.reduce_sum(s, 0)), s)\n",
    "        (_, f) = tf.linalg.eigh(l)\n",
    "        f = tf.slice(f, [0, 0], [f.shape[0], k])\n",
    "        p = tf.norm(tf.math.subtract(f[0][:], f), axis=1, keepdims=True)\n",
    "        for i in range(1, n):\n",
    "             p = tf.concat([p, tf.norm(tf.math.subtract(f[0][:], f), axis=1, keepdims=True)], 1)\n",
    "        p = tf.math.multiply(tf.math.square(p), reg)\n",
    "        wv = wv_u\n",
    "        s_old = s\n",
    "        s = tf.math.divide((tf.math.subtract(z_sum, p)), tf.math.reduce_sum(wv, 0))\n",
    "        if step >= 4 and tf.math.less(tf.math.divide(tf.norm(tf.math.subtract(s, s_old)), tf.norm(s_old)), 1.e-3):\n",
    "            # print('Criterion found after', step + 1, 'steps')\n",
    "            return f\n",
    "    return f"
   ],
   "metadata": {
    "collapsed": false,
    "pycharm": {
     "name": "#%%\n"
    }
   }
  },
  {
   "cell_type": "code",
   "execution_count": 5,
   "outputs": [],
   "source": [
    "from sklearn.cluster import KMeans\n",
    "\n",
    "histograms, min_k, clusters = {}, {}, {}\n",
    "def run_k_means(k, f):\n",
    "        k_means = KMeans(n_clusters=k, n_init=10).fit(f)\n",
    "        cluster = k_means.labels_\n",
    "        d = {}\n",
    "        for i in cluster:\n",
    "            if i in d:\n",
    "                d[i] += 1\n",
    "            else:\n",
    "                d[i] = 1\n",
    "        max_k, smallest = 0, float('inf')\n",
    "        for i in d:\n",
    "            max_k = max(max_k, d[i])\n",
    "            smallest = min(smallest, d[i])\n",
    "        if k in min_k:\n",
    "            if max_k < min_k[k]:\n",
    "                min_k[k] = max_k\n",
    "                histograms[k] = d\n",
    "                clusters[k] = cluster\n",
    "                print('k:', k)\n",
    "                print(d, '\\nBiggest cluster:', max_k, 'Smallest cluster:', smallest, '\\n')\n",
    "        else:\n",
    "            min_k[k] = max_k\n",
    "            histograms[k] = d\n",
    "            clusters[k] = cluster\n",
    "            print('k:', k)\n",
    "            print(d, '\\nBiggest cluster:', max_k, 'Smallest cluster:', smallest, '\\n')"
   ],
   "metadata": {
    "collapsed": false,
    "pycharm": {
     "name": "#%%\n"
    }
   }
  },
  {
   "cell_type": "code",
   "execution_count": 6,
   "outputs": [],
   "source": [
    "def run_experiments(ks, views):    \n",
    "    x = load_data(views)\n",
    "    print(x.shape)\n",
    "    for _ in range(runs_per_k):\n",
    "        for k in ks:\n",
    "            for alpha in alphas:\n",
    "                for beta in betas:\n",
    "                    for gamma in gammas:\n",
    "                        print('Run with parameters', alpha, beta, gamma)\n",
    "                        run_k_means(k, fusion(x, k, alpha, beta, gamma).numpy())"
   ],
   "metadata": {
    "collapsed": false,
    "pycharm": {
     "name": "#%%\n"
    }
   }
  },
  {
   "cell_type": "code",
   "execution_count": 7,
   "outputs": [],
   "source": [
    "def save_np(name, matrix):\n",
    "    with open(name + \".npy\", 'wb') as f:\n",
    "        np.save(f, matrix)\n",
    "\n",
    "def save_results(folder):\n",
    "    for k in clusters:        \n",
    "        save_np(folder + str(k) + '_means', clusters[k])"
   ],
   "metadata": {
    "collapsed": false,
    "pycharm": {
     "name": "#%%\n"
    }
   }
  },
  {
   "cell_type": "code",
   "execution_count": 8,
   "outputs": [
    {
     "name": "stdout",
     "output_type": "stream",
     "text": [
      "(2, 1236, 1236)\n",
      "Run with parameters 0.1 1000.0 0.01\n",
      "k: 40\n",
      "{4: 119, 35: 12, 11: 17, 7: 26, 15: 5, 17: 26, 37: 115, 34: 25, 23: 7, 31: 14, 6: 16, 1: 23, 0: 139, 3: 105, 24: 11, 18: 24, 32: 11, 27: 38, 30: 10, 5: 63, 36: 13, 20: 14, 2: 15, 19: 17, 29: 25, 8: 44, 38: 13, 22: 33, 13: 18, 25: 14, 33: 16, 39: 17, 21: 22, 28: 40, 12: 23, 14: 30, 9: 18, 10: 36, 16: 12, 26: 10} \n",
      "Biggest cluster: 139 Smallest cluster: 5 \n",
      "\n",
      "Run with parameters 0.1 1000.0 0.1\n",
      "Run with parameters 0.1 2000.0 0.01\n",
      "Run with parameters 0.1 2000.0 0.1\n",
      "Run with parameters 0.1 1000.0 0.01\n",
      "k: 70\n",
      "{41: 81, 69: 5, 33: 13, 2: 23, 34: 5, 68: 3, 65: 7, 62: 17, 5: 7, 44: 17, 61: 69, 59: 8, 50: 20, 24: 12, 3: 106, 16: 9, 35: 20, 56: 10, 28: 16, 51: 10, 15: 22, 60: 12, 47: 8, 57: 57, 36: 11, 52: 7, 23: 10, 37: 19, 39: 16, 40: 32, 32: 11, 21: 12, 25: 11, 4: 15, 31: 13, 64: 12, 29: 14, 46: 85, 11: 26, 66: 17, 63: 13, 12: 13, 55: 100, 13: 8, 49: 13, 58: 11, 22: 15, 0: 15, 67: 8, 27: 10, 10: 20, 45: 8, 38: 13, 17: 13, 6: 24, 18: 9, 14: 11, 54: 9, 53: 7, 42: 6, 7: 12, 1: 6, 20: 9, 8: 1, 26: 1, 19: 9, 9: 1, 30: 1, 48: 1, 43: 1} \n",
      "Biggest cluster: 106 Smallest cluster: 1 \n",
      "\n",
      "Run with parameters 0.1 1000.0 0.1\n",
      "k: 70\n",
      "{22: 65, 53: 3, 8: 12, 46: 11, 4: 5, 16: 3, 43: 10, 51: 19, 35: 7, 39: 10, 23: 75, 48: 6, 13: 24, 33: 25, 19: 1, 12: 26, 31: 1, 57: 24, 40: 10, 67: 18, 18: 9, 36: 24, 54: 15, 24: 9, 11: 1, 14: 14, 61: 97, 69: 7, 41: 1, 9: 10, 56: 15, 44: 27, 6: 1, 49: 12, 1: 15, 50: 10, 68: 10, 20: 11, 27: 14, 0: 16, 38: 1, 66: 45, 2: 9, 58: 1, 21: 1, 10: 1, 25: 104, 28: 13, 45: 12, 3: 45, 65: 17, 5: 94, 55: 18, 62: 13, 29: 16, 30: 16, 7: 14, 42: 27, 15: 37, 52: 12, 32: 11, 63: 7, 59: 9, 64: 14, 47: 9, 26: 1, 17: 9, 34: 1, 60: 4, 37: 2} \n",
      "Biggest cluster: 104 Smallest cluster: 1 \n",
      "\n",
      "Run with parameters 0.1 2000.0 0.01\n",
      "Run with parameters 0.1 2000.0 0.1\n",
      "Run with parameters 0.1 1000.0 0.01\n",
      "k: 100\n",
      "{10: 117, 68: 3, 79: 7, 6: 17, 48: 5, 91: 3, 56: 6, 32: 17, 44: 7, 41: 6, 89: 10, 40: 21, 2: 45, 30: 1, 72: 5, 23: 83, 18: 1, 38: 25, 35: 10, 80: 15, 62: 15, 14: 7, 57: 23, 92: 14, 61: 5, 78: 6, 16: 9, 12: 9, 74: 14, 86: 11, 65: 7, 49: 7, 27: 10, 58: 17, 73: 88, 63: 8, 82: 12, 29: 11, 75: 13, 36: 11, 54: 10, 7: 14, 11: 116, 81: 7, 20: 1, 13: 1, 69: 13, 71: 12, 52: 20, 9: 1, 33: 1, 31: 1, 28: 1, 8: 1, 5: 1, 67: 8, 4: 1, 42: 1, 15: 13, 97: 11, 98: 8, 43: 16, 70: 4, 45: 8, 90: 8, 39: 16, 99: 12, 64: 7, 3: 22, 66: 22, 1: 9, 34: 8, 84: 8, 51: 9, 94: 8, 55: 8, 53: 2, 83: 6, 95: 11, 76: 10, 26: 11, 60: 12, 37: 10, 85: 16, 77: 12, 21: 1, 50: 1, 93: 1, 47: 3, 46: 3, 88: 3, 59: 9, 0: 7, 19: 1, 22: 1, 24: 2, 96: 3, 87: 1, 17: 1, 25: 1} \n",
      "Biggest cluster: 117 Smallest cluster: 1 \n",
      "\n",
      "Run with parameters 0.1 1000.0 0.1\n",
      "k: 100\n",
      "{0: 92, 46: 3, 9: 9, 76: 11, 28: 5, 15: 3, 79: 4, 97: 6, 44: 7, 49: 10, 66: 4, 30: 12, 10: 24, 84: 21, 89: 16, 48: 2, 43: 1, 40: 8, 2: 1, 94: 1, 65: 14, 58: 7, 71: 21, 78: 16, 74: 1, 34: 13, 67: 1, 73: 11, 69: 18, 12: 7, 47: 9, 75: 1, 77: 10, 68: 44, 26: 1, 52: 10, 62: 7, 29: 15, 88: 7, 24: 12, 19: 1, 90: 9, 8: 1, 32: 1, 13: 1, 16: 1, 55: 9, 20: 1, 63: 5, 56: 1, 39: 1, 38: 1, 5: 1, 7: 1, 81: 9, 57: 1, 95: 4, 50: 1, 80: 12, 25: 115, 1: 1, 36: 1, 11: 87, 18: 36, 41: 10, 82: 16, 91: 13, 3: 61, 86: 27, 27: 14, 4: 30, 54: 10, 61: 13, 21: 8, 14: 8, 70: 15, 53: 19, 93: 8, 23: 11, 99: 21, 6: 36, 83: 14, 98: 12, 85: 16, 45: 3, 33: 12, 59: 13, 31: 8, 37: 9, 64: 15, 22: 1, 42: 10, 72: 7, 96: 7, 35: 9, 92: 6, 60: 1, 51: 1, 87: 4, 17: 2} \n",
      "Biggest cluster: 115 Smallest cluster: 1 \n",
      "\n",
      "Run with parameters 0.1 2000.0 0.01\n",
      "Run with parameters 0.1 2000.0 0.1\n",
      "Run with parameters 0.1 1000.0 0.01\n",
      "k: 150\n",
      "{56: 14, 94: 3, 54: 8, 63: 11, 104: 5, 95: 3, 145: 6, 26: 10, 57: 7, 58: 6, 19: 88, 118: 5, 61: 16, 100: 150, 32: 15, 107: 2, 8: 1, 138: 10, 5: 1, 76: 9, 69: 15, 119: 13, 97: 8, 122: 17, 80: 19, 149: 7, 109: 6, 93: 11, 92: 29, 121: 7, 141: 5, 146: 1, 86: 10, 33: 18, 15: 14, 2: 21, 124: 9, 131: 10, 129: 9, 127: 9, 112: 6, 68: 12, 35: 146, 148: 2, 11: 1, 7: 1, 37: 9, 71: 1, 117: 1, 43: 1, 49: 1, 46: 1, 30: 1, 110: 11, 73: 8, 135: 6, 39: 1, 38: 1, 34: 1, 9: 1, 114: 13, 1: 17, 66: 16, 91: 4, 87: 8, 137: 8, 133: 5, 99: 4, 77: 8, 134: 10, 113: 12, 125: 16, 59: 9, 96: 15, 130: 5, 98: 11, 143: 7, 51: 24, 102: 11, 103: 8, 142: 3, 123: 2, 132: 8, 147: 10, 81: 2, 90: 7, 83: 9, 126: 6, 28: 5, 115: 11, 65: 11, 120: 8, 139: 5, 62: 1, 101: 9, 105: 7, 0: 5, 50: 1, 36: 7, 108: 1, 128: 7, 144: 10, 111: 9, 52: 7, 41: 1, 10: 1, 25: 1, 20: 1, 13: 1, 82: 1, 53: 1, 24: 1, 45: 1, 17: 1, 31: 1, 12: 1, 85: 1, 40: 1, 4: 1, 75: 1, 79: 1, 23: 1, 29: 1, 27: 1, 14: 1, 6: 1, 3: 1, 140: 4, 106: 3, 116: 3, 44: 1, 88: 2, 78: 1, 55: 1, 60: 1, 22: 1, 70: 1, 18: 1, 48: 1, 67: 1, 64: 1, 74: 1, 47: 1, 21: 1, 42: 1, 89: 1, 72: 1, 16: 1, 136: 1, 84: 1} \n",
      "Biggest cluster: 150 Smallest cluster: 1 \n",
      "\n",
      "Run with parameters 0.1 1000.0 0.1\n",
      "Run with parameters 0.1 2000.0 0.01\n",
      "Run with parameters 0.1 2000.0 0.1\n",
      "Run with parameters 0.1 1000.0 0.01\n",
      "Run with parameters 0.1 1000.0 0.1\n",
      "Run with parameters 0.1 2000.0 0.01\n",
      "Run with parameters 0.1 2000.0 0.1\n",
      "Run with parameters 0.1 1000.0 0.01\n",
      "Run with parameters 0.1 1000.0 0.1\n",
      "Run with parameters 0.1 2000.0 0.01\n",
      "Run with parameters 0.1 2000.0 0.1\n",
      "Run with parameters 0.1 1000.0 0.01\n",
      "Run with parameters 0.1 1000.0 0.1\n",
      "Run with parameters 0.1 2000.0 0.01\n",
      "Run with parameters 0.1 2000.0 0.1\n",
      "Run with parameters 0.1 1000.0 0.01\n",
      "Run with parameters 0.1 1000.0 0.1\n",
      "Run with parameters 0.1 2000.0 0.01\n",
      "Run with parameters 0.1 2000.0 0.1\n",
      "Run with parameters 0.1 1000.0 0.01\n",
      "k: 40\n",
      "{2: 117, 30: 32, 5: 7, 20: 29, 29: 5, 28: 126, 18: 18, 11: 21, 23: 7, 31: 14, 12: 11, 1: 23, 4: 138, 9: 99, 39: 7, 26: 24, 16: 33, 37: 19, 8: 12, 6: 24, 7: 50, 27: 19, 0: 15, 35: 24, 10: 15, 21: 49, 32: 17, 14: 26, 34: 15, 3: 21, 33: 18, 38: 18, 22: 15, 17: 16, 36: 16, 13: 23, 15: 46, 19: 18, 24: 37, 25: 12} \n",
      "Biggest cluster: 138 Smallest cluster: 5 \n",
      "\n",
      "Run with parameters 0.1 1000.0 0.1\n",
      "Run with parameters 0.1 2000.0 0.01\n",
      "Run with parameters 0.1 2000.0 0.1\n",
      "Run with parameters 0.1 1000.0 0.01\n",
      "Run with parameters 0.1 1000.0 0.1\n",
      "Run with parameters 0.1 2000.0 0.01\n",
      "Run with parameters 0.1 2000.0 0.1\n",
      "Run with parameters 0.1 1000.0 0.01\n",
      "Run with parameters 0.1 1000.0 0.1\n",
      "k: 100\n",
      "{27: 50, 36: 3, 72: 9, 59: 15, 81: 6, 24: 3, 29: 4, 66: 15, 63: 7, 96: 8, 52: 45, 49: 9, 97: 16, 69: 17, 37: 16, 48: 2, 21: 1, 85: 6, 84: 5, 23: 1, 28: 10, 14: 19, 94: 11, 99: 4, 57: 24, 73: 12, 86: 9, 55: 1, 9: 11, 74: 17, 1: 9, 92: 9, 11: 1, 80: 10, 56: 15, 77: 20, 45: 16, 25: 1, 54: 10, 64: 10, 62: 10, 12: 15, 78: 7, 70: 9, 31: 1, 61: 10, 35: 1, 32: 1, 40: 1, 16: 1, 87: 1, 43: 15, 20: 10, 18: 1, 65: 5, 30: 1, 79: 1, 46: 1, 22: 1, 47: 1, 95: 7, 82: 1, 39: 1, 50: 112, 76: 44, 44: 1, 15: 1, 10: 87, 0: 3, 17: 15, 38: 62, 89: 16, 60: 10, 34: 9, 93: 7, 6: 17, 5: 19, 4: 58, 7: 37, 98: 30, 8: 17, 51: 12, 33: 14, 58: 3, 67: 12, 2: 9, 41: 9, 91: 5, 53: 12, 90: 11, 3: 4, 88: 8, 83: 8, 26: 1, 71: 10, 68: 9, 42: 1, 13: 1, 19: 2, 75: 1} \n",
      "Biggest cluster: 112 Smallest cluster: 1 \n",
      "\n",
      "Run with parameters 0.1 2000.0 0.01\n",
      "Run with parameters 0.1 2000.0 0.1\n",
      "Run with parameters 0.1 1000.0 0.01\n",
      "Run with parameters 0.1 1000.0 0.1\n",
      "Run with parameters 0.1 2000.0 0.01\n",
      "Run with parameters 0.1 2000.0 0.1\n"
     ]
    }
   ],
   "source": [
    "run_experiments([40, 70, 100, 150], 'views/profiles/')\n",
    "save_results('clusters/profiles/')"
   ],
   "metadata": {
    "collapsed": false,
    "pycharm": {
     "name": "#%%\n"
    }
   }
  },
  {
   "cell_type": "code",
   "execution_count": 9,
   "outputs": [
    {
     "data": {
      "text/plain": "<Figure size 1296x1728 with 4 Axes>",
      "image/png": "[encoded data removed]"
     },
     "metadata": {},
     "output_type": "display_data"
    }
   ],
   "source": [
    "import matplotlib.pyplot as plt\n",
    "\n",
    "plt.style.use('dark_background')\n",
    "\n",
    "def plot_histograms():\n",
    "    plt.figure(figsize=(18, 24))\n",
    "    plt.subplots_adjust(hspace=0.4)\n",
    "    cnt = 1\n",
    "    for i in histograms:\n",
    "        plt.subplot(len(histograms), 2, cnt)\n",
    "        cnt += 1\n",
    "        d = histograms[i]\n",
    "        plt.bar(d.keys(), d.values())\n",
    "        plt.title('k: ' + str(i))\n",
    "\n",
    "plot_histograms()"
   ],
   "metadata": {
    "collapsed": false,
    "pycharm": {
     "name": "#%%\n"
    }
   }
  }
 ],
 "metadata": {
  "kernelspec": {
   "display_name": "Python 3",
   "language": "python",
   "name": "python3"
  },
  "language_info": {
   "codemirror_mode": {
    "name": "ipython",
    "version": 2
   },
   "file_extension": ".py",
   "mimetype": "text/x-python",
   "name": "python",
   "nbconvert_exporter": "python",
   "pygments_lexer": "ipython2",
   "version": "2.7.6"
  }
 },
 "nbformat": 4,
 "nbformat_minor": 0
}