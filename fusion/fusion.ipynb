{
 "cells": [
  {
   "cell_type": "code",
   "execution_count": 2,
   "metadata": {
    "collapsed": true
   },
   "outputs": [],
   "source": [
    "import tensorflow as tf\n",
    "import numpy as np"
   ]
  },
  {
   "cell_type": "code",
   "execution_count": 3,
   "outputs": [
    {
     "name": "stdout",
     "output_type": "stream",
     "text": [
      "(5, 1200, 1200)\n"
     ]
    }
   ],
   "source": [
    "t = 5\n",
    "def load_data():\n",
    "    for i in range(t):\n",
    "        with open(\"GFSC/reuters_views/view\" + str(i) + \".npy\", 'rb') as f:\n",
    "            tmp = tf.cast([np.load(f)], dtype=tf.float32)\n",
    "            if i == 0:\n",
    "                x = tf.linalg.matmul(tmp, tmp, transpose_b=True)\n",
    "            else:\n",
    "                x = tf.concat([x, tf.linalg.matmul(tmp, tmp, transpose_b=True)], axis=0)\n",
    "    return x\n",
    "X = load_data()\n",
    "print(X.shape)"
   ],
   "metadata": {
    "collapsed": false,
    "pycharm": {
     "name": "#%%\n"
    }
   }
  },
  {
   "cell_type": "code",
   "execution_count": 18,
   "outputs": [],
   "source": [
    "k = 6\n",
    "steps = 200\n",
    "alphas, betas, gamma = [1.0], [1000.0], 0.01\n",
    "n = X.shape[2]"
   ],
   "metadata": {
    "collapsed": false,
    "pycharm": {
     "name": "#%%\n"
    }
   }
  },
  {
   "cell_type": "code",
   "execution_count": 19,
   "outputs": [],
   "source": [
    "def fusion():\n",
    "    f = None\n",
    "    for alpha in alphas:\n",
    "        for beta in betas:\n",
    "            reg = gamma / (4.0 * beta)\n",
    "            wv, wv_u = tf.cast([1.0 / t for _ in range(t)], dtype=tf.float32), None\n",
    "            i_alpha = tf.math.multiply(tf.eye(n, dtype=tf.float32), alpha)\n",
    "            i_beta = tf.math.multiply(tf.eye(n, dtype=tf.float32), beta)\n",
    "            s = tf.eye(n, dtype=tf.float32)\n",
    "            for step in range(steps):\n",
    "                s = tf.where(s > 0, s, tf.zeros(s.shape))\n",
    "                s = tf.math.divide(tf.math.add(s, tf.transpose(s)), 2.0)\n",
    "                z_sum = tf.zeros(s.shape)\n",
    "                for i in range(t):\n",
    "                    z = tf.linalg.solve(\n",
    "                        tf.math.add(tf.math.add(X[i], i_alpha), tf.math.multiply(i_beta, wv[i])),\n",
    "                        tf.math.add(tf.math.multiply(s, tf.math.multiply(wv[i], beta)), X[i]))\n",
    "                    z = tf.where(z > 0, z, tf.zeros(z.shape))\n",
    "                    z = tf.math.divide(tf.math.add(z, tf.transpose(z)), 2.0)\n",
    "                    w = tf.math.divide(0.5, tf.norm(tf.math.subtract(z, s)))\n",
    "                    wv_u = tf.reshape(w, [1]) if i == 0 else tf.concat([wv_u, [w]], axis=0)\n",
    "                    z = tf.math.multiply(z, w)\n",
    "                    z_sum = tf.math.add(z_sum, z)\n",
    "\n",
    "                l = tf.math.subtract(tf.linalg.diag(tf.math.reduce_sum(s, 0)), s)\n",
    "                (_, f) = tf.linalg.eigh(l)\n",
    "                f = tf.slice(f, [0, 0], [f.shape[0], k])\n",
    "                p = tf.norm(tf.math.subtract(f[0][:], f), axis=1, keepdims=True)\n",
    "                for i in range(1, n):\n",
    "                     p = tf.concat([p, tf.norm(tf.math.subtract(f[0][:], f), axis=1, keepdims=True)], 1)\n",
    "                p = tf.math.multiply(tf.math.square(p), reg)\n",
    "                wv = wv_u\n",
    "                s_old = s\n",
    "                s = tf.math.divide((tf.math.subtract(z_sum, p)), tf.math.reduce_sum(wv, 0))\n",
    "                if step > 5 and tf.math.less(tf.math.divide(tf.norm(tf.math.subtract(s, s_old)), tf.norm(s_old)), 1.e-3):\n",
    "                    break\n",
    "    return f"
   ],
   "metadata": {
    "collapsed": false,
    "pycharm": {
     "name": "#%%\n"
    }
   }
  },
  {
   "cell_type": "code",
   "execution_count": 20,
   "outputs": [
    {
     "name": "stdout",
     "output_type": "stream",
     "text": [
      "tf.Tensor(\n",
      "[[ 0.02887338 -0.0068409   0.00262845 -0.02016393 -0.02948655 -0.0260959 ]\n",
      " [ 0.02887817  0.22645688 -0.09875882 -0.01463154  0.01879995 -0.01402079]\n",
      " [ 0.02887604  0.03631481  0.1006254  -0.07639755 -0.00193545  0.03355392]\n",
      " ...\n",
      " [ 0.02886708 -0.01025294 -0.01158178  0.00119391  0.00980991 -0.05308314]\n",
      " [ 0.02886656 -0.00464873 -0.00155176 -0.0056548  -0.00696376  0.01128093]\n",
      " [ 0.02886647 -0.00687443 -0.00237176 -0.00442624 -0.0065471   0.00279775]], shape=(1200, 6), dtype=float32)\n"
     ]
    }
   ],
   "source": [
    "F = fusion()\n",
    "print(F)"
   ],
   "metadata": {
    "collapsed": false,
    "pycharm": {
     "name": "#%%\n"
    }
   }
  }
 ],
 "metadata": {
  "kernelspec": {
   "display_name": "Python 3",
   "language": "python",
   "name": "python3"
  },
  "language_info": {
   "codemirror_mode": {
    "name": "ipython",
    "version": 2
   },
   "file_extension": ".py",
   "mimetype": "text/x-python",
   "name": "python",
   "nbconvert_exporter": "python",
   "pygments_lexer": "ipython2",
   "version": "2.7.6"
  }
 },
 "nbformat": 4,
 "nbformat_minor": 0
}