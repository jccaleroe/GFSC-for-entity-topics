{
 "cells": [
  {
   "cell_type": "code",
   "execution_count": 1,
   "metadata": {
    "collapsed": true
   },
   "outputs": [],
   "source": [
    "import tensorflow as tf\n",
    "import numpy as np\n",
    "import os"
   ]
  },
  {
   "cell_type": "code",
   "execution_count": 2,
   "outputs": [],
   "source": [
    "def load_data(path):\n",
    "    x = None\n",
    "    for filename in os.listdir(path):\n",
    "        with open(os.path.join(path, filename), 'rb') as f:\n",
    "            tmp = tf.cast([np.load(f)], dtype=tf.float64)\n",
    "            if x is None:\n",
    "                x = tf.linalg.matmul(tmp, tmp, transpose_b=True)\n",
    "            else:\n",
    "                x = tf.concat([x, tf.linalg.matmul(tmp, tmp, transpose_b=True)], axis=0)\n",
    "    return x"
   ],
   "metadata": {
    "collapsed": false,
    "pycharm": {
     "name": "#%%\n"
    }
   }
  },
  {
   "cell_type": "code",
   "execution_count": 3,
   "outputs": [],
   "source": [
    "steps = 200\n",
    "# alphas, betas, gammas = [1.0, 0.1], [1000.0, 2000.0, 100.0], [0.01, 0.1]\n",
    "alphas, betas, gammas = [0.1], [1000.0], [0.01]"
   ],
   "metadata": {
    "collapsed": false,
    "pycharm": {
     "name": "#%%\n"
    }
   }
  },
  {
   "cell_type": "code",
   "execution_count": 4,
   "outputs": [],
   "source": [
    "def fusion(x, k, alpha, beta, gamma):\n",
    "    f = None\n",
    "    n = x.shape[1]\n",
    "    t = x.shape[0]\n",
    "    reg = gamma / (4.0 * beta)\n",
    "    wv, wv_u = tf.cast([1.0 / t for _ in range(t)], dtype=tf.float64), None\n",
    "    i_alpha = tf.math.multiply(tf.eye(n, dtype=tf.float64), alpha)\n",
    "    i_beta = tf.math.multiply(tf.eye(n, dtype=tf.float64), beta)\n",
    "    s = tf.eye(n, dtype=tf.float64)\n",
    "    for step in range(steps):\n",
    "        s = tf.where(s > 0, s, tf.zeros(s.shape, dtype=tf.float64))\n",
    "        s = tf.math.divide(tf.math.add(s, tf.transpose(s)), 2.0)\n",
    "        z_sum = tf.zeros(s.shape, dtype=tf.float64)\n",
    "        for i in range(t):\n",
    "            z = tf.linalg.solve(\n",
    "                tf.math.add(tf.math.add(x[i], i_alpha), tf.math.multiply(i_beta, wv[i])),\n",
    "                tf.math.add(tf.math.multiply(s, tf.math.multiply(wv[i], beta)), x[i]))\n",
    "            z = tf.where(z > 0, z, tf.zeros(z.shape, dtype=tf.float64))\n",
    "            z = tf.math.divide(tf.math.add(z, tf.transpose(z)), 2.0)\n",
    "            w = tf.math.divide(0.5, tf.norm(tf.math.subtract(z, s)))\n",
    "            wv_u = tf.reshape(w, [1]) if i == 0 else tf.concat([wv_u, [w]], axis=0)\n",
    "            z = tf.math.multiply(z, w)\n",
    "            z_sum = tf.math.add(z_sum, z)\n",
    "\n",
    "        l = tf.math.subtract(tf.linalg.diag(tf.math.reduce_sum(s, 0)), s)\n",
    "        (_, f) = tf.linalg.eigh(l)\n",
    "        f = tf.slice(f, [0, 0], [f.shape[0], k])\n",
    "        p = tf.norm(tf.math.subtract(f[0][:], f), axis=1, keepdims=True)\n",
    "        for i in range(1, n):\n",
    "             p = tf.concat([p, tf.norm(tf.math.subtract(f[0][:], f), axis=1, keepdims=True)], 1)\n",
    "        p = tf.math.multiply(tf.math.square(p), reg)\n",
    "        wv = wv_u\n",
    "        s_old = s\n",
    "        s = tf.math.divide((tf.math.subtract(z_sum, p)), tf.math.reduce_sum(wv, 0))\n",
    "        if step > 5 and tf.math.less(tf.math.divide(tf.norm(tf.math.subtract(s, s_old)), tf.norm(s_old)), 1.e-4):\n",
    "            print('Criterion found after', step, 'steps')\n",
    "            return f\n",
    "    return f"
   ],
   "metadata": {
    "collapsed": false,
    "pycharm": {
     "name": "#%%\n"
    }
   }
  },
  {
   "cell_type": "code",
   "execution_count": 5,
   "outputs": [],
   "source": [
    "from sklearn.cluster import KMeans\n",
    "\n",
    "def run_k_means(k, f):\n",
    "        k_means = KMeans(n_clusters=k, n_init=12).fit(f)\n",
    "        clusters = k_means.labels_\n",
    "        d = {}\n",
    "        for i in clusters:\n",
    "            if i in d:\n",
    "                d[i] += 1\n",
    "            else:\n",
    "                d[i] = 1\n",
    "        histograms[k] = d\n",
    "        max_k = 0\n",
    "        for i in d:\n",
    "            max_k = max(max_k, d[i])\n",
    "        print('Biggest cluster:', max_k)\n",
    "        print('k:', k, '\\n', 'Clusters:', d)\n",
    "        return clusters"
   ],
   "metadata": {
    "collapsed": false,
    "pycharm": {
     "name": "#%%\n"
    }
   }
  },
  {
   "cell_type": "code",
   "execution_count": 6,
   "outputs": [],
   "source": [
    "def run_experiments(ks, views):\n",
    "    d = {}\n",
    "    x = load_data(views)\n",
    "    print(x.shape)\n",
    "    for k in ks:\n",
    "        d[k] = {}\n",
    "        for alpha in alphas:\n",
    "            d[k][alpha] = {}\n",
    "            for beta in betas:\n",
    "                d[k][alpha][beta] = {}\n",
    "                for gamma in gammas:\n",
    "                    print('Run with parameters', alpha, beta, gamma)\n",
    "                    d[k][alpha][beta][gamma] = run_k_means(k, fusion(x, k, alpha, beta, gamma).numpy())\n",
    "    return d"
   ],
   "metadata": {
    "collapsed": false,
    "pycharm": {
     "name": "#%%\n"
    }
   }
  },
  {
   "cell_type": "code",
   "execution_count": 7,
   "outputs": [],
   "source": [
    "def save_np(name, matrix):\n",
    "    with open(name + \".npy\", 'wb') as f:\n",
    "        np.save(f, matrix)\n",
    "\n",
    "def save_results(results, c_id):\n",
    "    for k in results:\n",
    "        for alpha in results[k]:\n",
    "            for beta in results[k][alpha]:\n",
    "                for gamma in results[k][alpha][beta]:\n",
    "                    tmp = 'clusters/'+c_id+'_'+ str(k)+'_'+str(alpha)+'_'+str(beta)+'_'+str(gamma)\n",
    "                    save_np(tmp, results[k][alpha][beta][gamma])"
   ],
   "metadata": {
    "collapsed": false,
    "pycharm": {
     "name": "#%%\n"
    }
   }
  },
  {
   "cell_type": "code",
   "execution_count": 8,
   "outputs": [
    {
     "name": "stdout",
     "output_type": "stream",
     "text": [
      "(2, 391, 391)\n",
      "Run with parameters 0.1 1000.0 0.01\n",
      "Criterion found after 6 steps\n",
      "Biggest cluster: 106\n",
      "k: 30 \n",
      " Clusters: {17: 13, 4: 12, 24: 3, 9: 7, 13: 2, 29: 7, 3: 5, 6: 8, 21: 9, 11: 6, 5: 3, 8: 14, 22: 7, 0: 17, 26: 4, 2: 28, 1: 11, 23: 42, 14: 106, 16: 3, 18: 38, 10: 2, 7: 6, 25: 13, 20: 9, 19: 2, 12: 3, 28: 2, 15: 7, 27: 2}\n",
      "Run with parameters 0.1 1000.0 0.01\n",
      "Criterion found after 6 steps\n",
      "Biggest cluster: 70\n",
      "k: 50 \n",
      " Clusters: {19: 4, 42: 15, 7: 8, 27: 10, 15: 2, 16: 7, 29: 3, 9: 8, 39: 7, 31: 6, 26: 3, 2: 7, 13: 12, 38: 8, 4: 6, 23: 4, 49: 5, 44: 3, 12: 7, 24: 22, 3: 11, 28: 70, 8: 3, 41: 5, 47: 4, 34: 2, 11: 2, 10: 27, 20: 3, 46: 4, 37: 2, 5: 14, 6: 16, 40: 6, 33: 2, 21: 2, 18: 5, 25: 3, 1: 2, 14: 14, 45: 2, 36: 2, 0: 11, 17: 2, 30: 22, 48: 2, 43: 1, 32: 1, 22: 2, 35: 2}\n",
      "Run with parameters 0.1 1000.0 0.01\n",
      "Criterion found after 6 steps\n",
      "Biggest cluster: 51\n",
      "k: 70 \n",
      " Clusters: {53: 4, 38: 14, 43: 3, 60: 4, 65: 2, 45: 3, 21: 3, 28: 8, 26: 9, 56: 6, 24: 3, 62: 3, 25: 4, 29: 2, 49: 3, 33: 4, 13: 3, 63: 2, 41: 2, 40: 3, 22: 7, 9: 51, 48: 3, 42: 1, 3: 37, 10: 3, 37: 5, 20: 2, 59: 2, 67: 2, 35: 2, 5: 2, 14: 2, 6: 16, 52: 2, 17: 2, 0: 4, 69: 1, 1: 8, 7: 17, 68: 7, 15: 2, 54: 3, 64: 3, 12: 2, 18: 12, 27: 2, 8: 6, 2: 19, 23: 3, 11: 2, 51: 3, 34: 16, 31: 2, 36: 2, 30: 2, 46: 2, 57: 5, 39: 4, 4: 8, 58: 2, 50: 10, 47: 10, 44: 1, 19: 1, 32: 2, 55: 3, 16: 1, 61: 1, 66: 1}\n",
      "Run with parameters 0.1 1000.0 0.01\n",
      "Criterion found after 6 steps\n",
      "Biggest cluster: 39\n",
      "k: 100 \n",
      " Clusters: {29: 4, 96: 3, 63: 3, 94: 4, 14: 2, 15: 6, 61: 3, 2: 5, 99: 5, 28: 5, 27: 3, 40: 3, 48: 4, 87: 2, 59: 3, 47: 4, 5: 4, 56: 2, 19: 2, 65: 3, 6: 9, 21: 7, 32: 9, 51: 3, 72: 1, 44: 39, 13: 3, 58: 5, 77: 2, 97: 4, 33: 2, 54: 2, 3: 12, 11: 2, 1: 4, 7: 6, 69: 2, 24: 3, 78: 2, 88: 5, 23: 2, 22: 2, 86: 3, 0: 7, 18: 17, 38: 2, 35: 2, 20: 6, 26: 2, 84: 5, 89: 2, 10: 3, 39: 2, 25: 3, 83: 2, 98: 2, 41: 2, 67: 2, 34: 2, 30: 2, 92: 2, 57: 15, 75: 3, 73: 3, 45: 3, 79: 1, 55: 2, 91: 2, 9: 2, 71: 19, 53: 8, 4: 6, 8: 7, 64: 1, 60: 2, 70: 2, 80: 3, 90: 1, 17: 3, 31: 7, 74: 2, 85: 1, 12: 1, 50: 1, 46: 7, 66: 2, 49: 3, 42: 2, 62: 1, 93: 1, 68: 1, 82: 3, 16: 1, 36: 2, 37: 2, 43: 1, 52: 2, 81: 2, 95: 1, 76: 1}\n",
      "Run with parameters 0.1 1000.0 0.01\n",
      "Criterion found after 6 steps\n",
      "Biggest cluster: 29\n",
      "k: 200 \n",
      " Clusters: {13: 4, 136: 11, 54: 3, 186: 4, 37: 2, 125: 4, 26: 3, 40: 3, 156: 2, 57: 4, 8: 3, 21: 3, 3: 4, 19: 3, 114: 2, 10: 4, 134: 3, 66: 2, 190: 2, 82: 4, 35: 3, 11: 22, 131: 2, 129: 1, 148: 1, 12: 3, 142: 4, 149: 2, 5: 2, 23: 2, 65: 2, 135: 1, 15: 2, 141: 2, 93: 2, 34: 29, 71: 2, 69: 2, 78: 3, 29: 3, 180: 1, 32: 5, 189: 1, 94: 2, 183: 3, 63: 1, 109: 2, 124: 1, 132: 1, 120: 2, 197: 2, 51: 2, 88: 2, 18: 2, 150: 2, 92: 2, 0: 2, 24: 3, 43: 2, 171: 3, 77: 1, 17: 2, 152: 2, 98: 2, 20: 2, 38: 2, 97: 1, 76: 2, 106: 1, 112: 1, 167: 2, 151: 2, 159: 1, 113: 2, 118: 2, 50: 2, 75: 2, 176: 2, 9: 5, 100: 2, 25: 4, 107: 2, 2: 3, 48: 1, 33: 2, 177: 2, 110: 2, 192: 2, 115: 12, 154: 1, 166: 1, 27: 4, 194: 1, 58: 1, 16: 1, 86: 1, 153: 1, 199: 1, 39: 1, 162: 1, 164: 1, 46: 1, 44: 1, 126: 1, 123: 1, 56: 1, 161: 1, 155: 2, 79: 1, 117: 2, 81: 1, 42: 1, 195: 1, 139: 1, 191: 1, 138: 1, 47: 1, 188: 1, 185: 1, 84: 1, 30: 1, 67: 1, 28: 1, 72: 1, 105: 1, 62: 1, 87: 1, 174: 1, 169: 1, 116: 1, 60: 1, 160: 1, 163: 1, 55: 1, 53: 1, 181: 1, 196: 1, 7: 1, 101: 1, 145: 1, 103: 1, 96: 1, 6: 2, 45: 1, 36: 1, 95: 1, 157: 1, 127: 1, 173: 1, 91: 1, 122: 1, 73: 1, 41: 1, 68: 1, 90: 1, 99: 1, 52: 1, 130: 1, 61: 1, 187: 2, 119: 1, 83: 1, 49: 1, 89: 1, 168: 1, 179: 1, 137: 1, 70: 2, 193: 2, 4: 2, 31: 1, 165: 1, 74: 1, 22: 1, 178: 1, 121: 1, 184: 1, 102: 1, 128: 1, 172: 1, 14: 1, 198: 1, 104: 1, 158: 1, 175: 1, 182: 1, 133: 1, 170: 1, 59: 1, 80: 1, 85: 1, 64: 1, 140: 1, 143: 1, 147: 1, 144: 1, 111: 1, 1: 2, 108: 1, 146: 1}\n",
      "Run with parameters 0.1 1000.0 0.01\n",
      "Criterion found after 6 steps\n",
      "Biggest cluster: 12\n",
      "k: 300 \n",
      " Clusters: {47: 6, 2: 12, 58: 3, 8: 3, 28: 2, 147: 3, 14: 3, 184: 1, 93: 3, 31: 3, 98: 3, 7: 3, 12: 4, 127: 2, 176: 1, 32: 2, 267: 1, 54: 2, 259: 1, 284: 1, 1: 2, 262: 1, 197: 1, 240: 1, 175: 1, 13: 3, 81: 8, 207: 1, 224: 2, 266: 1, 53: 1, 140: 1, 27: 2, 229: 2, 67: 2, 280: 2, 273: 2, 160: 1, 203: 2, 265: 1, 134: 1, 237: 1, 295: 1, 200: 1, 40: 2, 254: 1, 35: 1, 171: 1, 64: 4, 9: 1, 154: 1, 177: 1, 249: 2, 270: 1, 50: 2, 227: 1, 102: 7, 61: 1, 269: 1, 23: 3, 39: 3, 244: 1, 3: 2, 20: 1, 169: 2, 162: 1, 128: 2, 36: 2, 150: 1, 193: 1, 80: 1, 137: 1, 236: 1, 209: 1, 178: 1, 89: 1, 55: 1, 255: 1, 286: 1, 297: 1, 30: 2, 144: 1, 299: 1, 268: 1, 68: 1, 69: 2, 51: 2, 242: 1, 275: 1, 26: 2, 5: 1, 168: 1, 112: 1, 52: 2, 257: 1, 264: 1, 281: 1, 258: 1, 277: 1, 234: 1, 132: 1, 272: 1, 256: 1, 210: 1, 129: 1, 6: 1, 276: 1, 274: 1, 10: 1, 191: 1, 70: 1, 11: 1, 135: 1, 110: 1, 199: 1, 188: 1, 106: 1, 41: 1, 166: 1, 83: 1, 90: 1, 104: 1, 126: 1, 296: 1, 103: 1, 204: 1, 186: 1, 291: 1, 73: 1, 82: 1, 170: 2, 149: 1, 101: 1, 161: 1, 131: 1, 45: 1, 99: 1, 72: 1, 79: 1, 235: 1, 241: 1, 246: 1, 60: 1, 100: 5, 226: 1, 117: 1, 248: 1, 114: 1, 118: 1, 201: 1, 141: 1, 208: 1, 86: 1, 46: 1, 116: 1, 172: 1, 159: 1, 148: 1, 182: 1, 29: 1, 190: 1, 165: 1, 97: 1, 228: 1, 113: 1, 84: 1, 88: 1, 214: 1, 78: 1, 253: 1, 120: 1, 105: 1, 16: 1, 21: 1, 189: 1, 239: 1, 251: 1, 158: 1, 205: 1, 136: 1, 139: 1, 56: 1, 202: 1, 18: 1, 95: 1, 153: 1, 25: 1, 222: 2, 250: 2, 17: 1, 157: 1, 108: 1, 119: 1, 43: 1, 44: 1, 65: 1, 151: 1, 122: 1, 33: 1, 71: 1, 155: 1, 92: 1, 156: 1, 96: 1, 0: 1, 87: 1, 59: 1, 285: 1, 74: 1, 219: 1, 62: 1, 123: 1, 174: 1, 94: 1, 22: 1, 288: 1, 37: 1, 125: 1, 247: 1, 38: 1, 76: 1, 77: 1, 15: 1, 121: 1, 163: 1, 283: 1, 271: 2, 111: 1, 223: 1, 287: 1, 4: 2, 63: 2, 282: 1, 215: 1, 278: 1, 206: 1, 57: 1, 138: 1, 124: 1, 146: 1, 145: 1, 85: 1, 109: 1, 107: 1, 217: 1, 194: 1, 263: 1, 260: 1, 198: 1, 292: 1, 164: 1, 213: 1, 187: 1, 48: 1, 220: 1, 75: 1, 216: 1, 19: 1, 243: 1, 179: 1, 173: 1, 293: 1, 221: 1, 294: 1, 252: 1, 152: 1, 230: 1, 218: 1, 42: 1, 185: 1, 279: 1, 289: 1, 225: 1, 196: 1, 49: 1, 211: 1, 212: 1, 130: 1, 167: 1, 133: 1, 181: 1, 34: 1, 180: 1, 245: 1, 143: 1, 232: 1, 66: 1, 238: 1, 290: 1, 91: 1, 233: 1, 231: 1, 24: 1, 115: 1, 298: 1, 195: 1, 261: 1, 192: 1, 142: 1, 183: 1}\n"
     ]
    }
   ],
   "source": [
    "histograms = {}\n",
    "save_results(run_experiments([30, 50, 70, 100, 200, 300], 'views/profiles/'), 'profiles2')"
   ],
   "metadata": {
    "collapsed": false,
    "pycharm": {
     "name": "#%%\n"
    }
   }
  },
  {
   "cell_type": "code",
   "execution_count": 9,
   "outputs": [
    {
     "data": {
      "text/plain": "<Figure size 1296x1728 with 6 Axes>",
      "image/png": "[encoded data removed]"
     },
     "metadata": {
      "needs_background": "dark"
     },
     "output_type": "display_data"
    }
   ],
   "source": [
    "import matplotlib.pyplot as plt\n",
    "plt.figure(figsize=(18, 24))\n",
    "plt.style.use('dark_background')\n",
    "\n",
    "def plot_histograms():\n",
    "    plt.subplots_adjust(hspace=0.4)\n",
    "    cnt = 1\n",
    "    for i in histograms:\n",
    "        plt.subplot(len(histograms), 2, cnt)\n",
    "        cnt += 1\n",
    "        d = histograms[i]\n",
    "        plt.bar(d.keys(), d.values())\n",
    "        plt.title('k: ' + str(i))\n",
    "\n",
    "plot_histograms()"
   ],
   "metadata": {
    "collapsed": false,
    "pycharm": {
     "name": "#%%\n"
    }
   }
  }
 ],
 "metadata": {
  "kernelspec": {
   "display_name": "Python 3",
   "language": "python",
   "name": "python3"
  },
  "language_info": {
   "codemirror_mode": {
    "name": "ipython",
    "version": 2
   },
   "file_extension": ".py",
   "mimetype": "text/x-python",
   "name": "python",
   "nbconvert_exporter": "python",
   "pygments_lexer": "ipython2",
   "version": "2.7.6"
  }
 },
 "nbformat": 4,
 "nbformat_minor": 0
}