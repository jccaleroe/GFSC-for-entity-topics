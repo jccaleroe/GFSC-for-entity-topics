{
 "cells": [
  {
   "cell_type": "code",
   "execution_count": 1,
   "metadata": {
    "collapsed": true
   },
   "outputs": [],
   "source": [
    "import tensorflow as tf\n",
    "import numpy as np\n",
    "import os"
   ]
  },
  {
   "cell_type": "code",
   "execution_count": 2,
   "outputs": [],
   "source": [
    "def load_data(path):\n",
    "    x = None\n",
    "    for filename in os.listdir(path):\n",
    "        with open(os.path.join(path, filename), 'rb') as f:\n",
    "            tmp = tf.cast([np.load(f)], dtype=tf.float64)\n",
    "            if x is None:\n",
    "                x = tf.linalg.matmul(tmp, tmp, transpose_b=True)\n",
    "            else:\n",
    "                x = tf.concat([x, tf.linalg.matmul(tmp, tmp, transpose_b=True)], axis=0)\n",
    "    return x"
   ],
   "metadata": {
    "collapsed": false,
    "pycharm": {
     "name": "#%%\n"
    }
   }
  },
  {
   "cell_type": "code",
   "execution_count": 3,
   "outputs": [],
   "source": [
    "steps = 200\n",
    "#alphas, betas, gammas = [1.0, 0.1], [1000.0, 2000.0, 100.0], [0.01, 0.1]\n",
    "alphas, betas, gammas = [0.1], [1000.0, 2000.0], [0.01]"
   ],
   "metadata": {
    "collapsed": false,
    "pycharm": {
     "name": "#%%\n"
    }
   }
  },
  {
   "cell_type": "code",
   "execution_count": 4,
   "outputs": [],
   "source": [
    "def fusion(x, k, alpha, beta, gamma):\n",
    "    f = None\n",
    "    n = x.shape[1]\n",
    "    t = x.shape[0]\n",
    "    reg = gamma / (4.0 * beta)\n",
    "    wv, wv_u = tf.cast([1.0 / t for _ in range(t)], dtype=tf.float64), None\n",
    "    i_alpha = tf.math.multiply(tf.eye(n, dtype=tf.float64), alpha)\n",
    "    i_beta = tf.math.multiply(tf.eye(n, dtype=tf.float64), beta)\n",
    "    s = tf.eye(n, dtype=tf.float64)\n",
    "    for step in range(steps):\n",
    "        s = tf.where(s > 0, s, tf.zeros(s.shape, dtype=tf.float64))\n",
    "        s = tf.math.divide(tf.math.add(s, tf.transpose(s)), 2.0)\n",
    "        z_sum = tf.zeros(s.shape, dtype=tf.float64)\n",
    "        for i in range(t):\n",
    "            z = tf.linalg.solve(\n",
    "                tf.math.add(tf.math.add(x[i], i_alpha), tf.math.multiply(i_beta, wv[i])),\n",
    "                tf.math.add(tf.math.multiply(s, tf.math.multiply(wv[i], beta)), x[i]))\n",
    "            z = tf.where(z > 0, z, tf.zeros(z.shape, dtype=tf.float64))\n",
    "            z = tf.math.divide(tf.math.add(z, tf.transpose(z)), 2.0)\n",
    "            w = tf.math.divide(0.5, tf.norm(tf.math.subtract(z, s)))\n",
    "            wv_u = tf.reshape(w, [1]) if i == 0 else tf.concat([wv_u, [w]], axis=0)\n",
    "            z = tf.math.multiply(z, w)\n",
    "            z_sum = tf.math.add(z_sum, z)\n",
    "\n",
    "        l = tf.math.subtract(tf.linalg.diag(tf.math.reduce_sum(s, 0)), s)\n",
    "        (_, f) = tf.linalg.eigh(l)\n",
    "        f = tf.slice(f, [0, 0], [f.shape[0], k])\n",
    "        p = tf.norm(tf.math.subtract(f[0][:], f), axis=1, keepdims=True)\n",
    "        for i in range(1, n):\n",
    "             p = tf.concat([p, tf.norm(tf.math.subtract(f[0][:], f), axis=1, keepdims=True)], 1)\n",
    "        p = tf.math.multiply(tf.math.square(p), reg)\n",
    "        wv = wv_u\n",
    "        s_old = s\n",
    "        s = tf.math.divide((tf.math.subtract(z_sum, p)), tf.math.reduce_sum(wv, 0))\n",
    "        if step > 5 and tf.math.less(tf.math.divide(tf.norm(tf.math.subtract(s, s_old)), tf.norm(s_old)), 1.e-4):\n",
    "            print('Criterion found after', step, 'steps')\n",
    "            return f\n",
    "    return f"
   ],
   "metadata": {
    "collapsed": false,
    "pycharm": {
     "name": "#%%\n"
    }
   }
  },
  {
   "cell_type": "code",
   "execution_count": 5,
   "outputs": [],
   "source": [
    "from sklearn.cluster import KMeans\n",
    "\n",
    "def run_k_means(k, f):\n",
    "        k_means = KMeans(n_clusters=k, n_init=10).fit(f)\n",
    "        clusters = k_means.labels_\n",
    "        d = {}\n",
    "        for i in clusters:\n",
    "            if i in d:\n",
    "                d[i] += 1\n",
    "            else:\n",
    "                d[i] = 1\n",
    "        print('k:', k, '\\n', 'Clusters:', d)\n",
    "        return clusters"
   ],
   "metadata": {
    "collapsed": false,
    "pycharm": {
     "name": "#%%\n"
    }
   }
  },
  {
   "cell_type": "code",
   "execution_count": 6,
   "outputs": [],
   "source": [
    "def run_experiments(ks, views):\n",
    "    d = {}\n",
    "    x = load_data(views)\n",
    "    print(x.shape)\n",
    "    for k in ks:\n",
    "        d[k] = {}\n",
    "        for alpha in alphas:\n",
    "            d[k][alpha] = {}\n",
    "            for beta in betas:\n",
    "                d[k][alpha][beta] = {}\n",
    "                for gamma in gammas:\n",
    "                    print('Run with parameters', alpha, beta, gamma)\n",
    "                    d[k][alpha][beta][gamma] = run_k_means(k, fusion(x, k, alpha, beta, gamma).numpy())\n",
    "    return d"
   ],
   "metadata": {
    "collapsed": false,
    "pycharm": {
     "name": "#%%\n"
    }
   }
  },
  {
   "cell_type": "code",
   "execution_count": 7,
   "outputs": [],
   "source": [
    "def save_np(name, matrix):\n",
    "    with open(name + \".npy\", 'wb') as f:\n",
    "        np.save(f, matrix)\n",
    "\n",
    "def save_results(results, c_id):\n",
    "    for k in results:\n",
    "        for alpha in results[k]:\n",
    "            for beta in results[k][alpha]:\n",
    "                for gamma in results[k][alpha][beta]:\n",
    "                    tmp = 'clusters/'+c_id+'_'+ str(k)+'_'+str(alpha)+'_'+str(beta)+'_'+str(gamma)\n",
    "                    save_np(tmp, results[k][alpha][beta][gamma])"
   ],
   "metadata": {
    "collapsed": false,
    "pycharm": {
     "name": "#%%\n"
    }
   }
  },
  {
   "cell_type": "code",
   "execution_count": 8,
   "outputs": [
    {
     "name": "stdout",
     "output_type": "stream",
     "text": [
      "(2, 733, 733)\n",
      "Run with parameters 0.1 1000.0 0.01\n",
      "Criterion found after 6 steps\n",
      "k: 33 \n",
      " Clusters: {7: 11, 16: 4, 13: 47, 5: 4, 11: 21, 8: 10, 18: 15, 23: 41, 0: 11, 21: 6, 17: 12, 14: 16, 19: 9, 15: 10, 3: 7, 2: 14, 31: 4, 25: 9, 32: 31, 24: 10, 4: 33, 28: 11, 9: 92, 1: 202, 26: 34, 27: 20, 30: 5, 20: 10, 29: 6, 10: 7, 12: 11, 22: 7, 6: 3}\n",
      "Run with parameters 0.1 2000.0 0.01\n",
      "Criterion found after 6 steps\n",
      "k: 33 \n",
      " Clusters: {11: 11, 21: 5, 31: 22, 22: 4, 1: 22, 20: 11, 9: 15, 12: 17, 26: 3, 14: 4, 3: 9, 7: 16, 15: 14, 13: 9, 4: 10, 18: 7, 8: 15, 24: 4, 23: 7, 27: 8, 30: 25, 17: 204, 0: 33, 2: 37, 10: 54, 32: 33, 6: 54, 28: 11, 5: 21, 25: 37, 19: 6, 16: 2, 29: 3}\n"
     ]
    }
   ],
   "source": [
    "save_results(run_experiments([33], 'views/nodes/both/'), 'profiles_2V_AT')"
   ],
   "metadata": {
    "collapsed": false,
    "pycharm": {
     "name": "#%%\n"
    }
   }
  }
 ],
 "metadata": {
  "kernelspec": {
   "display_name": "Python 3",
   "language": "python",
   "name": "python3"
  },
  "language_info": {
   "codemirror_mode": {
    "name": "ipython",
    "version": 2
   },
   "file_extension": ".py",
   "mimetype": "text/x-python",
   "name": "python",
   "nbconvert_exporter": "python",
   "pygments_lexer": "ipython2",
   "version": "2.7.6"
  }
 },
 "nbformat": 4,
 "nbformat_minor": 0
}