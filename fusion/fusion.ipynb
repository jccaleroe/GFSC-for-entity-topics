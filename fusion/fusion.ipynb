{
 "cells": [
  {
   "cell_type": "code",
   "execution_count": 1,
   "metadata": {
    "collapsed": true
   },
   "outputs": [],
   "source": [
    "import tensorflow as tf\n",
    "import numpy as np"
   ]
  },
  {
   "cell_type": "code",
   "execution_count": 2,
   "outputs": [],
   "source": [
    "X = []\n",
    "t = 1\n",
    "for i in range(t):\n",
    "    with open(\"single_matrix/view\" + str(i) + \".npy\", 'rb') as f:\n",
    "        X.append(tf.cast(tf.sparse.from_dense(np.load(f)), dtype=tf.float32))"
   ],
   "metadata": {
    "collapsed": false,
    "pycharm": {
     "name": "#%%\n"
    }
   }
  },
  {
   "cell_type": "code",
   "execution_count": 3,
   "outputs": [],
   "source": [
    "k = 7\n",
    "steps = 1\n",
    "n = X[0].shape[1]\n",
    "alpha, beta, gamma = 1.0, 1000, 0.01\n",
    "wv = [1.0 / t for i in range(t)]\n",
    "reg = gamma / (4.0 * beta)\n",
    "I = tf.eye(n, dtype=tf.float32)\n",
    "S = tf.eye(n, dtype=tf.float32)"
   ],
   "metadata": {
    "collapsed": false,
    "pycharm": {
     "name": "#%%\n"
    }
   }
  },
  {
   "cell_type": "code",
   "execution_count": 4,
   "outputs": [
    {
     "name": "stdout",
     "output_type": "stream",
     "text": [
      "tf.Tensor(\n",
      "[[ 0.00857917 -0.0005822  -0.00058219 ... -0.00058224 -0.00058224\n",
      "  -0.00058224]\n",
      " [-0.0005822   0.00857941 -0.0005821  ... -0.00058224 -0.00058224\n",
      "  -0.00058224]\n",
      " [-0.00058219 -0.0005821   0.00857929 ... -0.00058224 -0.00058224\n",
      "  -0.00058224]\n",
      " ...\n",
      " [-0.00058224 -0.00058224 -0.00058224 ...  0.         -0.00058224\n",
      "  -0.00058224]\n",
      " [-0.00058224 -0.00058224 -0.00058224 ... -0.00058224  0.\n",
      "  -0.00058224]\n",
      " [-0.00058224 -0.00058224 -0.00058224 ... -0.00058224 -0.00058224\n",
      "   0.        ]], shape=(4757, 4757), dtype=float32)\n"
     ]
    }
   ],
   "source": [
    "for step in range(steps):\n",
    "    S = tf.where(S > 0, S, tf.zeros(S.shape))\n",
    "    S = (S + tf.transpose(S)) / 2.0\n",
    "    acc = tf.zeros(S.shape)\n",
    "    for i in range(t):\n",
    "        Xv = tf.sparse.to_dense(X[i])\n",
    "        aux = tf.linalg.matmul(Xv, Xv, transpose_a=True)\n",
    "        Z = tf.linalg.matmul(\n",
    "                tf.linalg.inv(aux + I * alpha + I * beta * wv[i]),\n",
    "                S * beta * wv[i] + aux)\n",
    "        Z = tf.where(Z[i] > 0, Z, tf.zeros(Z.shape))\n",
    "        Z = (Z + tf.transpose(Z)) / 2.0\n",
    "        wv[i] = 0.5 / tf.norm(Z - S)\n",
    "        Z *= wv[i]\n",
    "        acc += Z\n",
    "\n",
    "    L = tf.linalg.diag(tf.math.reduce_sum(S, 0)) - S\n",
    "    (_, F) = tf.linalg.eigh(L)\n",
    "\n",
    "    p = tf.norm(F[0][:] - F, axis=1, keepdims=True)\n",
    "    for i in range(1, n):\n",
    "         p = tf.concat([p, tf.norm(F[i][:] - F, axis=1, keepdims=True)], 1)\n",
    "    p = tf.math.square(p) * reg\n",
    "    tmp = S\n",
    "    S = acc - p / wv\n",
    "    if step > 5 and tf.norm(S - tmp) / tf.norm(tmp) < 1.e-3:\n",
    "        print('Num steps:', step)\n",
    "        break\n",
    "print(S)\n",
    "with open(\"fusion_matrix/S.npy\", 'wb') as f:\n",
    "    np.save(f, S.numpy())"
   ],
   "metadata": {
    "collapsed": false,
    "pycharm": {
     "name": "#%%\n"
    }
   }
  },
  {
   "cell_type": "code",
   "execution_count": 5,
   "outputs": [],
   "source": [
    "# x = tf.constant([[2., 16., 128.],\n",
    "#                  [4., 32., 256.],\n",
    "#                  [8., 64., 512.]], dtype=tf.float32)"
   ],
   "metadata": {
    "collapsed": false,
    "pycharm": {
     "name": "#%%\n"
    }
   }
  }
 ],
 "metadata": {
  "kernelspec": {
   "display_name": "Python 3",
   "language": "python",
   "name": "python3"
  },
  "language_info": {
   "codemirror_mode": {
    "name": "ipython",
    "version": 2
   },
   "file_extension": ".py",
   "mimetype": "text/x-python",
   "name": "python",
   "nbconvert_exporter": "python",
   "pygments_lexer": "ipython2",
   "version": "2.7.6"
  }
 },
 "nbformat": 4,
 "nbformat_minor": 0
}