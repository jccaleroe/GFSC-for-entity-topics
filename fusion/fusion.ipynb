{
 "cells": [
  {
   "cell_type": "code",
   "execution_count": 1,
   "metadata": {
    "collapsed": true
   },
   "outputs": [],
   "source": [
    "import tensorflow as tf\n",
    "import numpy as np\n",
    "import os"
   ]
  },
  {
   "cell_type": "code",
   "execution_count": 2,
   "outputs": [],
   "source": [
    "def load_data(path):\n",
    "    x = None\n",
    "    for filename in os.listdir(path):\n",
    "        with open(os.path.join(path, filename), 'rb') as f:\n",
    "            tmp = tf.cast([np.load(f)], dtype=tf.float64)\n",
    "            if x is None:\n",
    "                x = tf.linalg.matmul(tmp, tmp, transpose_b=True)\n",
    "            else:\n",
    "                x = tf.concat([x, tf.linalg.matmul(tmp, tmp, transpose_b=True)], axis=0)\n",
    "    return x"
   ],
   "metadata": {
    "collapsed": false,
    "pycharm": {
     "name": "#%%\n"
    }
   }
  },
  {
   "cell_type": "code",
   "execution_count": 3,
   "outputs": [],
   "source": [
    "steps = 200\n",
    "# alphas, betas, gammas = [1.0, 0.1], [1000.0, 2000.0, 100.0], [0.01, 0.1]\n",
    "alphas, betas, gammas = [0.1], [1000.0], [0.01]"
   ],
   "metadata": {
    "collapsed": false,
    "pycharm": {
     "name": "#%%\n"
    }
   }
  },
  {
   "cell_type": "code",
   "execution_count": 4,
   "outputs": [],
   "source": [
    "def fusion(x, k, alpha, beta, gamma):\n",
    "    f = None\n",
    "    n = x.shape[1]\n",
    "    t = x.shape[0]\n",
    "    reg = gamma / (4.0 * beta)\n",
    "    wv, wv_u = tf.cast([1.0 / t for _ in range(t)], dtype=tf.float64), None\n",
    "    i_alpha = tf.math.multiply(tf.eye(n, dtype=tf.float64), alpha)\n",
    "    i_beta = tf.math.multiply(tf.eye(n, dtype=tf.float64), beta)\n",
    "    s = tf.eye(n, dtype=tf.float64)\n",
    "    for step in range(steps):\n",
    "        s = tf.where(s > 0, s, tf.zeros(s.shape, dtype=tf.float64))\n",
    "        s = tf.math.divide(tf.math.add(s, tf.transpose(s)), 2.0)\n",
    "        z_sum = tf.zeros(s.shape, dtype=tf.float64)\n",
    "        for i in range(t):\n",
    "            z = tf.linalg.solve(\n",
    "                tf.math.add(tf.math.add(x[i], i_alpha), tf.math.multiply(i_beta, wv[i])),\n",
    "                tf.math.add(tf.math.multiply(s, tf.math.multiply(wv[i], beta)), x[i]))\n",
    "            z = tf.where(z > 0, z, tf.zeros(z.shape, dtype=tf.float64))\n",
    "            z = tf.math.divide(tf.math.add(z, tf.transpose(z)), 2.0)\n",
    "            w = tf.math.divide(0.5, tf.norm(tf.math.subtract(z, s)))\n",
    "            wv_u = tf.reshape(w, [1]) if i == 0 else tf.concat([wv_u, [w]], axis=0)\n",
    "            z = tf.math.multiply(z, w)\n",
    "            z_sum = tf.math.add(z_sum, z)\n",
    "\n",
    "        l = tf.math.subtract(tf.linalg.diag(tf.math.reduce_sum(s, 0)), s)\n",
    "        (_, f) = tf.linalg.eigh(l)\n",
    "        f = tf.slice(f, [0, 0], [f.shape[0], k])\n",
    "        p = tf.norm(tf.math.subtract(f[0][:], f), axis=1, keepdims=True)\n",
    "        for i in range(1, n):\n",
    "             p = tf.concat([p, tf.norm(tf.math.subtract(f[0][:], f), axis=1, keepdims=True)], 1)\n",
    "        p = tf.math.multiply(tf.math.square(p), reg)\n",
    "        wv = wv_u\n",
    "        s_old = s\n",
    "        s = tf.math.divide((tf.math.subtract(z_sum, p)), tf.math.reduce_sum(wv, 0))\n",
    "        if step > 5 and tf.math.less(tf.math.divide(tf.norm(tf.math.subtract(s, s_old)), tf.norm(s_old)), 1.e-4):\n",
    "            print('Criterion found after', step, 'steps')\n",
    "            return f\n",
    "    return f"
   ],
   "metadata": {
    "collapsed": false,
    "pycharm": {
     "name": "#%%\n"
    }
   }
  },
  {
   "cell_type": "code",
   "execution_count": 5,
   "outputs": [],
   "source": [
    "from sklearn.cluster import KMeans\n",
    "\n",
    "def run_k_means(k, f):\n",
    "        k_means = KMeans(n_clusters=k, n_init=10).fit(f)\n",
    "        clusters = k_means.labels_\n",
    "        d = {}\n",
    "        for i in clusters:\n",
    "            if i in d:\n",
    "                d[i] += 1\n",
    "            else:\n",
    "                d[i] = 1\n",
    "        max_k = 0\n",
    "        for i in d:\n",
    "            max_k = max(max_k, d[i])\n",
    "        print('Biggest cluster:', max_k)\n",
    "        print('k:', k, '\\n', 'Clusters:', d)\n",
    "        return clusters"
   ],
   "metadata": {
    "collapsed": false,
    "pycharm": {
     "name": "#%%\n"
    }
   }
  },
  {
   "cell_type": "code",
   "execution_count": 6,
   "outputs": [],
   "source": [
    "def run_experiments(ks, views):\n",
    "    d = {}\n",
    "    x = load_data(views)\n",
    "    print(x.shape)\n",
    "    for k in ks:\n",
    "        d[k] = {}\n",
    "        for alpha in alphas:\n",
    "            d[k][alpha] = {}\n",
    "            for beta in betas:\n",
    "                d[k][alpha][beta] = {}\n",
    "                for gamma in gammas:\n",
    "                    print('Run with parameters', alpha, beta, gamma)\n",
    "                    d[k][alpha][beta][gamma] = run_k_means(k, fusion(x, k, alpha, beta, gamma).numpy())\n",
    "    return d"
   ],
   "metadata": {
    "collapsed": false,
    "pycharm": {
     "name": "#%%\n"
    }
   }
  },
  {
   "cell_type": "code",
   "execution_count": 7,
   "outputs": [],
   "source": [
    "def save_np(name, matrix):\n",
    "    with open(name + \".npy\", 'wb') as f:\n",
    "        np.save(f, matrix)\n",
    "\n",
    "def save_results(results, c_id):\n",
    "    for k in results:\n",
    "        for alpha in results[k]:\n",
    "            for beta in results[k][alpha]:\n",
    "                for gamma in results[k][alpha][beta]:\n",
    "                    tmp = 'clusters/'+c_id+'_'+ str(k)+'_'+str(alpha)+'_'+str(beta)+'_'+str(gamma)\n",
    "                    save_np(tmp, results[k][alpha][beta][gamma])"
   ],
   "metadata": {
    "collapsed": false,
    "pycharm": {
     "name": "#%%\n"
    }
   }
  },
  {
   "cell_type": "code",
   "execution_count": 10,
   "outputs": [
    {
     "name": "stdout",
     "output_type": "stream",
     "text": [
      "(2, 466, 466)\n",
      "Run with parameters 0.1 1000.0 0.01\n",
      "Criterion found after 6 steps\n",
      "Biggest cluster: 182\n",
      "k: 200 \n",
      " Clusters: {177: 2, 0: 7, 175: 9, 92: 3, 136: 2, 189: 2, 88: 1, 140: 4, 171: 4, 160: 2, 135: 4, 193: 2, 111: 2, 172: 2, 158: 2, 152: 2, 82: 2, 1: 182, 181: 5, 191: 1, 129: 2, 137: 2, 36: 1, 178: 5, 35: 1, 44: 1, 196: 3, 87: 1, 91: 1, 110: 1, 166: 4, 187: 1, 80: 1, 146: 3, 162: 1, 141: 1, 64: 1, 107: 1, 198: 6, 179: 4, 98: 1, 76: 1, 188: 2, 123: 1, 105: 1, 65: 1, 182: 1, 25: 1, 183: 2, 100: 1, 142: 2, 118: 1, 38: 1, 86: 1, 58: 1, 66: 1, 170: 1, 161: 1, 93: 1, 60: 1, 180: 1, 176: 1, 39: 1, 62: 1, 197: 1, 46: 1, 169: 1, 34: 1, 133: 1, 55: 1, 157: 1, 185: 1, 156: 1, 61: 1, 52: 1, 174: 2, 116: 1, 95: 1, 151: 1, 195: 1, 124: 2, 125: 2, 163: 2, 112: 2, 199: 1, 164: 1, 101: 2, 149: 1, 109: 1, 131: 2, 167: 2, 147: 2, 4: 2, 23: 1, 165: 3, 69: 1, 115: 1, 37: 1, 114: 1, 143: 1, 47: 1, 132: 1, 73: 1, 155: 1, 94: 1, 59: 1, 81: 1, 11: 1, 186: 1, 96: 1, 83: 1, 134: 1, 30: 1, 54: 1, 56: 1, 102: 1, 148: 1, 85: 1, 144: 1, 126: 1, 194: 1, 150: 1, 89: 1, 99: 1, 90: 1, 31: 1, 12: 1, 14: 1, 106: 1, 13: 1, 168: 1, 77: 1, 154: 1, 145: 2, 159: 2, 139: 1, 48: 2, 120: 2, 53: 2, 43: 1, 68: 2, 108: 1, 173: 1, 184: 2, 190: 1, 127: 2, 130: 2, 138: 1, 128: 1, 29: 2, 71: 1, 16: 1, 19: 1, 104: 1, 28: 1, 6: 1, 3: 1, 15: 1, 27: 1, 49: 1, 9: 1, 103: 1, 21: 1, 7: 1, 33: 1, 8: 1, 22: 1, 79: 1, 153: 1, 50: 1, 10: 1, 70: 1, 67: 1, 74: 1, 121: 1, 5: 1, 26: 1, 41: 1, 63: 1, 84: 1, 40: 1, 32: 1, 42: 1, 97: 1, 192: 1, 75: 1, 119: 1, 113: 1, 24: 1, 57: 1, 51: 1, 72: 1, 122: 1, 45: 1, 78: 1, 17: 1, 2: 1, 18: 1, 117: 1, 20: 1}\n"
     ]
    }
   ],
   "source": [
    "save_results(run_experiments([200], 'views/abstracts/'), 'abstracts')"
   ],
   "metadata": {
    "collapsed": false,
    "pycharm": {
     "name": "#%%\n"
    }
   }
  }
 ],
 "metadata": {
  "kernelspec": {
   "display_name": "Python 3",
   "language": "python",
   "name": "python3"
  },
  "language_info": {
   "codemirror_mode": {
    "name": "ipython",
    "version": 2
   },
   "file_extension": ".py",
   "mimetype": "text/x-python",
   "name": "python",
   "nbconvert_exporter": "python",
   "pygments_lexer": "ipython2",
   "version": "2.7.6"
  }
 },
 "nbformat": 4,
 "nbformat_minor": 0
}