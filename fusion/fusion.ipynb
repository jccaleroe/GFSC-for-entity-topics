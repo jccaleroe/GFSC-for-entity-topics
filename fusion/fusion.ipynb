{
 "cells": [
  {
   "cell_type": "code",
   "execution_count": 1,
   "metadata": {
    "collapsed": true
   },
   "outputs": [],
   "source": [
    "import os\n",
    "\n",
    "import numpy as np\n",
    "import tensorflow as tf"
   ]
  },
  {
   "cell_type": "code",
   "execution_count": 2,
   "outputs": [],
   "source": [
    "def load_data(path):\n",
    "    x = None\n",
    "    for filename in os.listdir(path):\n",
    "        with open(os.path.join(path, filename), 'rb') as f:\n",
    "            tmp = tf.cast([np.load(f)], dtype=tf.float64)\n",
    "            if x is None:\n",
    "                x = tf.linalg.matmul(tmp, tmp, transpose_b=True)\n",
    "            else:\n",
    "                x = tf.concat([x, tf.linalg.matmul(tmp, tmp, transpose_b=True)], axis=0)\n",
    "    return x"
   ],
   "metadata": {
    "collapsed": false,
    "pycharm": {
     "name": "#%%\n"
    }
   }
  },
  {
   "cell_type": "code",
   "execution_count": 3,
   "outputs": [],
   "source": [
    "def fusion(x, k, steps, alpha, beta, gamma):\n",
    "    n = x.shape[1]\n",
    "    t = x.shape[0]\n",
    "    reg = gamma / (4.0 * beta)\n",
    "    wv, wv_u = tf.cast([1.0 / t for _ in range(t)], dtype=tf.float64), None\n",
    "    i_alpha = tf.math.multiply(tf.eye(n, dtype=tf.float64), alpha)\n",
    "    i_beta = tf.math.multiply(tf.eye(n, dtype=tf.float64), beta)\n",
    "    s = tf.eye(n, dtype=tf.float64)\n",
    "    for step in range(steps):\n",
    "        s = tf.where(s > 0, s, tf.zeros(s.shape, dtype=tf.float64))\n",
    "        s = tf.math.divide(tf.math.add(s, tf.transpose(s)), 2.0)\n",
    "        z_sum = tf.zeros(s.shape, dtype=tf.float64)\n",
    "        for i in range(t):\n",
    "            z = tf.linalg.solve(\n",
    "                tf.math.add(tf.math.add(x[i], i_alpha), tf.math.multiply(i_beta, wv[i])),\n",
    "                tf.math.add(tf.math.multiply(s, tf.math.multiply(wv[i], beta)), x[i]))\n",
    "            z = tf.where(z > 0, z, tf.zeros(z.shape, dtype=tf.float64))\n",
    "            z = tf.math.divide(tf.math.add(z, tf.transpose(z)), 2.0)\n",
    "            w = tf.math.divide(0.5, tf.norm(tf.math.subtract(z, s)))\n",
    "            wv_u = tf.reshape(w, [1]) if i == 0 else tf.concat([wv_u, [w]], axis=0)\n",
    "            z = tf.math.multiply(z, w)\n",
    "            z_sum = tf.math.add(z_sum, z)\n",
    "        (_, f) = tf.linalg.eigh(tf.math.subtract(tf.linalg.diag(tf.math.reduce_sum(s, 0)), s))\n",
    "        f = tf.slice(f, [0, 0], [f.shape[0], k])\n",
    "        p = tf.norm(tf.math.subtract(f[0][:], f), axis=1, keepdims=True)\n",
    "        for i in range(1, n):\n",
    "             p = tf.concat([p, tf.norm(tf.math.subtract(f[i][:], f), axis=1, keepdims=True)], 1)\n",
    "        p = tf.math.multiply(tf.math.square(p), reg)\n",
    "        wv = wv_u\n",
    "        s_old = s\n",
    "        s = tf.math.divide((tf.math.subtract(z_sum, p)), tf.math.reduce_sum(wv, 0))\n",
    "        if step >= 4 and tf.math.less(tf.math.divide(tf.norm(tf.math.subtract(s, s_old)), tf.norm(s_old)), 1.e-3):\n",
    "            return s.numpy()\n",
    "    return s.numpy()"
   ],
   "metadata": {
    "collapsed": false,
    "pycharm": {
     "name": "#%%\n"
    }
   }
  },
  {
   "cell_type": "code",
   "execution_count": 4,
   "outputs": [],
   "source": [
    "from sklearn.cluster import SpectralClustering\n",
    "\n",
    "def run_clustering(k, x):\n",
    "    labels = SpectralClustering(n_clusters=k, affinity='precomputed', assign_labels='discretize').fit(x).labels_\n",
    "    d = {}\n",
    "    for i in labels:\n",
    "        if i in d:\n",
    "            d[i] += 1\n",
    "        else:\n",
    "            d[i] = 1\n",
    "    big, small = float('-inf'), float('inf')\n",
    "    for i in d:\n",
    "        big = max(big, d[i])\n",
    "        small = min(small, d[i])\n",
    "    return labels, big, small, d"
   ],
   "metadata": {
    "collapsed": false,
    "pycharm": {
     "name": "#%%\n"
    }
   }
  },
  {
   "cell_type": "code",
   "execution_count": 5,
   "outputs": [],
   "source": [
    "def run_experiments(ks, views):\n",
    "    x = load_data(views)\n",
    "    print(x.shape)\n",
    "    steps, alphas, betas, gammas = 20, [0.1, 1.0], [1000.0, 4000.0, 100.0], [0.01, 0.1]\n",
    "    # steps, alphas, betas, gammas = 20, [0.1], [4000.0], [0.01]\n",
    "    biggest, smallest = {}, {}\n",
    "    for k in ks:\n",
    "        for alpha in alphas:\n",
    "            for beta in betas:\n",
    "                for gamma in gammas:\n",
    "                    s = fusion(x, k, steps, alpha, beta, gamma)\n",
    "                    (labels, big, small, d) = run_clustering(k, s)\n",
    "                    is_better = False\n",
    "                    if k in biggest:\n",
    "                        if big < biggest[k] or (big == biggest[k] and small > smallest[k]):\n",
    "                            is_better = True\n",
    "                    else:\n",
    "                        is_better = True\n",
    "                    if is_better:\n",
    "                        biggest[k] = big\n",
    "                        smallest[k] = small\n",
    "                        histograms[k] = [d, 'k: ' + str(k) + ', Biggest: ' + str(big) + ', Smallest: ' + str(small) +\n",
    "                                         ', params: ' + ' '.join([str(alpha), str(beta), str(gamma)])]"
   ],
   "metadata": {
    "collapsed": false,
    "pycharm": {
     "name": "#%%\n"
    }
   }
  },
  {
   "cell_type": "code",
   "execution_count": 6,
   "outputs": [],
   "source": [
    "def save_np(folder, name, matrix):\n",
    "    os.makedirs(folder, exist_ok=True)\n",
    "    with open(os.path.join(folder, name) + \".npy\", 'wb') as f:\n",
    "        np.save(f, matrix)"
   ],
   "metadata": {
    "collapsed": false,
    "pycharm": {
     "name": "#%%\n"
    }
   }
  },
  {
   "cell_type": "code",
   "execution_count": 7,
   "outputs": [],
   "source": [
    "def run(views):\n",
    "    x = load_data(views)\n",
    "    print(x.shape)\n",
    "    steps, alpha, beta, gamma = 20, 0.1, 4000.0, 0.01\n",
    "    k = int(x.shape[1] / 10)\n",
    "    s = fusion(x, k, steps, alpha, beta, gamma)\n",
    "    return k, s\n",
    "\n",
    "def run_by_levels(views, results):\n",
    "    for level in next(os.walk(views))[1]:\n",
    "        (k, s) = run(os.path.join(views, level))\n",
    "        (labels, big, small, d) = run_clustering(k, s)\n",
    "        histograms[level] = [d, level + ', n: ' + str(s.shape[0]) + ', k: ' + str(k)\n",
    "                             + ', Biggest: ' + str(big) + ', Smallest: ' + str(small)]\n",
    "        save_np(os.path.join(results, level), 'labels', labels)\n"
   ],
   "metadata": {
    "collapsed": false,
    "pycharm": {
     "name": "#%%\n"
    }
   }
  },
  {
   "cell_type": "code",
   "execution_count": 11,
   "outputs": [
    {
     "name": "stdout",
     "output_type": "stream",
     "text": [
      "(3, 237, 237)\n",
      "(3, 948, 948)\n",
      "(3, 51, 51)\n"
     ]
    }
   ],
   "source": [
    "histograms = {}\n",
    "run_by_levels('views/profiles/', 'clusters/profiles/')\n",
    "# run_experiments([4, 7, 9, 12], 'views/profiles/level_1/')"
   ],
   "metadata": {
    "collapsed": false,
    "pycharm": {
     "name": "#%%\n"
    }
   }
  },
  {
   "cell_type": "code",
   "execution_count": 9,
   "outputs": [],
   "source": [
    "import matplotlib.pyplot as plt\n",
    "\n",
    "plt.style.use('dark_background')\n",
    "\n",
    "def plot_histograms():\n",
    "    plt.figure(figsize=(18, 24))\n",
    "    plt.subplots_adjust(hspace=0.4)\n",
    "    cnt = 1\n",
    "    for h in histograms:\n",
    "        plt.subplot(len(histograms), 2, cnt)\n",
    "        cnt += 1\n",
    "        d = histograms[h][0]\n",
    "        plt.bar(d.keys(), d.values())\n",
    "        plt.title(histograms[h][1])"
   ],
   "metadata": {
    "collapsed": false,
    "pycharm": {
     "name": "#%%\n"
    }
   }
  },
  {
   "cell_type": "code",
   "execution_count": 12,
   "outputs": [
    {
     "name": "stdout",
     "output_type": "stream",
     "text": [
      "spectral clustering precomputed discretize\n"
     ]
    },
    {
     "data": {
      "text/plain": "<Figure size 1296x1728 with 3 Axes>",
      "image/png": "[encoded data removed]"
     },
     "metadata": {},
     "output_type": "display_data"
    }
   ],
   "source": [
    "print(\"spectral clustering precomputed discretize\")\n",
    "plot_histograms()"
   ],
   "metadata": {
    "collapsed": false,
    "pycharm": {
     "name": "#%%\n"
    }
   }
  }
 ],
 "metadata": {
  "kernelspec": {
   "display_name": "Python 3",
   "language": "python",
   "name": "python3"
  },
  "language_info": {
   "codemirror_mode": {
    "name": "ipython",
    "version": 2
   },
   "file_extension": ".py",
   "mimetype": "text/x-python",
   "name": "python",
   "nbconvert_exporter": "python",
   "pygments_lexer": "ipython2",
   "version": "2.7.6"
  }
 },
 "nbformat": 4,
 "nbformat_minor": 0
}