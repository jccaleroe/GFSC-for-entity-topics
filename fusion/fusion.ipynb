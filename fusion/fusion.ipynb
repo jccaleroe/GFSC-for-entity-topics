{
 "cells": [
  {
   "cell_type": "code",
   "execution_count": 1,
   "metadata": {
    "collapsed": true
   },
   "outputs": [],
   "source": [
    "import os\n",
    "\n",
    "import numpy as np\n",
    "import tensorflow as tf"
   ]
  },
  {
   "cell_type": "code",
   "execution_count": 2,
   "outputs": [],
   "source": [
    "def load_data(path):\n",
    "    x = None\n",
    "    for filename in os.listdir(path):\n",
    "        with open(os.path.join(path, filename), 'rb') as f:\n",
    "            tmp = tf.cast([np.load(f)], dtype=tf.float64)\n",
    "            if x is None:\n",
    "                x = tf.linalg.matmul(tmp, tmp, transpose_b=True)\n",
    "            else:\n",
    "                x = tf.concat([x, tf.linalg.matmul(tmp, tmp, transpose_b=True)], axis=0)\n",
    "    return x"
   ],
   "metadata": {
    "collapsed": false,
    "pycharm": {
     "name": "#%%\n"
    }
   }
  },
  {
   "cell_type": "code",
   "execution_count": 3,
   "outputs": [],
   "source": [
    "steps = 5\n",
    "# alphas, betas, gammas = [0.1, 1.0], [1000.0, 2000.0, 100.0], [0.01, 0.1]\n",
    "# alphas, betas, gammas = [0.1], [1000.0, 2000.0], [0.01, 0.1]\n",
    "# alphas, betas, gammas = [0.1], [1000.0], [0.01]\n",
    "alphas, betas, gammas = [0.1], [1000.0, 4000.0], [0.01]"
   ],
   "metadata": {
    "collapsed": false,
    "pycharm": {
     "name": "#%%\n"
    }
   }
  },
  {
   "cell_type": "code",
   "execution_count": 4,
   "outputs": [],
   "source": [
    "def fusion(x, k, alpha, beta, gamma):\n",
    "    f = None\n",
    "    n = x.shape[1]\n",
    "    t = x.shape[0]\n",
    "    reg = gamma / (4.0 * beta)\n",
    "    wv, wv_u = tf.cast([1.0 / t for _ in range(t)], dtype=tf.float64), None\n",
    "    i_alpha = tf.math.multiply(tf.eye(n, dtype=tf.float64), alpha)\n",
    "    i_beta = tf.math.multiply(tf.eye(n, dtype=tf.float64), beta)\n",
    "    s = tf.eye(n, dtype=tf.float64)\n",
    "    for step in range(steps):\n",
    "        s = tf.where(s > 0, s, tf.zeros(s.shape, dtype=tf.float64))\n",
    "        s = tf.math.divide(tf.math.add(s, tf.transpose(s)), 2.0)\n",
    "        z_sum = tf.zeros(s.shape, dtype=tf.float64)\n",
    "        for i in range(t):\n",
    "            z = tf.linalg.solve(\n",
    "                tf.math.add(tf.math.add(x[i], i_alpha), tf.math.multiply(i_beta, wv[i])),\n",
    "                tf.math.add(tf.math.multiply(s, tf.math.multiply(wv[i], beta)), x[i]))\n",
    "            z = tf.where(z > 0, z, tf.zeros(z.shape, dtype=tf.float64))\n",
    "            z = tf.math.divide(tf.math.add(z, tf.transpose(z)), 2.0)\n",
    "            w = tf.math.divide(0.5, tf.norm(tf.math.subtract(z, s)))\n",
    "            wv_u = tf.reshape(w, [1]) if i == 0 else tf.concat([wv_u, [w]], axis=0)\n",
    "            z = tf.math.multiply(z, w)\n",
    "            z_sum = tf.math.add(z_sum, z)\n",
    "\n",
    "        l = tf.math.subtract(tf.linalg.diag(tf.math.reduce_sum(s, 0)), s)\n",
    "        (_, f) = tf.linalg.eigh(l)\n",
    "        f = tf.slice(f, [0, 0], [f.shape[0], k])\n",
    "        p = tf.norm(tf.math.subtract(f[0][:], f), axis=1, keepdims=True)\n",
    "        for i in range(1, n):\n",
    "             p = tf.concat([p, tf.norm(tf.math.subtract(f[0][:], f), axis=1, keepdims=True)], 1)\n",
    "        p = tf.math.multiply(tf.math.square(p), reg)\n",
    "        wv = wv_u\n",
    "        # s_old = s\n",
    "        s = tf.math.divide((tf.math.subtract(z_sum, p)), tf.math.reduce_sum(wv, 0))\n",
    "        # if step >= 4 and tf.math.less(tf.math.divide(tf.norm(tf.math.subtract(s, s_old)), tf.norm(s_old)), 1.e-3):\n",
    "            # print('Criterion found after', step + 1, 'steps')\n",
    "            # return f\n",
    "    return f"
   ],
   "metadata": {
    "collapsed": false,
    "pycharm": {
     "name": "#%%\n"
    }
   }
  },
  {
   "cell_type": "code",
   "execution_count": 5,
   "outputs": [],
   "source": [
    "from sklearn.cluster import KMeans\n",
    "\n",
    "histograms, min_k, clusters, parameters = {}, {}, {}, {}\n",
    "def run_k_means(k, f):\n",
    "    k_means = KMeans(init='k-means++', n_clusters=k, n_init=10).fit(f)\n",
    "    labels = k_means.labels_\n",
    "    d = {}\n",
    "    for i in labels:\n",
    "        if i in d:\n",
    "            d[i] += 1\n",
    "        else:\n",
    "            d[i] = 1\n",
    "    biggest, smallest = float('-inf'), float('inf')\n",
    "    for i in d:\n",
    "        biggest = max(biggest, d[i])\n",
    "        smallest = min(smallest, d[i])\n",
    "    # print('Silhouette:', metrics.silhouette_score(f, labels, metric='euclidean'), end=',  ')\n",
    "    print('Biggest cluster:', biggest, ' Smallest cluster:', smallest)\n",
    "    if k in min_k:\n",
    "        if biggest < min_k[k]:\n",
    "            min_k[k] = biggest\n",
    "            histograms[k] = d\n",
    "            clusters[k] = labels\n",
    "            return True\n",
    "    else:\n",
    "        min_k[k] = biggest\n",
    "        histograms[k] = d\n",
    "        clusters[k] = labels\n",
    "        return True\n",
    "    return False\n"
   ],
   "metadata": {
    "collapsed": false,
    "pycharm": {
     "name": "#%%\n"
    }
   }
  },
  {
   "cell_type": "code",
   "execution_count": 6,
   "outputs": [],
   "source": [
    "run_per_k = 2\n",
    "def run_experiments(ks, views):\n",
    "    x = load_data(views)\n",
    "    print(x.shape)\n",
    "    for k in ks:\n",
    "        print('k:', k)\n",
    "        for alpha in alphas:\n",
    "            for beta in betas:\n",
    "                for gamma in gammas:\n",
    "                    print('Run with parameters', alpha, beta, gamma)\n",
    "                    f = fusion(x, k, alpha, beta, gamma).numpy()\n",
    "                    for _ in range(run_per_k):\n",
    "                        if run_k_means(k, f):\n",
    "                            parameters[k] = ' params: ' + ' '.join([str(alpha), str(beta), str(gamma)])"
   ],
   "metadata": {
    "collapsed": false,
    "pycharm": {
     "name": "#%%\n"
    }
   }
  },
  {
   "cell_type": "code",
   "execution_count": 7,
   "outputs": [],
   "source": [
    "def save_np(name, matrix):\n",
    "    with open(name + \".npy\", 'wb') as f:\n",
    "        np.save(f, matrix)\n",
    "\n",
    "def save_results(folder):\n",
    "    for k in clusters:        \n",
    "        save_np(folder + str(k) + '_means', clusters[k])"
   ],
   "metadata": {
    "collapsed": false,
    "pycharm": {
     "name": "#%%\n"
    }
   }
  },
  {
   "cell_type": "code",
   "execution_count": 11,
   "outputs": [
    {
     "name": "stdout",
     "output_type": "stream",
     "text": [
      "(2, 1236, 1236)\n",
      "k: 4\n",
      "Run with parameters 0.1 4000.0 0.01\n",
      "Silhouette: 0.38385080392812115,  Biggest cluster: 453  Smallest cluster: 88\n",
      "Silhouette: 0.38385080392812115,  Biggest cluster: 453  Smallest cluster: 88\n",
      "Run with parameters 0.1 10000 0.01\n",
      "Silhouette: 0.5294933192789248,  Biggest cluster: 672  Smallest cluster: 2\n",
      "Silhouette: 0.5290459047760572,  Biggest cluster: 668  Smallest cluster: 2\n",
      "k: 8\n",
      "Run with parameters 0.1 4000.0 0.01\n",
      "Silhouette: 0.23954042367946143,  Biggest cluster: 331  Smallest cluster: 2\n",
      "Silhouette: 0.2351919050073417,  Biggest cluster: 322  Smallest cluster: 2\n",
      "Run with parameters 0.1 10000 0.01\n",
      "Silhouette: 0.46693120434143753,  Biggest cluster: 703  Smallest cluster: 1\n",
      "Silhouette: 0.4626900310726711,  Biggest cluster: 704  Smallest cluster: 1\n",
      "k: 20\n",
      "Run with parameters 0.1 4000.0 0.01\n",
      "Silhouette: 0.1279806472974034,  Biggest cluster: 240  Smallest cluster: 1\n",
      "Silhouette: 0.13372579824103653,  Biggest cluster: 236  Smallest cluster: 1\n",
      "Run with parameters 0.1 10000 0.01\n",
      "Silhouette: 0.35824842375236976,  Biggest cluster: 730  Smallest cluster: 1\n",
      "Silhouette: 0.36227671620539564,  Biggest cluster: 731  Smallest cluster: 1\n",
      "k: 40\n",
      "Run with parameters 0.1 4000.0 0.01\n",
      "Silhouette: 0.07982308405595367,  Biggest cluster: 197  Smallest cluster: 1\n",
      "Silhouette: 0.08930665680381504,  Biggest cluster: 216  Smallest cluster: 1\n",
      "Run with parameters 0.1 10000 0.01\n",
      "Silhouette: 0.2043700637678252,  Biggest cluster: 406  Smallest cluster: 1\n",
      "Silhouette: 0.2054885776325921,  Biggest cluster: 410  Smallest cluster: 1\n"
     ]
    }
   ],
   "source": [
    "# run_experiments([40, 70, 100, 150], 'views/profiles/')\n",
    "run_experiments([4, 8, 20, 40], 'views/profiles/')\n",
    "# run_experiments([40], 'views/profiles/')"
   ],
   "metadata": {
    "collapsed": false,
    "pycharm": {
     "name": "#%%\n"
    }
   }
  },
  {
   "cell_type": "code",
   "execution_count": 12,
   "outputs": [
    {
     "data": {
      "text/plain": "<Figure size 1296x1728 with 4 Axes>",
      "image/png": "[encoded data removed]"
     },
     "metadata": {},
     "output_type": "display_data"
    }
   ],
   "source": [
    "import matplotlib.pyplot as plt\n",
    "\n",
    "plt.style.use('dark_background')\n",
    "\n",
    "def plot_histograms():\n",
    "    plt.figure(figsize=(18, 24))\n",
    "    plt.subplots_adjust(hspace=0.4)\n",
    "    cnt = 1\n",
    "    for k in histograms:\n",
    "        plt.subplot(len(histograms), 2, cnt)\n",
    "        cnt += 1\n",
    "        d = histograms[k]\n",
    "        plt.bar(d.keys(), d.values())\n",
    "        plt.title('k: ' + str(k) + ' Biggest: ' + str(min_k[k]) + parameters[k])\n",
    "\n",
    "plot_histograms()"
   ],
   "metadata": {
    "collapsed": false,
    "pycharm": {
     "name": "#%%\n"
    }
   }
  },
  {
   "cell_type": "code",
   "execution_count": 13,
   "outputs": [],
   "source": [
    "save_results('clusters/profiles/')"
   ],
   "metadata": {
    "collapsed": false,
    "pycharm": {
     "name": "#%%\n"
    }
   }
  }
 ],
 "metadata": {
  "kernelspec": {
   "display_name": "Python 3",
   "language": "python",
   "name": "python3"
  },
  "language_info": {
   "codemirror_mode": {
    "name": "ipython",
    "version": 2
   },
   "file_extension": ".py",
   "mimetype": "text/x-python",
   "name": "python",
   "nbconvert_exporter": "python",
   "pygments_lexer": "ipython2",
   "version": "2.7.6"
  }
 },
 "nbformat": 4,
 "nbformat_minor": 0
}