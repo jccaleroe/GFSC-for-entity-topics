{
 "cells": [
  {
   "cell_type": "code",
   "execution_count": 1,
   "metadata": {
    "collapsed": true
   },
   "outputs": [],
   "source": [
    "import tensorflow as tf\n",
    "import numpy as np"
   ]
  },
  {
   "cell_type": "code",
   "execution_count": 2,
   "outputs": [
    {
     "name": "stdout",
     "output_type": "stream",
     "text": [
      "(5, 1200, 1200)\n"
     ]
    }
   ],
   "source": [
    "t = 5\n",
    "for v in range(t):\n",
    "    with open(\"GFSC/reuters_views/view\" + str(v) + \".npy\", 'rb') as fi:\n",
    "        tmp = tf.cast([np.load(fi)], dtype=tf.float32)\n",
    "        if v == 0:\n",
    "            X = tf.linalg.matmul(tmp, tmp, transpose_b=True)\n",
    "        else:\n",
    "            X = tf.concat([X, tf.linalg.matmul(tmp, tmp, transpose_b=True)], axis=0)\n",
    "print(X.shape)"
   ],
   "metadata": {
    "collapsed": false,
    "pycharm": {
     "name": "#%%\n"
    }
   }
  },
  {
   "cell_type": "code",
   "execution_count": 3,
   "outputs": [],
   "source": [
    "k = 6\n",
    "steps = 1\n",
    "alphas, betas, gammas = [1.0], [1000.0], [0.01]\n",
    "n = X.shape[2]"
   ],
   "metadata": {
    "collapsed": false,
    "pycharm": {
     "name": "#%%\n"
    }
   }
  },
  {
   "cell_type": "code",
   "execution_count": 4,
   "outputs": [],
   "source": [
    "@tf.function\n",
    "def fusion():\n",
    "    s = tf.where(S > 0, S, tf.zeros(S.shape))\n",
    "    s = tf.math.divide(s + tf.transpose(s), 2.0)\n",
    "    z_sum = tf.zeros(s.shape)\n",
    "    for i in range(t):\n",
    "        z = tf.linalg.matmul(\n",
    "                tf.linalg.inv(X[i] + i_alpha + i_beta * wv[i]),\n",
    "                s * beta * wv[i] + X[i])\n",
    "        z = tf.where(z[i] > 0, z, tf.zeros(z.shape))\n",
    "        z = tf.math.divide(z + tf.transpose(z), 2.0)\n",
    "        wv[i].assign(0.5 / tf.norm(z - s))\n",
    "        z = tf.math.multiply(z, wv[i])\n",
    "        z_sum = tf.math.add(z_sum, z)\n",
    "\n",
    "    l = tf.math.subtract(tf.linalg.diag(tf.math.reduce_sum(s, 0)), s)\n",
    "    (_, f) = tf.linalg.eigh(l)\n",
    "    f = tf.slice(f, [0, 0], [f.shape[0], k])\n",
    "    p = tf.norm(tf.math.subtract(f[0][:], f), axis=1, keepdims=True)\n",
    "    for i in range(1, n):\n",
    "         p = tf.concat([p, tf.norm(tf.math.subtract(f[0][:], f), axis=1, keepdims=True)], 1)\n",
    "    p = tf.math.multiply(tf.math.square(p), reg)\n",
    "    s_old = s\n",
    "    s = tf.math.divide((z_sum - p), tf.math.reduce_sum(wv, 0))\n",
    "    return s, tf.math.divide(tf.norm(tf.math.subtract(s, s_old)), tf.norm(s_old)), f"
   ],
   "metadata": {
    "collapsed": false,
    "pycharm": {
     "name": "#%%\n"
    }
   }
  },
  {
   "cell_type": "code",
   "execution_count": 5,
   "outputs": [
    {
     "name": "stdout",
     "output_type": "stream",
     "text": [
      "Num steps: 0\n",
      "tf.Tensor(\n",
      "[[ 9.83875930e-01 -1.38772011e-05 -1.73127337e-05 ...  1.07561555e-05\n",
      "  -8.08928053e-06  4.98790723e-06]\n",
      " [-1.46818184e-05  9.93063629e-01  3.92601396e-05 ... -1.62300580e-06\n",
      "   2.53536405e-06  1.80381005e-06]\n",
      " [-1.81173509e-05  3.92601396e-05  9.83804107e-01 ...  3.89044817e-06\n",
      "  -2.52861071e-07 -2.69203019e-06]\n",
      " ...\n",
      " [ 1.03538468e-05 -1.22069741e-06  4.29275678e-06 ...  9.92831469e-01\n",
      "   9.46421733e-06 -1.63249604e-06]\n",
      " [-8.49158914e-06  2.93767243e-06  1.49447274e-07 ...  9.46421733e-06\n",
      "   9.92783904e-01  3.15799775e-06]\n",
      " [ 4.58559907e-06  2.20611855e-06 -2.28972158e-06 ... -1.63249604e-06\n",
      "   3.15799775e-06  9.95158911e-01]], shape=(1200, 1200), dtype=float32)\n"
     ]
    }
   ],
   "source": [
    "for alpha in alphas:\n",
    "    for beta in betas:\n",
    "        for gamma in gammas:\n",
    "            reg = gamma / (4.0 * beta)\n",
    "            wv = tf.Variable([1.0 / t for _ in range(t)], dtype=tf.float32)\n",
    "            i_alpha = tf.math.multiply(tf.eye(n, dtype=tf.float32), alpha)\n",
    "            i_beta = tf.math.multiply(tf.eye(n, dtype=tf.float32), beta)\n",
    "            S = tf.eye(n, dtype=tf.float32)\n",
    "            for step in range(steps):\n",
    "                (S, delta, F) = fusion()\n",
    "                print('Num steps:', step)\n",
    "                if step > 5 and delta < 1.e-3:\n",
    "                    break\n",
    "            print(S)\n",
    "            with open(\"fusion_matrix/S_reuters.npy\", 'wb') as fi:\n",
    "                np.save(fi, S.numpy())"
   ],
   "metadata": {
    "collapsed": false,
    "pycharm": {
     "name": "#%%\n"
    }
   }
  },
  {
   "cell_type": "code",
   "execution_count": 6,
   "outputs": [],
   "source": [
    "# x = tf.constant([[2., 16., 128.],\n",
    "#                  [4., 32., 256.],\n",
    "#                  [8., 64., 512.]], dtype=tf.float32)\n",
    "# #\n",
    "# # # print(tf.slice(x, [0, 0], [x.shape[0], 3]))\n",
    "# # y = tf.cast([1], dtype=tf.float32)\n",
    "# y = 0.5 / tf.norm(x)\n",
    "# print(y)\n",
    "# # tf.concat([y, y], axis=0)\n",
    "# print(tf.math.multiply(x, y))\n"
   ],
   "metadata": {
    "collapsed": false,
    "pycharm": {
     "name": "#%%\n"
    }
   }
  }
 ],
 "metadata": {
  "kernelspec": {
   "display_name": "Python 3",
   "language": "python",
   "name": "python3"
  },
  "language_info": {
   "codemirror_mode": {
    "name": "ipython",
    "version": 2
   },
   "file_extension": ".py",
   "mimetype": "text/x-python",
   "name": "python",
   "nbconvert_exporter": "python",
   "pygments_lexer": "ipython2",
   "version": "2.7.6"
  }
 },
 "nbformat": 4,
 "nbformat_minor": 0
}