{
 "cells": [
  {
   "cell_type": "code",
   "execution_count": 1,
   "metadata": {
    "collapsed": true
   },
   "outputs": [],
   "source": [
    "import tensorflow as tf\n",
    "import numpy as np\n",
    "import os"
   ]
  },
  {
   "cell_type": "code",
   "execution_count": 2,
   "outputs": [],
   "source": [
    "def load_data(path):\n",
    "    x = None\n",
    "    for filename in os.listdir(path):\n",
    "        with open(os.path.join(path, filename), 'rb') as f:\n",
    "            tmp = tf.cast([np.load(f)], dtype=tf.float64)\n",
    "            if x is None:\n",
    "                x = tf.linalg.matmul(tmp, tmp, transpose_b=True)\n",
    "            else:\n",
    "                x = tf.concat([x, tf.linalg.matmul(tmp, tmp, transpose_b=True)], axis=0)\n",
    "    return x"
   ],
   "metadata": {
    "collapsed": false,
    "pycharm": {
     "name": "#%%\n"
    }
   }
  },
  {
   "cell_type": "code",
   "execution_count": 3,
   "outputs": [],
   "source": [
    "steps = 200\n",
    "# alphas, betas, gammas = [1.0, 0.1], [1000.0, 2000.0, 100.0], [0.01, 0.1]\n",
    "alphas, betas, gammas = [0.1], [1000.0, 2000.0], [0.01, 0.1]\n",
    "# alphas, betas, gammas = [0.1], [1000.0], [0.01]"
   ],
   "metadata": {
    "collapsed": false,
    "pycharm": {
     "name": "#%%\n"
    }
   }
  },
  {
   "cell_type": "code",
   "execution_count": 4,
   "outputs": [],
   "source": [
    "def fusion(x, k, alpha, beta, gamma):\n",
    "    f = None\n",
    "    n = x.shape[1]\n",
    "    t = x.shape[0]\n",
    "    reg = gamma / (4.0 * beta)\n",
    "    wv, wv_u = tf.cast([1.0 / t for _ in range(t)], dtype=tf.float64), None\n",
    "    i_alpha = tf.math.multiply(tf.eye(n, dtype=tf.float64), alpha)\n",
    "    i_beta = tf.math.multiply(tf.eye(n, dtype=tf.float64), beta)\n",
    "    s = tf.eye(n, dtype=tf.float64)\n",
    "    for step in range(steps):\n",
    "        s = tf.where(s > 0, s, tf.zeros(s.shape, dtype=tf.float64))\n",
    "        s = tf.math.divide(tf.math.add(s, tf.transpose(s)), 2.0)\n",
    "        z_sum = tf.zeros(s.shape, dtype=tf.float64)\n",
    "        for i in range(t):\n",
    "            z = tf.linalg.solve(\n",
    "                tf.math.add(tf.math.add(x[i], i_alpha), tf.math.multiply(i_beta, wv[i])),\n",
    "                tf.math.add(tf.math.multiply(s, tf.math.multiply(wv[i], beta)), x[i]))\n",
    "            z = tf.where(z > 0, z, tf.zeros(z.shape, dtype=tf.float64))\n",
    "            z = tf.math.divide(tf.math.add(z, tf.transpose(z)), 2.0)\n",
    "            w = tf.math.divide(0.5, tf.norm(tf.math.subtract(z, s)))\n",
    "            wv_u = tf.reshape(w, [1]) if i == 0 else tf.concat([wv_u, [w]], axis=0)\n",
    "            z = tf.math.multiply(z, w)\n",
    "            z_sum = tf.math.add(z_sum, z)\n",
    "\n",
    "        l = tf.math.subtract(tf.linalg.diag(tf.math.reduce_sum(s, 0)), s)\n",
    "        (_, f) = tf.linalg.eigh(l)\n",
    "        f = tf.slice(f, [0, 0], [f.shape[0], k])\n",
    "        p = tf.norm(tf.math.subtract(f[0][:], f), axis=1, keepdims=True)\n",
    "        for i in range(1, n):\n",
    "             p = tf.concat([p, tf.norm(tf.math.subtract(f[0][:], f), axis=1, keepdims=True)], 1)\n",
    "        p = tf.math.multiply(tf.math.square(p), reg)\n",
    "        wv = wv_u\n",
    "        s_old = s\n",
    "        s = tf.math.divide((tf.math.subtract(z_sum, p)), tf.math.reduce_sum(wv, 0))\n",
    "        if step >= 4 and tf.math.less(tf.math.divide(tf.norm(tf.math.subtract(s, s_old)), tf.norm(s_old)), 1.e-4):\n",
    "            print('Criterion found after', step + 1, 'steps')\n",
    "            return f\n",
    "    return f"
   ],
   "metadata": {
    "collapsed": false,
    "pycharm": {
     "name": "#%%\n"
    }
   }
  },
  {
   "cell_type": "code",
   "execution_count": 5,
   "outputs": [],
   "source": [
    "from sklearn.cluster import KMeans\n",
    "\n",
    "def run_k_means(k, f):\n",
    "        k_means = KMeans(n_clusters=k, n_init=14).fit(f)\n",
    "        cluster = k_means.labels_\n",
    "        d = {}\n",
    "        for i in cluster:\n",
    "            if i in d:\n",
    "                d[i] += 1\n",
    "            else:\n",
    "                d[i] = 1\n",
    "        max_k = 0\n",
    "        for i in d:\n",
    "            max_k = max(max_k, d[i])\n",
    "        if k in min_k:\n",
    "            if max_k < min_k[k]:\n",
    "                min_k[k] = max_k\n",
    "                histograms[k] = d\n",
    "                clusters[k] = cluster\n",
    "                print('k:', k)\n",
    "                print(d, '\\nBiggest cluster:', max_k, '\\n')\n",
    "        else:\n",
    "            min_k[k] = max_k\n",
    "            histograms[k] = d\n",
    "            clusters[k] = cluster"
   ],
   "metadata": {
    "collapsed": false,
    "pycharm": {
     "name": "#%%\n"
    }
   }
  },
  {
   "cell_type": "code",
   "execution_count": 6,
   "outputs": [],
   "source": [
    "def run_experiments(ks, views):    \n",
    "    x = load_data(views)\n",
    "    print(x.shape)\n",
    "    for k in ks:        \n",
    "        for alpha in alphas:            \n",
    "            for beta in betas:                \n",
    "                for gamma in gammas:\n",
    "                    print('Run with parameters', alpha, beta, gamma)\n",
    "                    run_k_means(k, fusion(x, k, alpha, beta, gamma).numpy())    "
   ],
   "metadata": {
    "collapsed": false,
    "pycharm": {
     "name": "#%%\n"
    }
   }
  },
  {
   "cell_type": "code",
   "execution_count": 7,
   "outputs": [],
   "source": [
    "def save_np(name, matrix):\n",
    "    with open(name + \".npy\", 'wb') as f:\n",
    "        np.save(f, matrix)\n",
    "\n",
    "def save_results(folder):\n",
    "    for k in clusters:        \n",
    "        save_np(folder + str(k) + '_means', clusters[k])"
   ],
   "metadata": {
    "collapsed": false,
    "pycharm": {
     "name": "#%%\n"
    }
   }
  },
  {
   "cell_type": "code",
   "execution_count": 8,
   "outputs": [
    {
     "name": "stdout",
     "output_type": "stream",
     "text": [
      "(3, 423, 423)\n",
      "Run with parameters 0.1 1000.0 0.01\n",
      "Criterion found after 5 steps\n",
      "k: 30\n",
      "{4: 4, 20: 6, 3: 36, 12: 6, 24: 5, 6: 12, 7: 4, 2: 11, 17: 8, 22: 6, 14: 11, 25: 13, 8: 2, 29: 6, 18: 2, 11: 7, 15: 5, 5: 4, 9: 243, 10: 2, 26: 5, 1: 5, 23: 5, 0: 4, 21: 2, 28: 2, 13: 2, 16: 2, 27: 2, 19: 1} \n",
      "Biggest cluster: 243 \n",
      "\n",
      "Run with parameters 0.1 1000.0 0.1\n",
      "Criterion found after 5 steps\n",
      "k: 30\n",
      "{15: 4, 27: 6, 2: 19, 18: 8, 1: 7, 8: 11, 3: 4, 26: 1, 14: 8, 19: 3, 0: 11, 20: 6, 21: 2, 10: 10, 23: 2, 12: 7, 5: 5, 16: 4, 28: 264, 6: 2, 24: 4, 11: 5, 17: 8, 7: 11, 4: 2, 13: 2, 29: 2, 22: 2, 9: 2, 25: 1} \n",
      "Biggest cluster: 264 \n",
      "\n",
      "Run with parameters 0.1 2000.0 0.01\n",
      "Criterion found after 5 steps\n",
      "k: 30\n",
      "{28: 4, 15: 6, 3: 50, 9: 10, 13: 11, 16: 4, 1: 210, 5: 8, 27: 4, 6: 12, 14: 17, 10: 1, 18: 4, 20: 2, 12: 7, 24: 11, 4: 4, 11: 2, 0: 39, 25: 5, 17: 2, 26: 1, 19: 1, 2: 2, 7: 1, 21: 1, 23: 1, 8: 1, 22: 1, 29: 1} \n",
      "Biggest cluster: 210 \n",
      "\n",
      "Run with parameters 0.1 2000.0 0.1\n",
      "Criterion found after 5 steps\n",
      "k: 30\n",
      "{15: 4, 16: 6, 3: 37, 6: 12, 26: 5, 23: 11, 19: 6, 28: 1, 2: 8, 5: 11, 24: 11, 1: 17, 14: 1, 22: 4, 21: 2, 7: 7, 12: 4, 8: 228, 10: 2, 29: 25, 0: 7, 4: 2, 9: 1, 20: 2, 13: 1, 11: 1, 25: 1, 18: 1, 27: 4, 17: 1} \n",
      "Biggest cluster: 228 \n",
      "\n",
      "Run with parameters 0.1 1000.0 0.01\n",
      "Criterion found after 5 steps\n",
      "k: 50\n",
      "{29: 3, 15: 6, 42: 6, 20: 4, 26: 4, 0: 11, 4: 4, 36: 3, 32: 8, 19: 3, 44: 6, 6: 13, 17: 2, 14: 3, 24: 3, 25: 7, 38: 5, 13: 5, 1: 32, 18: 2, 12: 71, 37: 67, 43: 6, 34: 5, 47: 3, 11: 24, 33: 2, 41: 5, 39: 4, 7: 7, 9: 7, 2: 5, 21: 17, 30: 21, 49: 3, 35: 4, 8: 13, 48: 6, 28: 2, 22: 2, 5: 3, 40: 2, 31: 2, 16: 1, 10: 4, 27: 2, 46: 2, 45: 1, 3: 1, 23: 1} \n",
      "Biggest cluster: 71 \n",
      "\n",
      "Run with parameters 0.1 1000.0 0.1\n",
      "Criterion found after 5 steps\n",
      "k: 50\n",
      "{34: 4, 44: 3, 35: 4, 11: 4, 26: 5, 30: 10, 14: 4, 6: 1, 10: 8, 37: 3, 47: 5, 16: 5, 39: 2, 21: 3, 41: 2, 3: 7, 13: 5, 17: 4, 2: 6, 25: 2, 5: 39, 32: 14, 8: 73, 28: 2, 31: 3, 4: 17, 33: 4, 46: 4, 15: 2, 40: 5, 27: 88, 22: 4, 9: 7, 0: 26, 48: 2, 7: 19, 29: 4, 45: 3, 20: 2, 18: 2, 38: 2, 23: 2, 43: 2, 19: 1, 42: 1, 49: 3, 12: 2, 24: 1, 1: 1, 36: 1} \n",
      "Biggest cluster: 88 \n",
      "\n",
      "Run with parameters 0.1 2000.0 0.01\n",
      "Criterion found after 5 steps\n",
      "k: 50\n",
      "{30: 3, 21: 6, 48: 6, 0: 9, 4: 5, 7: 11, 14: 4, 28: 1, 22: 8, 36: 3, 9: 52, 15: 5, 13: 1, 45: 3, 38: 2, 34: 7, 39: 5, 8: 4, 42: 15, 10: 2, 25: 68, 32: 19, 46: 13, 37: 5, 5: 6, 3: 8, 24: 2, 47: 5, 18: 20, 19: 4, 6: 38, 40: 14, 41: 16, 44: 29, 33: 4, 49: 5, 23: 2, 11: 1, 31: 1, 20: 1, 1: 1, 27: 1, 26: 1, 12: 1, 17: 1, 16: 1, 35: 1, 43: 1, 29: 1, 2: 1} \n",
      "Biggest cluster: 68 \n",
      "\n",
      "Run with parameters 0.1 2000.0 0.1\n",
      "Criterion found after 5 steps\n",
      "k: 50\n",
      "{16: 3, 29: 6, 21: 4, 30: 4, 27: 4, 10: 11, 9: 4, 38: 1, 15: 8, 23: 4, 11: 11, 46: 8, 14: 1, 37: 3, 31: 2, 2: 7, 5: 5, 6: 4, 36: 94, 26: 2, 4: 42, 48: 1, 49: 1, 28: 8, 43: 2, 7: 5, 12: 55, 41: 1, 25: 29, 45: 2, 32: 2, 35: 5, 47: 24, 39: 3, 40: 9, 42: 20, 3: 10, 18: 2, 19: 1, 24: 3, 13: 1, 17: 1, 44: 1, 0: 1, 8: 1, 20: 1, 33: 1, 34: 1, 1: 3, 22: 1} \n",
      "Biggest cluster: 94 \n",
      "\n",
      "Run with parameters 0.1 1000.0 0.01\n",
      "Criterion found after 5 steps\n",
      "k: 70\n",
      "{10: 4, 53: 6, 15: 7, 57: 4, 28: 4, 43: 10, 30: 4, 58: 2, 8: 8, 65: 3, 24: 5, 26: 4, 35: 2, 49: 3, 45: 2, 14: 7, 32: 4, 16: 4, 54: 3, 11: 2, 50: 6, 20: 3, 1: 20, 41: 33, 36: 3, 52: 1, 6: 5, 59: 2, 4: 2, 21: 3, 17: 10, 64: 16, 7: 42, 39: 2, 40: 2, 51: 5, 18: 33, 34: 2, 55: 1, 56: 9, 63: 5, 48: 2, 23: 39, 3: 14, 42: 4, 69: 4, 19: 2, 2: 18, 67: 6, 47: 3, 13: 2, 25: 2, 31: 3, 37: 2, 33: 2, 38: 1, 22: 2, 61: 5, 29: 1, 44: 2, 5: 3, 0: 2, 68: 1, 27: 2, 62: 3, 9: 1, 12: 1, 66: 1, 60: 1, 46: 1} \n",
      "Biggest cluster: 42 \n",
      "\n",
      "Run with parameters 0.1 1000.0 0.1\n",
      "Criterion found after 5 steps\n",
      "k: 70\n",
      "{36: 2, 25: 6, 26: 4, 51: 4, 54: 2, 4: 9, 21: 4, 45: 1, 19: 8, 23: 3, 62: 4, 55: 4, 39: 2, 7: 3, 9: 2, 17: 7, 11: 5, 63: 4, 40: 3, 10: 2, 12: 7, 35: 32, 30: 1, 42: 2, 38: 3, 64: 1, 67: 2, 32: 3, 34: 49, 47: 4, 48: 1, 37: 2, 1: 8, 22: 2, 61: 7, 13: 14, 20: 4, 15: 1, 5: 5, 58: 1, 0: 2, 50: 2, 14: 29, 24: 2, 46: 1, 53: 8, 2: 45, 57: 5, 8: 8, 3: 5, 33: 6, 59: 13, 6: 11, 68: 3, 31: 2, 28: 2, 16: 33, 44: 1, 56: 2, 29: 2, 52: 2, 27: 1, 65: 1, 41: 2, 69: 1, 60: 1, 43: 2, 18: 1, 66: 1, 49: 1} \n",
      "Biggest cluster: 49 \n",
      "\n",
      "Run with parameters 0.1 2000.0 0.01\n",
      "Criterion found after 5 steps\n",
      "k: 70\n",
      "{26: 2, 44: 6, 57: 6, 33: 4, 59: 4, 0: 9, 13: 4, 41: 1, 9: 8, 21: 3, 49: 11, 56: 5, 18: 1, 25: 2, 47: 2, 34: 7, 23: 4, 19: 4, 6: 4, 24: 2, 61: 17, 42: 35, 40: 1, 2: 7, 20: 19, 46: 23, 53: 3, 36: 4, 66: 1, 4: 9, 11: 2, 30: 2, 10: 6, 45: 6, 68: 2, 15: 3, 64: 2, 12: 18, 27: 2, 38: 6, 63: 11, 14: 46, 52: 2, 7: 10, 16: 29, 8: 12, 55: 5, 65: 2, 3: 12, 43: 4, 22: 2, 17: 1, 67: 1, 48: 2, 62: 2, 29: 1, 5: 2, 1: 9, 39: 1, 35: 1, 28: 1, 50: 1, 60: 2, 31: 1, 54: 1, 32: 1, 58: 1, 37: 1, 69: 1, 51: 1} \n",
      "Biggest cluster: 46 \n",
      "\n",
      "Run with parameters 0.1 2000.0 0.1\n",
      "Criterion found after 5 steps\n",
      "k: 70\n",
      "{21: 2, 2: 6, 36: 4, 33: 4, 7: 5, 34: 9, 32: 4, 45: 1, 62: 8, 29: 3, 50: 5, 69: 4, 15: 1, 4: 3, 49: 1, 55: 7, 17: 5, 13: 4, 58: 4, 8: 2, 52: 3, 57: 1, 25: 1, 23: 5, 5: 64, 42: 1, 0: 2, 43: 3, 12: 1, 63: 31, 51: 1, 54: 1, 39: 1, 59: 2, 20: 6, 14: 34, 19: 5, 38: 1, 47: 1, 40: 1, 68: 2, 1: 12, 6: 10, 18: 2, 67: 1, 35: 11, 65: 38, 30: 5, 10: 31, 9: 15, 61: 18, 48: 1, 26: 2, 64: 1, 27: 1, 22: 1, 41: 1, 31: 5, 28: 1, 53: 3, 66: 1, 11: 1, 46: 1, 56: 1, 37: 2, 3: 2, 60: 1, 24: 1, 44: 4, 16: 1} \n",
      "Biggest cluster: 64 \n",
      "\n",
      "Run with parameters 0.1 1000.0 0.01\n",
      "Criterion found after 5 steps\n",
      "k: 100\n",
      "{49: 2, 74: 3, 51: 5, 20: 3, 16: 3, 6: 11, 9: 4, 38: 2, 70: 9, 94: 3, 12: 4, 46: 4, 24: 3, 81: 2, 83: 4, 1: 7, 0: 4, 27: 4, 30: 3, 44: 2, 10: 9, 4: 17, 11: 3, 37: 3, 95: 4, 18: 21, 68: 23, 43: 3, 65: 2, 67: 1, 56: 1, 36: 2, 35: 8, 63: 2, 5: 4, 23: 5, 77: 2, 60: 2, 34: 2, 22: 2, 33: 11, 47: 2, 41: 1, 55: 1, 54: 8, 52: 3, 72: 2, 42: 28, 87: 2, 59: 7, 86: 2, 13: 2, 80: 7, 31: 8, 57: 5, 90: 2, 89: 16, 88: 3, 19: 3, 48: 3, 78: 2, 15: 2, 3: 10, 17: 19, 58: 4, 32: 1, 62: 22, 7: 4, 97: 1, 76: 4, 28: 2, 21: 2, 45: 1, 29: 2, 85: 1, 82: 1, 39: 2, 93: 1, 2: 2, 71: 1, 73: 1, 64: 2, 25: 4, 53: 1, 79: 1, 92: 1, 98: 2, 75: 1, 40: 1, 99: 1, 14: 1, 8: 1, 66: 1, 84: 1, 61: 1, 69: 1, 96: 1, 91: 1, 50: 1, 26: 1} \n",
      "Biggest cluster: 28 \n",
      "\n",
      "Run with parameters 0.1 1000.0 0.1\n",
      "Criterion found after 5 steps\n",
      "k: 100\n",
      "{10: 2, 59: 3, 72: 2, 34: 3, 45: 2, 40: 4, 50: 4, 58: 1, 26: 3, 56: 3, 73: 4, 9: 8, 28: 2, 46: 3, 5: 2, 15: 7, 22: 4, 47: 4, 52: 3, 11: 2, 91: 3, 96: 1, 49: 1, 16: 9, 70: 1, 87: 3, 48: 1, 79: 15, 71: 1, 17: 3, 24: 1, 31: 2, 29: 1, 67: 1, 42: 2, 1: 8, 12: 2, 27: 11, 76: 5, 82: 1, 14: 48, 39: 3, 92: 2, 83: 1, 30: 1, 51: 1, 36: 6, 20: 2, 61: 2, 90: 2, 64: 2, 8: 10, 43: 1, 4: 7, 69: 1, 60: 2, 63: 2, 35: 27, 80: 1, 33: 1, 89: 2, 55: 2, 75: 5, 21: 30, 2: 1, 99: 1, 88: 23, 84: 1, 0: 1, 18: 1, 98: 7, 6: 6, 3: 2, 38: 25, 66: 2, 13: 3, 25: 2, 23: 2, 97: 9, 44: 10, 62: 1, 57: 1, 68: 2, 19: 2, 94: 1, 41: 2, 77: 3, 85: 1, 81: 1, 54: 2, 53: 1, 65: 1, 95: 1, 74: 3, 86: 1, 7: 1, 32: 1, 93: 1, 78: 1, 37: 1} \n",
      "Biggest cluster: 48 \n",
      "\n",
      "Run with parameters 0.1 2000.0 0.01\n",
      "Criterion found after 5 steps\n",
      "k: 100\n",
      "{29: 2, 89: 6, 45: 5, 93: 4, 71: 4, 23: 9, 21: 4, 33: 1, 61: 10, 13: 3, 41: 5, 19: 7, 32: 1, 28: 2, 24: 2, 40: 7, 11: 5, 16: 5, 12: 7, 14: 2, 31: 15, 15: 18, 90: 1, 22: 4, 10: 9, 27: 7, 0: 4, 54: 48, 91: 3, 60: 3, 38: 1, 76: 2, 47: 3, 1: 5, 17: 2, 8: 2, 2: 8, 3: 8, 39: 4, 97: 1, 6: 8, 92: 2, 44: 2, 48: 2, 46: 2, 65: 8, 26: 5, 68: 26, 58: 2, 9: 23, 96: 2, 7: 13, 36: 4, 72: 2, 81: 2, 59: 4, 20: 13, 88: 2, 95: 3, 4: 5, 43: 2, 85: 1, 50: 6, 56: 1, 80: 1, 99: 1, 57: 1, 94: 1, 35: 1, 49: 1, 30: 1, 84: 1, 18: 1, 5: 4, 52: 6, 83: 1, 82: 1, 86: 1, 53: 1, 74: 1, 51: 1, 70: 1, 79: 1, 42: 1, 78: 1, 98: 1, 34: 1, 67: 1, 55: 1, 73: 1, 63: 1, 37: 1, 77: 1, 66: 1, 87: 1, 69: 1, 25: 1, 75: 1, 64: 1, 62: 1} \n",
      "Biggest cluster: 48 \n",
      "\n",
      "Run with parameters 0.1 2000.0 0.1\n",
      "Criterion found after 5 steps\n",
      "k: 100\n",
      "{6: 2, 75: 5, 7: 4, 69: 3, 61: 4, 12: 8, 31: 4, 57: 1, 21: 8, 18: 3, 48: 6, 89: 3, 77: 1, 85: 1, 73: 2, 10: 7, 40: 4, 11: 4, 88: 3, 26: 2, 76: 3, 64: 1, 72: 1, 17: 9, 56: 1, 2: 3, 35: 1, 74: 3, 45: 1, 79: 2, 68: 1, 80: 1, 38: 1, 42: 2, 62: 4, 91: 1, 22: 6, 34: 3, 41: 1, 47: 1, 43: 1, 14: 2, 86: 2, 16: 28, 92: 16, 5: 2, 15: 6, 99: 1, 4: 4, 95: 7, 81: 2, 98: 2, 37: 52, 65: 1, 28: 1, 58: 2, 1: 4, 59: 5, 25: 1, 32: 1, 29: 2, 8: 19, 70: 1, 90: 2, 60: 1, 13: 10, 27: 11, 44: 1, 0: 5, 71: 2, 53: 1, 66: 21, 93: 15, 84: 1, 39: 2, 20: 1, 9: 9, 55: 15, 63: 13, 82: 1, 97: 1, 19: 1, 3: 3, 52: 1, 51: 2, 33: 1, 83: 4, 24: 1, 50: 1, 49: 2, 30: 1, 54: 3, 36: 1, 46: 1, 78: 1, 87: 1, 96: 1, 94: 1, 67: 1, 23: 1} \n",
      "Biggest cluster: 52 \n",
      "\n",
      "Run with parameters 0.1 1000.0 0.01\n",
      "Criterion found after 5 steps\n",
      "k: 150\n",
      "{106: 2, 11: 3, 146: 2, 2: 3, 50: 4, 0: 9, 62: 4, 73: 1, 63: 8, 24: 44, 23: 4, 80: 7, 68: 3, 66: 3, 46: 2, 109: 4, 31: 4, 4: 4, 36: 3, 18: 2, 100: 3, 14: 17, 143: 1, 141: 3, 42: 1, 78: 3, 76: 2, 22: 2, 105: 3, 52: 3, 95: 1, 132: 2, 120: 2, 98: 1, 47: 2, 15: 2, 84: 2, 87: 24, 5: 7, 145: 1, 149: 1, 127: 1, 12: 5, 30: 2, 16: 2, 10: 5, 6: 7, 41: 2, 91: 1, 90: 1, 82: 3, 29: 2, 69: 2, 8: 7, 101: 2, 81: 11, 142: 2, 34: 2, 19: 4, 28: 5, 77: 1, 139: 2, 110: 8, 133: 1, 93: 1, 112: 2, 26: 2, 7: 8, 86: 2, 118: 3, 83: 2, 21: 3, 70: 2, 58: 18, 136: 2, 113: 2, 67: 1, 1: 1, 3: 3, 33: 8, 75: 1, 51: 1, 115: 1, 13: 10, 107: 1, 123: 1, 134: 1, 119: 1, 54: 1, 38: 1, 20: 1, 53: 1, 114: 2, 45: 2, 9: 1, 135: 1, 32: 2, 140: 1, 124: 1, 64: 1, 35: 1, 55: 1, 97: 1, 108: 1, 126: 1, 44: 1, 37: 1, 99: 2, 60: 1, 148: 1, 17: 1, 131: 1, 137: 1, 130: 1, 96: 1, 89: 1, 117: 1, 138: 1, 56: 1, 128: 1, 129: 1, 61: 1, 147: 1, 74: 2, 71: 3, 65: 1, 94: 1, 121: 1, 92: 1, 79: 1, 72: 1, 40: 1, 125: 1, 104: 1, 111: 1, 43: 1, 48: 1, 85: 1, 27: 1, 39: 1, 103: 1, 102: 1, 59: 1, 144: 1, 116: 1, 49: 1, 57: 1, 122: 1, 88: 1, 25: 1} \n",
      "Biggest cluster: 44 \n",
      "\n",
      "Run with parameters 0.1 1000.0 0.1\n",
      "Criterion found after 5 steps\n",
      "k: 150\n",
      "{68: 2, 35: 3, 25: 2, 48: 3, 31: 3, 21: 6, 81: 3, 95: 1, 144: 2, 84: 3, 117: 3, 16: 6, 12: 2, 72: 3, 40: 2, 102: 4, 67: 4, 20: 4, 107: 3, 11: 2, 118: 2, 61: 1, 33: 1, 143: 3, 91: 2, 127: 2, 139: 3, 26: 4, 108: 2, 132: 1, 38: 3, 74: 1, 69: 2, 145: 1, 87: 1, 56: 2, 105: 5, 5: 2, 115: 1, 146: 2, 8: 2, 51: 21, 82: 1, 123: 1, 6: 40, 76: 1, 14: 5, 88: 10, 52: 2, 29: 2, 60: 5, 24: 11, 43: 2, 28: 1, 109: 1, 37: 28, 73: 2, 64: 2, 110: 1, 94: 1, 120: 2, 80: 2, 62: 2, 53: 4, 18: 1, 121: 1, 9: 8, 23: 1, 34: 1, 103: 1, 77: 1, 104: 7, 131: 1, 63: 2, 41: 1, 49: 2, 32: 2, 92: 2, 148: 1, 137: 1, 113: 1, 114: 2, 116: 1, 55: 1, 147: 1, 54: 1, 45: 17, 111: 1, 79: 1, 83: 1, 124: 1, 138: 1, 70: 1, 66: 1, 15: 1, 30: 1, 119: 1, 130: 1, 50: 1, 86: 1, 122: 1, 136: 1, 57: 1, 78: 1, 140: 1, 36: 1, 125: 1, 65: 1, 59: 1, 93: 1, 10: 1, 22: 1, 7: 1, 42: 1, 39: 2, 19: 1, 134: 1, 85: 10, 90: 2, 1: 3, 3: 4, 0: 5, 129: 1, 13: 22, 47: 1, 106: 1, 99: 2, 101: 2, 97: 1, 135: 1, 4: 4, 89: 2, 71: 2, 2: 3, 149: 3, 46: 1, 17: 1, 96: 1, 58: 1, 128: 1, 142: 1, 133: 1, 75: 1, 44: 1, 141: 1, 98: 1, 112: 1, 126: 1, 100: 1, 27: 1} \n",
      "Biggest cluster: 40 \n",
      "\n",
      "Run with parameters 0.1 2000.0 0.01\n",
      "Criterion found after 5 steps\n",
      "k: 150\n",
      "{30: 2, 122: 3, 110: 5, 54: 3, 8: 5, 80: 12, 24: 4, 67: 1, 27: 8, 77: 4, 74: 4, 22: 5, 20: 1, 16: 3, 39: 2, 0: 7, 19: 8, 49: 4, 129: 3, 10: 2, 3: 5, 148: 1, 109: 1, 21: 19, 113: 3, 9: 3, 45: 39, 2: 4, 41: 27, 36: 3, 48: 1, 92: 2, 123: 1, 85: 2, 28: 2, 37: 7, 13: 27, 14: 11, 82: 2, 87: 1, 7: 2, 50: 2, 4: 4, 139: 10, 38: 2, 5: 5, 33: 6, 34: 2, 141: 2, 91: 1, 130: 2, 57: 2, 12: 8, 29: 4, 143: 3, 137: 2, 117: 1, 146: 2, 112: 1, 43: 8, 56: 3, 124: 2, 75: 2, 66: 2, 145: 1, 6: 4, 23: 2, 81: 1, 108: 1, 71: 1, 86: 1, 149: 1, 59: 1, 32: 1, 90: 1, 118: 1, 98: 1, 142: 1, 121: 1, 65: 1, 120: 1, 116: 1, 68: 1, 69: 1, 126: 1, 61: 1, 11: 1, 55: 1, 78: 1, 18: 4, 15: 1, 70: 1, 119: 1, 101: 1, 84: 1, 131: 1, 51: 1, 97: 1, 96: 1, 128: 1, 115: 1, 132: 1, 100: 1, 140: 1, 60: 1, 52: 1, 73: 1, 26: 1, 147: 1, 88: 1, 127: 1, 134: 1, 105: 1, 106: 1, 25: 1, 104: 1, 135: 1, 72: 1, 99: 1, 89: 3, 111: 1, 63: 1, 17: 1, 47: 1, 144: 1, 103: 1, 95: 3, 102: 1, 136: 1, 107: 1, 138: 1, 53: 1, 93: 1, 94: 1, 31: 1, 76: 1, 64: 1, 58: 1, 1: 2, 79: 1, 35: 1, 40: 1, 62: 1, 44: 1, 46: 1, 114: 1, 42: 1, 125: 1, 133: 1, 83: 1} \n",
      "Biggest cluster: 39 \n",
      "\n",
      "Run with parameters 0.1 2000.0 0.1\n",
      "Criterion found after 5 steps\n",
      "k: 150\n",
      "{5: 2, 70: 3, 113: 2, 46: 3, 127: 4, 68: 5, 15: 4, 112: 1, 149: 6, 32: 17, 87: 7, 7: 4, 76: 1, 35: 3, 36: 2, 54: 5, 28: 4, 23: 4, 72: 3, 16: 2, 55: 11, 41: 1, 84: 1, 82: 26, 85: 1, 139: 3, 3: 5, 27: 1, 67: 12, 130: 2, 17: 3, 21: 1, 78: 2, 105: 1, 74: 1, 123: 2, 11: 9, 2: 2, 52: 1, 37: 21, 1: 14, 81: 2, 62: 1, 136: 1, 106: 1, 10: 7, 8: 2, 59: 2, 134: 1, 86: 1, 13: 6, 49: 1, 97: 2, 92: 2, 73: 2, 71: 24, 117: 1, 90: 1, 132: 2, 64: 2, 4: 4, 101: 4, 26: 1, 40: 1, 141: 6, 57: 1, 126: 1, 79: 1, 148: 7, 115: 7, 122: 1, 39: 3, 38: 2, 42: 1, 138: 2, 108: 2, 99: 1, 75: 1, 118: 3, 69: 1, 29: 11, 53: 1, 61: 1, 9: 28, 114: 1, 93: 1, 63: 1, 89: 1, 44: 1, 18: 1, 19: 1, 51: 1, 131: 1, 20: 1, 22: 1, 66: 1, 50: 1, 24: 1, 58: 1, 6: 1, 31: 1, 111: 1, 60: 1, 65: 1, 14: 1, 12: 1, 80: 1, 140: 1, 116: 1, 47: 1, 94: 1, 96: 1, 109: 1, 147: 1, 119: 1, 133: 1, 144: 1, 143: 1, 43: 1, 77: 1, 100: 1, 145: 2, 107: 1, 142: 1, 125: 2, 91: 1, 102: 1, 45: 1, 124: 1, 88: 1, 34: 2, 135: 1, 137: 1, 103: 1, 128: 1, 48: 1, 146: 1, 33: 1, 129: 1, 120: 1, 110: 1, 56: 1, 25: 1, 83: 1, 98: 1, 0: 1, 30: 1, 121: 1, 95: 1, 104: 1} \n",
      "Biggest cluster: 28 \n",
      "\n",
      "Run with parameters 0.1 1000.0 0.01\n",
      "Criterion found after 5 steps\n",
      "k: 200\n",
      "{16: 2, 6: 3, 96: 2, 10: 3, 57: 4, 26: 4, 37: 4, 2: 2, 138: 5, 3: 2, 71: 4, 194: 3, 61: 3, 72: 3, 51: 2, 20: 3, 31: 4, 52: 4, 131: 3, 62: 2, 12: 3, 54: 9, 4: 2, 162: 1, 181: 2, 77: 2, 102: 2, 89: 3, 126: 3, 21: 1, 40: 2, 195: 1, 187: 2, 49: 2, 150: 10, 14: 2, 32: 10, 27: 54, 144: 1, 136: 2, 149: 2, 183: 1, 156: 1, 171: 3, 90: 3, 45: 2, 140: 2, 9: 3, 36: 2, 69: 11, 1: 4, 143: 1, 172: 1, 169: 2, 106: 2, 86: 2, 170: 7, 166: 2, 191: 1, 123: 2, 105: 2, 30: 3, 59: 1, 178: 1, 24: 5, 158: 1, 118: 1, 180: 2, 135: 1, 99: 5, 114: 4, 28: 2, 19: 2, 174: 2, 116: 2, 111: 2, 168: 13, 152: 1, 124: 2, 85: 1, 34: 1, 184: 1, 161: 1, 134: 1, 22: 5, 25: 1, 44: 1, 151: 1, 188: 1, 43: 1, 175: 1, 120: 1, 107: 1, 112: 1, 164: 1, 109: 1, 18: 1, 11: 1, 41: 1, 132: 2, 79: 2, 88: 1, 182: 1, 125: 2, 185: 1, 139: 1, 103: 1, 198: 1, 196: 1, 110: 1, 189: 1, 5: 2, 145: 1, 153: 1, 193: 1, 91: 1, 100: 1, 7: 1, 64: 1, 60: 1, 146: 1, 142: 1, 76: 1, 157: 1, 94: 1, 121: 1, 104: 1, 119: 1, 165: 1, 197: 1, 29: 1, 129: 1, 92: 1, 128: 1, 167: 2, 67: 1, 81: 1, 46: 1, 179: 1, 199: 1, 148: 1, 73: 1, 137: 1, 141: 1, 113: 1, 130: 1, 56: 1, 55: 1, 147: 1, 58: 1, 95: 1, 98: 1, 35: 1, 108: 1, 78: 1, 82: 1, 176: 1, 97: 1, 47: 2, 8: 3, 13: 3, 155: 1, 17: 7, 63: 1, 154: 1, 163: 1, 133: 1, 93: 1, 66: 1, 87: 1, 190: 1, 173: 1, 160: 1, 0: 1, 122: 1, 101: 1, 159: 1, 80: 1, 75: 1, 192: 1, 177: 1, 186: 1, 50: 1, 74: 1, 53: 1, 127: 1, 48: 1, 15: 1, 38: 1, 115: 1, 83: 1, 23: 1, 42: 1, 70: 1, 68: 1, 84: 1, 65: 1, 39: 1, 117: 1, 33: 1} \n",
      "Biggest cluster: 54 \n",
      "\n",
      "Run with parameters 0.1 1000.0 0.1\n",
      "Criterion found after 5 steps\n",
      "k: 200\n",
      "{71: 2, 54: 3, 161: 2, 60: 3, 15: 3, 159: 4, 106: 3, 176: 1, 97: 17, 9: 3, 39: 3, 199: 2, 153: 2, 21: 3, 20: 2, 2: 3, 25: 4, 36: 2, 73: 3, 76: 2, 1: 2, 87: 1, 125: 1, 196: 1, 103: 1, 170: 2, 171: 4, 123: 1, 183: 2, 185: 1, 90: 3, 75: 1, 48: 2, 72: 1, 43: 1, 115: 1, 178: 1, 50: 2, 23: 4, 148: 1, 172: 2, 8: 5, 66: 1, 152: 1, 198: 1, 110: 1, 156: 1, 64: 21, 191: 3, 41: 2, 74: 2, 17: 8, 69: 9, 16: 2, 143: 18, 22: 1, 14: 1, 140: 1, 130: 2, 136: 2, 107: 2, 38: 21, 146: 1, 88: 1, 177: 2, 70: 2, 26: 5, 19: 4, 34: 1, 157: 1, 126: 5, 99: 1, 119: 1, 179: 1, 89: 1, 30: 8, 27: 7, 68: 1, 13: 1, 93: 2, 120: 1, 3: 2, 98: 2, 147: 2, 11: 10, 6: 2, 174: 1, 154: 3, 167: 1, 139: 1, 132: 1, 121: 1, 78: 1, 197: 1, 192: 1, 105: 1, 32: 1, 145: 1, 173: 1, 24: 14, 47: 1, 31: 1, 4: 1, 45: 1, 142: 1, 94: 1, 58: 1, 162: 1, 164: 1, 12: 1, 133: 1, 135: 1, 29: 1, 40: 1, 116: 1, 101: 1, 134: 1, 18: 1, 67: 1, 42: 1, 91: 2, 57: 2, 51: 1, 117: 1, 129: 1, 61: 1, 193: 1, 62: 1, 33: 5, 77: 1, 55: 1, 112: 1, 85: 1, 81: 1, 35: 1, 63: 1, 127: 1, 92: 1, 194: 1, 79: 1, 59: 1, 160: 1, 65: 1, 84: 1, 46: 1, 80: 1, 96: 1, 86: 1, 37: 1, 158: 1, 150: 1, 83: 1, 82: 1, 49: 1, 168: 1, 113: 1, 190: 1, 155: 1, 189: 1, 131: 1, 138: 1, 108: 1, 165: 1, 169: 1, 195: 1, 5: 5, 149: 1, 44: 1, 7: 10, 186: 1, 137: 1, 144: 1, 180: 1, 163: 1, 166: 1, 181: 1, 95: 2, 109: 2, 124: 1, 141: 1, 184: 1, 122: 1, 182: 2, 10: 1, 118: 2, 188: 1, 111: 1, 56: 1, 128: 1, 104: 1, 28: 1, 52: 1, 0: 1, 175: 1, 53: 1, 100: 1, 187: 1, 114: 1, 151: 1, 102: 1} \n",
      "Biggest cluster: 21 \n",
      "\n",
      "Run with parameters 0.1 2000.0 0.01\n",
      "Criterion found after 5 steps\n",
      "k: 200\n",
      "{45: 2, 25: 3, 89: 3, 19: 3, 134: 4, 2: 7, 8: 4, 97: 1, 3: 7, 61: 30, 180: 3, 158: 5, 40: 1, 67: 3, 70: 2, 77: 3, 32: 9, 21: 4, 115: 3, 5: 2, 191: 3, 151: 1, 132: 1, 4: 32, 175: 1, 16: 20, 143: 1, 144: 2, 90: 3, 125: 1, 15: 2, 98: 1, 181: 2, 88: 2, 35: 2, 198: 4, 171: 1, 14: 11, 196: 4, 86: 2, 42: 1, 197: 1, 122: 25, 96: 1, 188: 7, 148: 3, 43: 2, 174: 2, 87: 8, 12: 2, 193: 1, 194: 4, 187: 2, 160: 2, 124: 1, 106: 2, 141: 2, 108: 6, 29: 1, 0: 1, 46: 1, 179: 2, 131: 1, 1: 3, 23: 2, 139: 2, 123: 2, 169: 1, 199: 2, 164: 2, 60: 2, 157: 1, 100: 1, 126: 2, 156: 1, 65: 1, 69: 1, 173: 1, 48: 1, 102: 1, 20: 1, 31: 1, 17: 1, 79: 1, 93: 1, 192: 1, 146: 1, 73: 1, 84: 1, 37: 1, 53: 1, 27: 1, 167: 1, 38: 1, 6: 1, 7: 1, 22: 1, 92: 1, 137: 2, 68: 1, 136: 1, 81: 1, 152: 1, 110: 1, 163: 1, 129: 1, 195: 1, 64: 1, 172: 1, 117: 1, 140: 1, 161: 1, 154: 1, 80: 1, 75: 1, 54: 1, 159: 1, 44: 1, 50: 1, 149: 1, 130: 1, 170: 1, 113: 1, 114: 1, 178: 1, 76: 1, 57: 1, 120: 1, 94: 1, 95: 1, 184: 1, 166: 1, 116: 1, 59: 1, 33: 1, 49: 1, 112: 1, 150: 1, 105: 1, 55: 1, 135: 1, 66: 1, 147: 1, 119: 1, 138: 1, 83: 1, 186: 1, 28: 1, 185: 1, 133: 1, 127: 1, 104: 1, 34: 1, 145: 1, 85: 1, 121: 1, 153: 1, 9: 1, 52: 1, 72: 1, 51: 1, 41: 1, 11: 1, 63: 1, 103: 1, 177: 1, 165: 1, 109: 1, 190: 3, 118: 1, 82: 1, 24: 1, 142: 1, 62: 1, 26: 1, 183: 1, 74: 1, 56: 1, 162: 1, 10: 1, 128: 1, 101: 1, 30: 1, 71: 1, 176: 2, 18: 1, 189: 1, 36: 1, 13: 1, 47: 1, 91: 1, 39: 1, 107: 1, 78: 1, 155: 1, 111: 1, 182: 1, 58: 1, 168: 1, 99: 1} \n",
      "Biggest cluster: 32 \n",
      "\n",
      "Run with parameters 0.1 2000.0 0.1\n",
      "Criterion found after 5 steps\n",
      "k: 200\n",
      "{111: 2, 174: 3, 185: 2, 50: 3, 181: 2, 149: 6, 10: 4, 43: 1, 3: 5, 66: 38, 166: 3, 65: 15, 53: 1, 91: 3, 98: 2, 21: 3, 8: 4, 80: 4, 115: 3, 14: 2, 198: 1, 63: 1, 144: 1, 77: 1, 25: 11, 193: 4, 61: 1, 172: 2, 2: 3, 96: 1, 100: 2, 42: 1, 93: 1, 52: 1, 58: 4, 11: 30, 67: 2, 150: 1, 152: 1, 99: 2, 13: 1, 191: 1, 153: 1, 55: 1, 160: 1, 7: 9, 45: 2, 161: 2, 51: 2, 28: 1, 175: 1, 196: 1, 159: 2, 48: 2, 86: 2, 31: 11, 154: 1, 30: 1, 4: 2, 137: 2, 126: 1, 186: 3, 0: 1, 127: 1, 12: 6, 1: 11, 94: 1, 195: 1, 44: 1, 199: 1, 123: 1, 168: 1, 70: 2, 54: 1, 143: 1, 37: 2, 163: 2, 57: 7, 158: 1, 139: 1, 146: 2, 162: 1, 41: 1, 101: 1, 89: 1, 165: 1, 122: 1, 60: 1, 38: 9, 76: 1, 26: 8, 102: 1, 72: 1, 49: 1, 46: 1, 78: 1, 148: 1, 189: 1, 16: 1, 19: 1, 112: 1, 135: 1, 22: 1, 129: 1, 32: 1, 36: 1, 64: 1, 104: 1, 39: 1, 40: 1, 69: 1, 18: 1, 97: 1, 140: 1, 6: 1, 75: 1, 128: 1, 84: 1, 124: 1, 110: 1, 23: 1, 134: 1, 108: 1, 74: 1, 107: 1, 24: 1, 132: 1, 90: 1, 116: 1, 82: 1, 145: 6, 47: 1, 151: 1, 71: 1, 178: 1, 131: 1, 27: 1, 20: 1, 73: 1, 9: 1, 83: 1, 103: 1, 85: 1, 130: 1, 81: 1, 147: 1, 35: 1, 68: 1, 29: 1, 92: 1, 184: 1, 190: 1, 15: 13, 56: 1, 187: 1, 179: 1, 109: 1, 133: 1, 114: 1, 105: 1, 176: 1, 106: 1, 197: 1, 62: 1, 180: 1, 177: 1, 182: 1, 17: 1, 155: 1, 157: 1, 136: 1, 120: 1, 79: 1, 156: 1, 95: 1, 169: 1, 173: 1, 5: 2, 117: 1, 188: 1, 142: 1, 125: 1, 113: 1, 34: 1, 164: 1, 33: 1, 119: 1, 167: 1, 59: 1, 88: 1, 141: 1, 138: 1, 171: 1, 183: 1, 87: 1, 192: 1, 170: 1, 194: 1, 121: 1, 118: 1} \n",
      "Biggest cluster: 38 \n",
      "\n"
     ]
    }
   ],
   "source": [
    "histograms, min_k, clusters = {}, {}, {}\n",
    "run_experiments([30, 50, 70, 100, 150, 200], 'views/profiles/')\n",
    "save_results('clusters/profiles2/')\n",
    "# save_results(run_experiments([70], 'views/profiles/'), 'profiles2')"
   ],
   "metadata": {
    "collapsed": false,
    "pycharm": {
     "name": "#%%\n"
    }
   }
  },
  {
   "cell_type": "code",
   "execution_count": 9,
   "outputs": [
    {
     "data": {
      "text/plain": "<Figure size 1296x1728 with 6 Axes>",
      "image/png": "[encoded data removed]"
     },
     "metadata": {
      "needs_background": "dark"
     },
     "output_type": "display_data"
    }
   ],
   "source": [
    "import matplotlib.pyplot as plt\n",
    "plt.figure(figsize=(18, 24))\n",
    "plt.style.use('dark_background')\n",
    "\n",
    "def plot_histograms():\n",
    "    plt.subplots_adjust(hspace=0.4)\n",
    "    cnt = 1\n",
    "    for i in histograms:\n",
    "        plt.subplot(len(histograms), 2, cnt)\n",
    "        cnt += 1\n",
    "        d = histograms[i]\n",
    "        plt.bar(d.keys(), d.values())\n",
    "        plt.title('k: ' + str(i))\n",
    "\n",
    "plot_histograms()"
   ],
   "metadata": {
    "collapsed": false,
    "pycharm": {
     "name": "#%%\n"
    }
   }
  }
 ],
 "metadata": {
  "kernelspec": {
   "display_name": "Python 3",
   "language": "python",
   "name": "python3"
  },
  "language_info": {
   "codemirror_mode": {
    "name": "ipython",
    "version": 2
   },
   "file_extension": ".py",
   "mimetype": "text/x-python",
   "name": "python",
   "nbconvert_exporter": "python",
   "pygments_lexer": "ipython2",
   "version": "2.7.6"
  }
 },
 "nbformat": 4,
 "nbformat_minor": 0
}