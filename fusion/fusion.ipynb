{
 "cells": [
  {
   "cell_type": "code",
   "execution_count": 1,
   "metadata": {
    "collapsed": true
   },
   "outputs": [],
   "source": [
    "import tensorflow as tf\n",
    "import numpy as np"
   ]
  },
  {
   "cell_type": "code",
   "execution_count": 14,
   "outputs": [],
   "source": [
    "X = []\n",
    "t = 1\n",
    "for i in range(t):\n",
    "    with open(\"heavy_matrices/view\" + str(i) + \".npy\", 'rb') as f:\n",
    "        X.append(tf.cast(tf.sparse.from_dense(np.load(f)), dtype=tf.float32))"
   ],
   "metadata": {
    "collapsed": false,
    "pycharm": {
     "name": "#%%\n"
    }
   }
  },
  {
   "cell_type": "code",
   "execution_count": 15,
   "outputs": [],
   "source": [
    "k = 7\n",
    "steps = 1\n",
    "n = X[0].shape[1]\n",
    "alpha, beta, gamma = 1.0, 1000, 0.01\n",
    "wv = [1.0 / t for i in range(t)]\n",
    "reg = gamma / (4.0 * beta)\n",
    "I = tf.eye(n, dtype=tf.float32)\n",
    "S = tf.eye(n, dtype=tf.float32)"
   ],
   "metadata": {
    "collapsed": false,
    "pycharm": {
     "name": "#%%\n"
    }
   }
  },
  {
   "cell_type": "code",
   "execution_count": 4,
   "outputs": [
    {
     "name": "stdout",
     "output_type": "stream",
     "text": [
      "WARNING:tensorflow:From /home/juan/adeline/artemis/fusion/venv/lib64/python3.6/site-packages/tensorflow/python/ops/math_ops.py:2975: sparse_mat_mul (from tensorflow.python.ops.gen_math_ops) is deprecated and will be removed in a future version.\n",
      "Instructions for updating:\n",
      "Use `tf.linalg.matmul` instead\n",
      "tf.Tensor(\n",
      "[[7.3236302e-03 4.0373369e-08 4.0397353e-08 ... 0.0000000e+00\n",
      "  0.0000000e+00 0.0000000e+00]\n",
      " [4.0373369e-08 7.3236069e-03 1.3834533e-07 ... 0.0000000e+00\n",
      "  0.0000000e+00 0.0000000e+00]\n",
      " [4.0397353e-08 1.3834533e-07 7.3236097e-03 ... 0.0000000e+00\n",
      "  0.0000000e+00 0.0000000e+00]\n",
      " ...\n",
      " [0.0000000e+00 0.0000000e+00 0.0000000e+00 ... 0.0000000e+00\n",
      "  0.0000000e+00 0.0000000e+00]\n",
      " [0.0000000e+00 0.0000000e+00 0.0000000e+00 ... 0.0000000e+00\n",
      "  0.0000000e+00 0.0000000e+00]\n",
      " [0.0000000e+00 0.0000000e+00 0.0000000e+00 ... 0.0000000e+00\n",
      "  0.0000000e+00 0.0000000e+00]], shape=(4757, 4757), dtype=float32)\n"
     ]
    }
   ],
   "source": [
    "for step in range(steps):\n",
    "    S = tf.where(S > 0, S, tf.zeros(S.shape))\n",
    "    S = (S + tf.transpose(S)) / 2.0\n",
    "    acc = tf.zeros(S.shape)\n",
    "    for i in range(t):\n",
    "        Xv = tf.sparse.to_dense(X[i])\n",
    "        aux = tf.linalg.matmul(Xv, Xv, transpose_a=True)\n",
    "        Z = tf.linalg.matmul(\n",
    "                tf.linalg.inv(aux + I * alpha + I * beta * wv[i]),\n",
    "                S * beta * wv[i] + aux)\n",
    "        Z = tf.where(Z[i] > 0, Z, tf.zeros(Z.shape))\n",
    "        Z = (Z + tf.transpose(Z)) / 2.0\n",
    "        wv[i] = 0.5 / tf.norm(Z - S)\n",
    "        Z *= wv[i]\n",
    "        acc += Z\n",
    "\n",
    "    L = tf.linalg.diag(tf.math.reduce_sum(S, 0)) - S\n",
    "    (_, v) = tf.linalg.eigh(L)\n",
    "\n",
    "    p = tf.norm(v[0][:] - v, axis=1, keepdims=True)\n",
    "    for i in range(1, n):\n",
    "         p = tf.concat([p, tf.norm(v[i][:] - v, axis=1, keepdims=True)], 1)\n",
    "    p = tf.math.square(p) * reg\n",
    "    tmp = S\n",
    "    S = acc - p / wv\n",
    "    if step > 5 and tf.norm(S - tmp) / tf.norm(tmp) < 1.e-3:\n",
    "        break\n",
    "print(S)"
   ],
   "metadata": {
    "collapsed": false,
    "pycharm": {
     "name": "#%%\n"
    }
   }
  },
  {
   "cell_type": "code",
   "execution_count": 25,
   "outputs": [
    {
     "name": "stdout",
     "output_type": "stream",
     "text": [
      "False\n"
     ]
    }
   ],
   "source": [
    "# x = tf.constant([[2., 16., 128.],\n",
    "#                  [4., 32., 256.],\n",
    "#                  [8., 64., 512.]], dtype=tf.float32)"
   ],
   "metadata": {
    "collapsed": false,
    "pycharm": {
     "name": "#%%\n"
    }
   }
  }
 ],
 "metadata": {
  "kernelspec": {
   "display_name": "Python 3",
   "language": "python",
   "name": "python3"
  },
  "language_info": {
   "codemirror_mode": {
    "name": "ipython",
    "version": 2
   },
   "file_extension": ".py",
   "mimetype": "text/x-python",
   "name": "python",
   "nbconvert_exporter": "python",
   "pygments_lexer": "ipython2",
   "version": "2.7.6"
  }
 },
 "nbformat": 4,
 "nbformat_minor": 0
}