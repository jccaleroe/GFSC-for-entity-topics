{
 "cells": [
  {
   "cell_type": "markdown",
   "source": [
    "export BERT_BASE_DIR=/home/juan/adeline/athena/development/BERT/models/uncased_L-12_H-768_A-12\n",
    "export GLUE_DIR=/home/juan/adeline/athena/development/BERT/glue_data\n",
    "python -m bert.run_classifier \\\n",
    "  --task_name=MRPC \\\n",
    "  --do_train=true \\\n",
    "  --do_eval=true \\\n",
    "  --data_dir=$GLUE_DIR/MRPC \\\n",
    "  --vocab_file=$BERT_BASE_DIR/vocab.txt \\\n",
    "  --bert_config_file=$BERT_BASE_DIR/bert_config.json \\\n",
    "  --init_checkpoint=$BERT_BASE_DIR/bert_model.ckpt \\\n",
    "  --max_seq_length=128 \\\n",
    "  --train_batch_size=26 \\\n",
    "  --learning_rate=2e-5 \\\n",
    "  --num_train_epochs=3.0 \\\n",
    "  --output_dir=mrpc_output/\n",
    "\n",
    "export BERT_BASE_DIR=/home/juan/adeline/athena/development/BERT/models/uncased_L-12_H-768_A-12\n",
    "export GLUE_DIR=/home/juan/adeline/athena/development/BERT/glue_data\n",
    "python run_classifier.py \\\n",
    "  --task_name=MRPC \\\n",
    "  --do_train=false \\\n",
    "  --do_eval=false \\\n",
    "  --do_predict=true \\\n",
    "  --data_dir=$GLUE_DIR/MRPC \\\n",
    "  --vocab_file=$BERT_BASE_DIR/vocab.txt \\\n",
    "  --bert_config_file=$BERT_BASE_DIR/bert_config.json \\\n",
    "  --init_checkpoint=mrpc_output/model.ckpt-440 \\\n",
    "  --max_seq_length=128 \\\n",
    "  --train_batch_size=26 \\\n",
    "  --learning_rate=2e-5 \\\n",
    "  --num_train_epochs=3.0 \\\n",
    "  --output_dir=mrpc_output/\n",
    "\n",
    "\n",
    "Explore the code\n",
    "wget https://raw.githubusercontent.com/google-research/bert/master/modeling.py \n",
    "wget https://raw.githubusercontent.com/google-research/bert/master/optimization.py \n",
    "wget https://raw.githubusercontent.com/google-research/bert/master/run_classifier.py \n",
    "wget https://raw.githubusercontent.com/google-research/bert/master/tokenization.py "
   ],
   "metadata": {
    "collapsed": false,
    "pycharm": {
     "name": "#%% md\n"
    }
   }
  }
 ],
 "metadata": {
  "language_info": {
   "codemirror_mode": {
    "name": "ipython",
    "version": 2
   },
   "file_extension": ".py",
   "mimetype": "text/x-python",
   "name": "python",
   "nbconvert_exporter": "python",
   "pygments_lexer": "ipython2",
   "version": "2.7.6"
  },
  "kernelspec": {
   "name": "python3",
   "language": "python",
   "display_name": "Python 3"
  },
  "pycharm": {
   "stem_cell": {
    "cell_type": "raw",
    "source": [],
    "metadata": {
     "collapsed": false
    }
   }
  }
 },
 "nbformat": 4,
 "nbformat_minor": 0
}